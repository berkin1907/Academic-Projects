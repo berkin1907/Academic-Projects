{
  "nbformat": 4,
  "nbformat_minor": 0,
  "metadata": {
    "colab": {
      "provenance": []
    },
    "kernelspec": {
      "name": "python3",
      "display_name": "Python 3"
    },
    "language_info": {
      "name": "python"
    }
  },
  "cells": [
    {
      "cell_type": "code",
      "execution_count": 75,
      "metadata": {
        "colab": {
          "base_uri": "https://localhost:8080/"
        },
        "id": "ZrnwgucJZ9Xy",
        "outputId": "38f80d40-34a6-4d23-b81a-e605db91a3ac"
      },
      "outputs": [
        {
          "output_type": "stream",
          "name": "stdout",
          "text": [
            "Drive already mounted at /content/drive; to attempt to forcibly remount, call drive.mount(\"/content/drive\", force_remount=True).\n"
          ]
        }
      ],
      "source": [
        "from google.colab import drive\n",
        "drive.mount('/content/drive')"
      ]
    },
    {
      "cell_type": "code",
      "source": [
        "!ls /content/drive"
      ],
      "metadata": {
        "colab": {
          "base_uri": "https://localhost:8080/"
        },
        "id": "1D5EMVYgZ_Ip",
        "outputId": "e7b22bf2-a89b-43dd-8250-4d1095473d8c"
      },
      "execution_count": 76,
      "outputs": [
        {
          "output_type": "stream",
          "name": "stdout",
          "text": [
            "MyDrive\n"
          ]
        }
      ]
    },
    {
      "cell_type": "code",
      "source": [
        "!ls /content/drive/MyDrive"
      ],
      "metadata": {
        "colab": {
          "base_uri": "https://localhost:8080/"
        },
        "id": "BgDPd0ymaJ4X",
        "outputId": "77175747-5c96-4b78-d38e-6a97931ac8b0"
      },
      "execution_count": 77,
      "outputs": [
        {
          "output_type": "stream",
          "name": "stdout",
          "text": [
            " 02120546-2022-AP-RMFE.gdoc\n",
            "'02120546-2022-AP RMFE（副本）.gdoc'\n",
            " 1.18-1.21账单.gsheet\n",
            "'1.3-1.10 账单.gsheet'\n",
            " 2021-12-03_inventory.pdf.zip\n",
            " 2023计划表.gsheet\n",
            "'2.21 small pre.gdoc'\n",
            "'2 8 meeting notes.gdoc'\n",
            "'Ali Template Preliminary Round.gslides'\n",
            "'Application Record.gsheet'\n",
            "'Asset Magt-Yifei Li.gdoc'\n",
            " Barclays.gdoc\n",
            "'Colab Notebooks'\n",
            " Communication.gdoc\n",
            "'Corporate Investment Report.gdoc'\n",
            "'Corporate Investment Report 修改版本 - 柱形图 1 (1).gsheet'\n",
            "'Corporate Investment Report 修改版本 - 柱形图 1.gsheet'\n",
            "'Corporate Investment Report 修改版本 - 饼图 1 (1).gsheet'\n",
            "'Corporate Investment Report 修改版本 - 饼图 1.gsheet'\n",
            " DATA\n",
            "'DATA & Structure.gsheet'\n",
            " DM-Channels.gdoc\n",
            " Final.gdoc\n",
            "'Final Report.gdoc'\n",
            "'Investment_Banking_Yifei Li .pptx'\n",
            " Li_Yifei.pdf\n",
            "'log of meeting.gdoc'\n",
            "'Meeting 3 9.gdoc'\n",
            "'Morgan Stanley MSFS Portfolio Analytics Role.gdoc'\n",
            " NY租房.gdoc\n",
            "'Phase 2 Q1.gdoc'\n",
            "'Phase 3 Report - ddl 2.16.gdoc'\n",
            "'Phase 5 Report - ddl 3.30.gdoc'\n",
            "'PM-Customer Journey Mapping .gdoc'\n",
            "'Product Magt-Lecture1.gdoc'\n",
            " Project.gdoc\n",
            " Q3-Yifei.gdoc\n",
            "'Q4 (1).gdoc'\n",
            "'Q4 draft.gdoc'\n",
            " Q4.gdoc\n",
            " Questions.gdoc\n",
            " RBS.gdoc\n",
            "'SKODA advertising slogan.gdoc'\n",
            "'The 2007 Hedge Fund Quant Meltdown.gdoc'\n",
            "'The aquisition of Zoox by Amazon.gdoc'\n",
            " Yifei_Li_BA_Assignment_4.gdoc\n",
            "'YIFEI LI CV 1页修改.pdf'\n",
            "'YIFEI LI CV2页版本.pdf'\n",
            "'Yifei Li CV new copy 3.pdf'\n",
            "'Yifei Li CV new copy 4.docx'\n",
            "'Yifei Li CV new copy 5.docx'\n",
            "'Yifei Li_CV.pdf'\n",
            "'待办事项列表 (1).gsheet'\n",
            " 待办事项列表.gsheet\n",
            "'无标题演示文稿 (1).gslides'\n",
            "'无标题演示文稿 (2).gslides'\n",
            " 无标题演示文稿.gslides\n",
            " 甘特图.gsheet\n",
            " 纽约租房.gsheet\n"
          ]
        }
      ]
    },
    {
      "cell_type": "code",
      "source": [
        "!ls /content/drive/MyDrive/'DATA'"
      ],
      "metadata": {
        "colab": {
          "base_uri": "https://localhost:8080/"
        },
        "id": "fDHF9C9XaOQO",
        "outputId": "58ae0c86-7796-471d-b9c9-c3cfb7abb0d1"
      },
      "execution_count": 78,
      "outputs": [
        {
          "output_type": "stream",
          "name": "stdout",
          "text": [
            " BTCBUSD#F      BTCUSDT#F     'BTCUSDT#F 3'  'BTCUSDT#S 2'  'ETHUSDT#F 2'\n",
            "'BTCBUSD#F 2'  'BTCUSDT#F 2'   BTCUSDT#S      ETHUSDT#F     'ETHUSDT#F 3'\n"
          ]
        }
      ]
    },
    {
      "cell_type": "code",
      "source": [
        "path = \"/content/drive/MyDrive/DATA/*/\"\n",
        "glob(os.path.join(path, '*ticker*.parquet'))"
      ],
      "metadata": {
        "colab": {
          "base_uri": "https://localhost:8080/"
        },
        "id": "BZUWfcV4bLe5",
        "outputId": "d521b85f-f5e4-47ea-f181-493ff96f7945"
      },
      "execution_count": 93,
      "outputs": [
        {
          "output_type": "execute_result",
          "data": {
            "text/plain": [
              "['/content/drive/MyDrive/DATA/BTCBUSD#F 2/2022_11_29_book_ticker_stream.parquet',\n",
              " '/content/drive/MyDrive/DATA/BTCBUSD#F 2/2022_11_28_book_ticker_stream.parquet',\n",
              " '/content/drive/MyDrive/DATA/BTCBUSD#F 2/2022_11_27_book_ticker_stream.parquet',\n",
              " '/content/drive/MyDrive/DATA/BTCBUSD#F 2/2022_11_26_book_ticker_stream.parquet',\n",
              " '/content/drive/MyDrive/DATA/BTCBUSD#F 2/2022_11_25_book_ticker_stream.parquet',\n",
              " '/content/drive/MyDrive/DATA/BTCBUSD#F 2/2022_11_24_book_ticker_stream.parquet',\n",
              " '/content/drive/MyDrive/DATA/BTCBUSD#F 2/2022_11_23_book_ticker_stream.parquet',\n",
              " '/content/drive/MyDrive/DATA/BTCBUSD#F 2/2022_11_22_book_ticker_stream.parquet',\n",
              " '/content/drive/MyDrive/DATA/BTCBUSD#F 2/2022_11_21_book_ticker_stream.parquet',\n",
              " '/content/drive/MyDrive/DATA/BTCBUSD#F 2/2022_11_20_book_ticker_stream.parquet',\n",
              " '/content/drive/MyDrive/DATA/BTCUSDT#F 2/2022_11_28_book_ticker_stream.parquet',\n",
              " '/content/drive/MyDrive/DATA/BTCUSDT#F 2/2022_11_27_book_ticker_stream.parquet',\n",
              " '/content/drive/MyDrive/DATA/BTCUSDT#F 2/2022_11_26_book_ticker_stream.parquet',\n",
              " '/content/drive/MyDrive/DATA/BTCUSDT#F 2/2022_11_25_book_ticker_stream.parquet',\n",
              " '/content/drive/MyDrive/DATA/BTCUSDT#F 2/2022_11_24_book_ticker_stream.parquet',\n",
              " '/content/drive/MyDrive/DATA/BTCUSDT#F 2/2022_11_20_book_ticker_stream.parquet']"
            ]
          },
          "metadata": {},
          "execution_count": 93
        }
      ]
    },
    {
      "cell_type": "code",
      "source": [
        "import pandas as pd\n",
        "from glob import glob\n",
        "import os\n",
        "import math\n",
        "from tqdm import tqdm"
      ],
      "metadata": {
        "id": "E2ieWa4gagfs"
      },
      "execution_count": 94,
      "outputs": []
    },
    {
      "cell_type": "code",
      "source": [
        "def readFile(path):\n",
        "    data = pd.read_parquet(path)\n",
        "    data['ReceiveTime'] = data['ReceiveTime'].map(lambda x: math.floor(x))\n",
        "    data.sort_index(ascending=True)\n",
        "    data.drop_duplicates(subset=['ReceiveTime'], keep='first', inplace=True)\n",
        "    return data"
      ],
      "metadata": {
        "id": "1yxuZLbBash-"
      },
      "execution_count": 95,
      "outputs": []
    },
    {
      "cell_type": "code",
      "source": [
        "def process_ticker(path):\n",
        "    data = readFile(path)\n",
        "    data['price'] = (data['BidPx'] + data['AskPx'])/2\n",
        "    price = data.loc[:, 'price']\n",
        "    for index, row in tqdm(data.iterrows(), total=data.shape[0]):\n",
        "        match = data.loc[data['EventTime']>=row['ReceiveTime']+10000].copy()\n",
        "        cur_price = row['price']\n",
        "        match['price_change'] = (match['price']-cur_price)/cur_price\n",
        "        print('price_change', match['price_change'])"
      ],
      "metadata": {
        "id": "cfBjfpotau5p"
      },
      "execution_count": 96,
      "outputs": []
    },
    {
      "cell_type": "code",
      "source": [
        "def process_depth(path):\n",
        "    data = readFile(path)\n",
        "    data['price'] = (data['BidPx0']+data['AskPx0'])/2\n",
        "    for index, row in tqdm(data.iterrows(), total=data.shape[0]):\n",
        "        match = data.loc[data['EventTime']>=row['ReceiveTime']+10000].copy()\n",
        "        cur_price = row['price']\n",
        "        match['price_change'] = (match['price']-cur_price)/cur_price"
      ],
      "metadata": {
        "id": "hL7nl60Wa7wF"
      },
      "execution_count": 97,
      "outputs": []
    },
    {
      "cell_type": "code",
      "source": [
        "if __name__ == '__main__':\n",
        "    path = \"/content/drive/MyDrive/DATA/*/\"\n",
        "    tickers = glob(os.path.join(path, '*ticker*.parquet'))\n",
        "    depths = glob(os.path.join(path, '*depth*.parquet'))\n",
        "    for ticker in tickers:\n",
        "        process_ticker(ticker)\n",
        "    for depth in depths:\n",
        "        process_depth(depth)"
      ],
      "metadata": {
        "colab": {
          "base_uri": "https://localhost:8080/"
        },
        "id": "9eawNzpFbI-u",
        "outputId": "25073465-a85e-499f-e8f8-c47feb19f429"
      },
      "execution_count": null,
      "outputs": [
        {
          "output_type": "stream",
          "name": "stderr",
          "text": [
            "  0%|          | 1/2856834 [00:00<554:06:46,  1.43it/s]"
          ]
        },
        {
          "output_type": "stream",
          "name": "stdout",
          "text": [
            "price_change 571       -0.000327\n",
            "572       -0.000327\n",
            "576       -0.000327\n",
            "579       -0.000327\n",
            "582       -0.000327\n",
            "             ...   \n",
            "3808174    0.013848\n",
            "3808175    0.013848\n",
            "3808176    0.013848\n",
            "3808177    0.013848\n",
            "3808178    0.013848\n",
            "Name: price_change, Length: 2856429, dtype: float64\n"
          ]
        },
        {
          "output_type": "stream",
          "name": "stderr",
          "text": [
            "\r  0%|          | 2/2856834 [00:01<528:38:24,  1.50it/s]"
          ]
        },
        {
          "output_type": "stream",
          "name": "stdout",
          "text": [
            "price_change 1016      -0.000562\n",
            "1017      -0.000562\n",
            "1018      -0.000562\n",
            "1019      -0.000562\n",
            "1020      -0.000562\n",
            "             ...   \n",
            "3808174    0.013848\n",
            "3808175    0.013848\n",
            "3808176    0.013848\n",
            "3808177    0.013848\n",
            "3808178    0.013848\n",
            "Name: price_change, Length: 2856115, dtype: float64\n"
          ]
        },
        {
          "output_type": "stream",
          "name": "stderr",
          "text": [
            "\r  0%|          | 3/2856834 [00:01<464:21:49,  1.71it/s]"
          ]
        },
        {
          "output_type": "stream",
          "name": "stdout",
          "text": [
            "price_change 1056      -0.000562\n",
            "1057      -0.000562\n",
            "1058      -0.000562\n",
            "1059      -0.000562\n",
            "1060      -0.000562\n",
            "             ...   \n",
            "3808174    0.013848\n",
            "3808175    0.013848\n",
            "3808176    0.013848\n",
            "3808177    0.013848\n",
            "3808178    0.013848\n",
            "Name: price_change, Length: 2856076, dtype: float64\n"
          ]
        },
        {
          "output_type": "stream",
          "name": "stderr",
          "text": [
            "\r  0%|          | 4/2856834 [00:02<435:02:59,  1.82it/s]"
          ]
        },
        {
          "output_type": "stream",
          "name": "stdout",
          "text": [
            "price_change 1056      -0.000562\n",
            "1057      -0.000562\n",
            "1058      -0.000562\n",
            "1059      -0.000562\n",
            "1060      -0.000562\n",
            "             ...   \n",
            "3808174    0.013848\n",
            "3808175    0.013848\n",
            "3808176    0.013848\n",
            "3808177    0.013848\n",
            "3808178    0.013848\n",
            "Name: price_change, Length: 2856076, dtype: float64\n"
          ]
        },
        {
          "output_type": "stream",
          "name": "stderr",
          "text": [
            "\r  0%|          | 5/2856834 [00:02<387:11:50,  2.05it/s]"
          ]
        },
        {
          "output_type": "stream",
          "name": "stdout",
          "text": [
            "price_change 1056      -0.000562\n",
            "1057      -0.000562\n",
            "1058      -0.000562\n",
            "1059      -0.000562\n",
            "1060      -0.000562\n",
            "             ...   \n",
            "3808174    0.013848\n",
            "3808175    0.013848\n",
            "3808176    0.013848\n",
            "3808177    0.013848\n",
            "3808178    0.013848\n",
            "Name: price_change, Length: 2856076, dtype: float64\n"
          ]
        },
        {
          "output_type": "stream",
          "name": "stderr",
          "text": [
            "\r  0%|          | 6/2856834 [00:03<355:06:37,  2.23it/s]"
          ]
        },
        {
          "output_type": "stream",
          "name": "stdout",
          "text": [
            "price_change 1056      -0.000562\n",
            "1057      -0.000562\n",
            "1058      -0.000562\n",
            "1059      -0.000562\n",
            "1060      -0.000562\n",
            "             ...   \n",
            "3808174    0.013848\n",
            "3808175    0.013848\n",
            "3808176    0.013848\n",
            "3808177    0.013848\n",
            "3808178    0.013848\n",
            "Name: price_change, Length: 2856076, dtype: float64\n"
          ]
        },
        {
          "output_type": "stream",
          "name": "stderr",
          "text": [
            "\r  0%|          | 7/2856834 [00:03<333:11:28,  2.38it/s]"
          ]
        },
        {
          "output_type": "stream",
          "name": "stdout",
          "text": [
            "price_change 1057      -0.000562\n",
            "1058      -0.000562\n",
            "1059      -0.000562\n",
            "1060      -0.000562\n",
            "1061      -0.000562\n",
            "             ...   \n",
            "3808174    0.013848\n",
            "3808175    0.013848\n",
            "3808176    0.013848\n",
            "3808177    0.013848\n",
            "3808178    0.013848\n",
            "Name: price_change, Length: 2856075, dtype: float64\n"
          ]
        },
        {
          "output_type": "stream",
          "name": "stderr",
          "text": [
            "\r  0%|          | 8/2856834 [00:03<361:10:06,  2.20it/s]"
          ]
        },
        {
          "output_type": "stream",
          "name": "stdout",
          "text": [
            "price_change 1058      -0.000562\n",
            "1059      -0.000562\n",
            "1060      -0.000562\n",
            "1061      -0.000562\n",
            "1062      -0.000562\n",
            "             ...   \n",
            "3808174    0.013848\n",
            "3808175    0.013848\n",
            "3808176    0.013848\n",
            "3808177    0.013848\n",
            "3808178    0.013848\n",
            "Name: price_change, Length: 2856074, dtype: float64\n"
          ]
        },
        {
          "output_type": "stream",
          "name": "stderr",
          "text": [
            "\r  0%|          | 9/2856834 [00:04<376:33:03,  2.11it/s]"
          ]
        },
        {
          "output_type": "stream",
          "name": "stdout",
          "text": [
            "price_change 1058      -0.000562\n",
            "1059      -0.000562\n",
            "1060      -0.000562\n",
            "1061      -0.000562\n",
            "1062      -0.000562\n",
            "             ...   \n",
            "3808174    0.013848\n",
            "3808175    0.013848\n",
            "3808176    0.013848\n",
            "3808177    0.013848\n",
            "3808178    0.013848\n",
            "Name: price_change, Length: 2856074, dtype: float64\n"
          ]
        },
        {
          "output_type": "stream",
          "name": "stderr",
          "text": [
            "\r  0%|          | 10/2856834 [00:04<351:38:40,  2.26it/s]"
          ]
        },
        {
          "output_type": "stream",
          "name": "stdout",
          "text": [
            "price_change 1058      -0.000562\n",
            "1059      -0.000562\n",
            "1060      -0.000562\n",
            "1061      -0.000562\n",
            "1062      -0.000562\n",
            "             ...   \n",
            "3808174    0.013848\n",
            "3808175    0.013848\n",
            "3808176    0.013848\n",
            "3808177    0.013848\n",
            "3808178    0.013848\n",
            "Name: price_change, Length: 2856074, dtype: float64\n"
          ]
        },
        {
          "output_type": "stream",
          "name": "stderr",
          "text": [
            "\r  0%|          | 11/2856834 [00:05<481:09:48,  1.65it/s]"
          ]
        },
        {
          "output_type": "stream",
          "name": "stdout",
          "text": [
            "price_change 1058      -0.000562\n",
            "1059      -0.000562\n",
            "1060      -0.000562\n",
            "1061      -0.000562\n",
            "1062      -0.000562\n",
            "             ...   \n",
            "3808174    0.013848\n",
            "3808175    0.013848\n",
            "3808176    0.013848\n",
            "3808177    0.013848\n",
            "3808178    0.013848\n",
            "Name: price_change, Length: 2856074, dtype: float64\n"
          ]
        },
        {
          "output_type": "stream",
          "name": "stderr",
          "text": [
            "\r  0%|          | 12/2856834 [00:07<754:28:47,  1.05it/s]"
          ]
        },
        {
          "output_type": "stream",
          "name": "stdout",
          "text": [
            "price_change 1058      -0.000562\n",
            "1059      -0.000562\n",
            "1060      -0.000562\n",
            "1061      -0.000562\n",
            "1062      -0.000562\n",
            "             ...   \n",
            "3808174    0.013848\n",
            "3808175    0.013848\n",
            "3808176    0.013848\n",
            "3808177    0.013848\n",
            "3808178    0.013848\n",
            "Name: price_change, Length: 2856074, dtype: float64\n"
          ]
        },
        {
          "output_type": "stream",
          "name": "stderr",
          "text": [
            "\r  0%|          | 13/2856834 [00:08<831:40:58,  1.05s/it]"
          ]
        },
        {
          "output_type": "stream",
          "name": "stdout",
          "text": [
            "price_change 1059      -0.000562\n",
            "1060      -0.000562\n",
            "1061      -0.000562\n",
            "1062      -0.000562\n",
            "1063      -0.000562\n",
            "             ...   \n",
            "3808174    0.013848\n",
            "3808175    0.013848\n",
            "3808176    0.013848\n",
            "3808177    0.013848\n",
            "3808178    0.013848\n",
            "Name: price_change, Length: 2856073, dtype: float64\n"
          ]
        },
        {
          "output_type": "stream",
          "name": "stderr",
          "text": [
            "\r  0%|          | 14/2856834 [00:10<883:03:35,  1.11s/it]"
          ]
        },
        {
          "output_type": "stream",
          "name": "stdout",
          "text": [
            "price_change 1059      -0.000562\n",
            "1060      -0.000562\n",
            "1061      -0.000562\n",
            "1062      -0.000562\n",
            "1063      -0.000562\n",
            "             ...   \n",
            "3808174    0.013848\n",
            "3808175    0.013848\n",
            "3808176    0.013848\n",
            "3808177    0.013848\n",
            "3808178    0.013848\n",
            "Name: price_change, Length: 2856073, dtype: float64\n"
          ]
        },
        {
          "output_type": "stream",
          "name": "stderr",
          "text": [
            "\r  0%|          | 15/2856834 [00:11<866:48:15,  1.09s/it]"
          ]
        },
        {
          "output_type": "stream",
          "name": "stdout",
          "text": [
            "price_change 1059      -0.000562\n",
            "1060      -0.000562\n",
            "1061      -0.000562\n",
            "1062      -0.000562\n",
            "1063      -0.000562\n",
            "             ...   \n",
            "3808174    0.013848\n",
            "3808175    0.013848\n",
            "3808176    0.013848\n",
            "3808177    0.013848\n",
            "3808178    0.013848\n",
            "Name: price_change, Length: 2856073, dtype: float64\n"
          ]
        },
        {
          "output_type": "stream",
          "name": "stderr",
          "text": [
            "\r  0%|          | 16/2856834 [00:12<872:00:35,  1.10s/it]"
          ]
        },
        {
          "output_type": "stream",
          "name": "stdout",
          "text": [
            "price_change 1059      -0.000562\n",
            "1060      -0.000562\n",
            "1061      -0.000562\n",
            "1062      -0.000562\n",
            "1063      -0.000562\n",
            "             ...   \n",
            "3808174    0.013848\n",
            "3808175    0.013848\n",
            "3808176    0.013848\n",
            "3808177    0.013848\n",
            "3808178    0.013848\n",
            "Name: price_change, Length: 2856073, dtype: float64\n"
          ]
        },
        {
          "output_type": "stream",
          "name": "stderr",
          "text": [
            "\r  0%|          | 17/2856834 [00:13<995:23:30,  1.25s/it]"
          ]
        },
        {
          "output_type": "stream",
          "name": "stdout",
          "text": [
            "price_change 1059      -0.000562\n",
            "1060      -0.000562\n",
            "1061      -0.000562\n",
            "1062      -0.000562\n",
            "1063      -0.000562\n",
            "             ...   \n",
            "3808174    0.013848\n",
            "3808175    0.013848\n",
            "3808176    0.013848\n",
            "3808177    0.013848\n",
            "3808178    0.013848\n",
            "Name: price_change, Length: 2856073, dtype: float64\n"
          ]
        },
        {
          "output_type": "stream",
          "name": "stderr",
          "text": [
            "\r  0%|          | 18/2856834 [00:16<1349:01:41,  1.70s/it]"
          ]
        },
        {
          "output_type": "stream",
          "name": "stdout",
          "text": [
            "price_change 1059      -0.000562\n",
            "1060      -0.000562\n",
            "1061      -0.000562\n",
            "1062      -0.000562\n",
            "1063      -0.000562\n",
            "             ...   \n",
            "3808174    0.013848\n",
            "3808175    0.013848\n",
            "3808176    0.013848\n",
            "3808177    0.013848\n",
            "3808178    0.013848\n",
            "Name: price_change, Length: 2856073, dtype: float64\n"
          ]
        },
        {
          "output_type": "stream",
          "name": "stderr",
          "text": [
            "\r  0%|          | 19/2856834 [00:17<1176:34:30,  1.48s/it]"
          ]
        },
        {
          "output_type": "stream",
          "name": "stdout",
          "text": [
            "price_change 1059      -0.000562\n",
            "1060      -0.000562\n",
            "1061      -0.000562\n",
            "1062      -0.000562\n",
            "1063      -0.000562\n",
            "             ...   \n",
            "3808174    0.013848\n",
            "3808175    0.013848\n",
            "3808176    0.013848\n",
            "3808177    0.013848\n",
            "3808178    0.013848\n",
            "Name: price_change, Length: 2856073, dtype: float64\n"
          ]
        },
        {
          "output_type": "stream",
          "name": "stderr",
          "text": [
            "\r  0%|          | 20/2856834 [00:19<1226:32:18,  1.55s/it]"
          ]
        },
        {
          "output_type": "stream",
          "name": "stdout",
          "text": [
            "price_change 1059      -0.000562\n",
            "1060      -0.000562\n",
            "1061      -0.000562\n",
            "1062      -0.000562\n",
            "1063      -0.000562\n",
            "             ...   \n",
            "3808174    0.013848\n",
            "3808175    0.013848\n",
            "3808176    0.013848\n",
            "3808177    0.013848\n",
            "3808178    0.013848\n",
            "Name: price_change, Length: 2856073, dtype: float64\n"
          ]
        },
        {
          "output_type": "stream",
          "name": "stderr",
          "text": [
            "\r  0%|          | 21/2856834 [00:20<1098:45:18,  1.38s/it]"
          ]
        },
        {
          "output_type": "stream",
          "name": "stdout",
          "text": [
            "price_change 1059      -0.000562\n",
            "1060      -0.000562\n",
            "1061      -0.000562\n",
            "1062      -0.000562\n",
            "1063      -0.000562\n",
            "             ...   \n",
            "3808174    0.013848\n",
            "3808175    0.013848\n",
            "3808176    0.013848\n",
            "3808177    0.013848\n",
            "3808178    0.013848\n",
            "Name: price_change, Length: 2856073, dtype: float64\n"
          ]
        },
        {
          "output_type": "stream",
          "name": "stderr",
          "text": [
            "\r  0%|          | 22/2856834 [00:21<1016:18:08,  1.28s/it]"
          ]
        },
        {
          "output_type": "stream",
          "name": "stdout",
          "text": [
            "price_change 1059      -0.000562\n",
            "1060      -0.000562\n",
            "1061      -0.000562\n",
            "1062      -0.000562\n",
            "1063      -0.000562\n",
            "             ...   \n",
            "3808174    0.013848\n",
            "3808175    0.013848\n",
            "3808176    0.013848\n",
            "3808177    0.013848\n",
            "3808178    0.013848\n",
            "Name: price_change, Length: 2856073, dtype: float64\n"
          ]
        },
        {
          "output_type": "stream",
          "name": "stderr",
          "text": [
            "\r  0%|          | 23/2856834 [00:22<887:31:34,  1.12s/it] "
          ]
        },
        {
          "output_type": "stream",
          "name": "stdout",
          "text": [
            "price_change 1060      -0.000562\n",
            "1061      -0.000562\n",
            "1062      -0.000562\n",
            "1063      -0.000562\n",
            "1064      -0.000611\n",
            "             ...   \n",
            "3808174    0.013848\n",
            "3808175    0.013848\n",
            "3808176    0.013848\n",
            "3808177    0.013848\n",
            "3808178    0.013848\n",
            "Name: price_change, Length: 2856072, dtype: float64\n"
          ]
        },
        {
          "output_type": "stream",
          "name": "stderr",
          "text": [
            "\r  0%|          | 24/2856834 [00:22<738:53:08,  1.07it/s]"
          ]
        },
        {
          "output_type": "stream",
          "name": "stdout",
          "text": [
            "price_change 1060      -0.000562\n",
            "1061      -0.000562\n",
            "1062      -0.000562\n",
            "1063      -0.000562\n",
            "1064      -0.000611\n",
            "             ...   \n",
            "3808174    0.013848\n",
            "3808175    0.013848\n",
            "3808176    0.013848\n",
            "3808177    0.013848\n",
            "3808178    0.013848\n",
            "Name: price_change, Length: 2856072, dtype: float64\n"
          ]
        },
        {
          "output_type": "stream",
          "name": "stderr",
          "text": [
            "\r  0%|          | 25/2856834 [00:22<601:27:22,  1.32it/s]"
          ]
        },
        {
          "output_type": "stream",
          "name": "stdout",
          "text": [
            "price_change 1060      -0.000562\n",
            "1061      -0.000562\n",
            "1062      -0.000562\n",
            "1063      -0.000562\n",
            "1064      -0.000611\n",
            "             ...   \n",
            "3808174    0.013848\n",
            "3808175    0.013848\n",
            "3808176    0.013848\n",
            "3808177    0.013848\n",
            "3808178    0.013848\n",
            "Name: price_change, Length: 2856072, dtype: float64\n"
          ]
        },
        {
          "output_type": "stream",
          "name": "stderr",
          "text": [
            "\r  0%|          | 26/2856834 [00:23<507:20:34,  1.56it/s]"
          ]
        },
        {
          "output_type": "stream",
          "name": "stdout",
          "text": [
            "price_change 1060      -0.000562\n",
            "1061      -0.000562\n",
            "1062      -0.000562\n",
            "1063      -0.000562\n",
            "1064      -0.000611\n",
            "             ...   \n",
            "3808174    0.013848\n",
            "3808175    0.013848\n",
            "3808176    0.013848\n",
            "3808177    0.013848\n",
            "3808178    0.013848\n",
            "Name: price_change, Length: 2856072, dtype: float64\n"
          ]
        },
        {
          "output_type": "stream",
          "name": "stderr",
          "text": [
            "\r  0%|          | 27/2856834 [00:23<447:11:56,  1.77it/s]"
          ]
        },
        {
          "output_type": "stream",
          "name": "stdout",
          "text": [
            "price_change 1060      -0.000562\n",
            "1061      -0.000562\n",
            "1062      -0.000562\n",
            "1063      -0.000562\n",
            "1064      -0.000611\n",
            "             ...   \n",
            "3808174    0.013848\n",
            "3808175    0.013848\n",
            "3808176    0.013848\n",
            "3808177    0.013848\n",
            "3808178    0.013848\n",
            "Name: price_change, Length: 2856072, dtype: float64\n"
          ]
        },
        {
          "output_type": "stream",
          "name": "stderr",
          "text": [
            "\r  0%|          | 28/2856834 [00:24<440:12:42,  1.80it/s]"
          ]
        },
        {
          "output_type": "stream",
          "name": "stdout",
          "text": [
            "price_change 1060      -0.000562\n",
            "1061      -0.000562\n",
            "1062      -0.000562\n",
            "1063      -0.000562\n",
            "1064      -0.000611\n",
            "             ...   \n",
            "3808174    0.013848\n",
            "3808175    0.013848\n",
            "3808176    0.013848\n",
            "3808177    0.013848\n",
            "3808178    0.013848\n",
            "Name: price_change, Length: 2856072, dtype: float64\n"
          ]
        },
        {
          "output_type": "stream",
          "name": "stderr",
          "text": [
            "\r  0%|          | 29/2856834 [00:24<433:10:25,  1.83it/s]"
          ]
        },
        {
          "output_type": "stream",
          "name": "stdout",
          "text": [
            "price_change 1060      -0.000562\n",
            "1061      -0.000562\n",
            "1062      -0.000562\n",
            "1063      -0.000562\n",
            "1064      -0.000611\n",
            "             ...   \n",
            "3808174    0.013848\n",
            "3808175    0.013848\n",
            "3808176    0.013848\n",
            "3808177    0.013848\n",
            "3808178    0.013848\n",
            "Name: price_change, Length: 2856072, dtype: float64\n"
          ]
        },
        {
          "output_type": "stream",
          "name": "stderr",
          "text": [
            "\r  0%|          | 30/2856834 [00:25<431:52:43,  1.84it/s]"
          ]
        },
        {
          "output_type": "stream",
          "name": "stdout",
          "text": [
            "price_change 1060      -0.000562\n",
            "1061      -0.000562\n",
            "1062      -0.000562\n",
            "1063      -0.000562\n",
            "1064      -0.000611\n",
            "             ...   \n",
            "3808174    0.013848\n",
            "3808175    0.013848\n",
            "3808176    0.013848\n",
            "3808177    0.013848\n",
            "3808178    0.013848\n",
            "Name: price_change, Length: 2856072, dtype: float64\n"
          ]
        },
        {
          "output_type": "stream",
          "name": "stderr",
          "text": [
            "\r  0%|          | 31/2856834 [00:25<449:00:55,  1.77it/s]"
          ]
        },
        {
          "output_type": "stream",
          "name": "stdout",
          "text": [
            "price_change 1063      -0.000562\n",
            "1064      -0.000611\n",
            "1065      -0.000611\n",
            "1067      -0.000611\n",
            "1068      -0.000611\n",
            "             ...   \n",
            "3808174    0.013848\n",
            "3808175    0.013848\n",
            "3808176    0.013848\n",
            "3808177    0.013848\n",
            "3808178    0.013848\n",
            "Name: price_change, Length: 2856069, dtype: float64\n"
          ]
        },
        {
          "output_type": "stream",
          "name": "stderr",
          "text": [
            "\r  0%|          | 32/2856834 [00:26<445:13:13,  1.78it/s]"
          ]
        },
        {
          "output_type": "stream",
          "name": "stdout",
          "text": [
            "price_change 1063      -0.000562\n",
            "1064      -0.000611\n",
            "1065      -0.000611\n",
            "1067      -0.000611\n",
            "1068      -0.000611\n",
            "             ...   \n",
            "3808174    0.013848\n",
            "3808175    0.013848\n",
            "3808176    0.013848\n",
            "3808177    0.013848\n",
            "3808178    0.013848\n",
            "Name: price_change, Length: 2856069, dtype: float64\n"
          ]
        },
        {
          "output_type": "stream",
          "name": "stderr",
          "text": [
            "\r  0%|          | 33/2856834 [00:27<472:31:44,  1.68it/s]"
          ]
        },
        {
          "output_type": "stream",
          "name": "stdout",
          "text": [
            "price_change 1063      -0.000562\n",
            "1064      -0.000611\n",
            "1065      -0.000611\n",
            "1067      -0.000611\n",
            "1068      -0.000611\n",
            "             ...   \n",
            "3808174    0.013848\n",
            "3808175    0.013848\n",
            "3808176    0.013848\n",
            "3808177    0.013848\n",
            "3808178    0.013848\n",
            "Name: price_change, Length: 2856069, dtype: float64\n"
          ]
        },
        {
          "output_type": "stream",
          "name": "stderr",
          "text": [
            "\r  0%|          | 34/2856834 [00:27<411:36:44,  1.93it/s]"
          ]
        },
        {
          "output_type": "stream",
          "name": "stdout",
          "text": [
            "price_change 1063      -0.000562\n",
            "1064      -0.000611\n",
            "1065      -0.000611\n",
            "1067      -0.000611\n",
            "1068      -0.000611\n",
            "             ...   \n",
            "3808174    0.013848\n",
            "3808175    0.013848\n",
            "3808176    0.013848\n",
            "3808177    0.013848\n",
            "3808178    0.013848\n",
            "Name: price_change, Length: 2856069, dtype: float64\n"
          ]
        },
        {
          "output_type": "stream",
          "name": "stderr",
          "text": [
            "\r  0%|          | 35/2856834 [00:27<360:54:52,  2.20it/s]"
          ]
        },
        {
          "output_type": "stream",
          "name": "stdout",
          "text": [
            "price_change 1064      -0.000611\n",
            "1065      -0.000611\n",
            "1067      -0.000611\n",
            "1068      -0.000611\n",
            "1071      -0.000611\n",
            "             ...   \n",
            "3808174    0.013848\n",
            "3808175    0.013848\n",
            "3808176    0.013848\n",
            "3808177    0.013848\n",
            "3808178    0.013848\n",
            "Name: price_change, Length: 2856068, dtype: float64\n"
          ]
        },
        {
          "output_type": "stream",
          "name": "stderr",
          "text": [
            "\r  0%|          | 36/2856834 [00:28<327:10:44,  2.43it/s]"
          ]
        },
        {
          "output_type": "stream",
          "name": "stdout",
          "text": [
            "price_change 1064      -0.000611\n",
            "1065      -0.000611\n",
            "1067      -0.000611\n",
            "1068      -0.000611\n",
            "1071      -0.000611\n",
            "             ...   \n",
            "3808174    0.013848\n",
            "3808175    0.013848\n",
            "3808176    0.013848\n",
            "3808177    0.013848\n",
            "3808178    0.013848\n",
            "Name: price_change, Length: 2856068, dtype: float64\n"
          ]
        },
        {
          "output_type": "stream",
          "name": "stderr",
          "text": [
            "\r  0%|          | 37/2856834 [00:28<300:54:11,  2.64it/s]"
          ]
        },
        {
          "output_type": "stream",
          "name": "stdout",
          "text": [
            "price_change 1084      -0.000611\n",
            "1085      -0.000611\n",
            "1089      -0.000611\n",
            "1090      -0.000611\n",
            "1092      -0.000611\n",
            "             ...   \n",
            "3808174    0.013848\n",
            "3808175    0.013848\n",
            "3808176    0.013848\n",
            "3808177    0.013848\n",
            "3808178    0.013848\n",
            "Name: price_change, Length: 2856061, dtype: float64\n"
          ]
        },
        {
          "output_type": "stream",
          "name": "stderr",
          "text": [
            "\r  0%|          | 38/2856834 [00:28<284:11:02,  2.79it/s]"
          ]
        },
        {
          "output_type": "stream",
          "name": "stdout",
          "text": [
            "price_change 1102      -0.000611\n",
            "1103      -0.000611\n",
            "1104      -0.000611\n",
            "1105      -0.000611\n",
            "1106      -0.000611\n",
            "             ...   \n",
            "3808174    0.013848\n",
            "3808175    0.013848\n",
            "3808176    0.013848\n",
            "3808177    0.013848\n",
            "3808178    0.013848\n",
            "Name: price_change, Length: 2856049, dtype: float64\n"
          ]
        },
        {
          "output_type": "stream",
          "name": "stderr",
          "text": [
            "\r  0%|          | 39/2856834 [00:28<272:44:57,  2.91it/s]"
          ]
        },
        {
          "output_type": "stream",
          "name": "stdout",
          "text": [
            "price_change 1102      -0.000611\n",
            "1103      -0.000611\n",
            "1104      -0.000611\n",
            "1105      -0.000611\n",
            "1106      -0.000611\n",
            "             ...   \n",
            "3808174    0.013848\n",
            "3808175    0.013848\n",
            "3808176    0.013848\n",
            "3808177    0.013848\n",
            "3808178    0.013848\n",
            "Name: price_change, Length: 2856049, dtype: float64\n"
          ]
        },
        {
          "output_type": "stream",
          "name": "stderr",
          "text": [
            "\r  0%|          | 40/2856834 [00:29<263:07:48,  3.02it/s]"
          ]
        },
        {
          "output_type": "stream",
          "name": "stdout",
          "text": [
            "price_change 1103      -0.000611\n",
            "1104      -0.000611\n",
            "1105      -0.000611\n",
            "1106      -0.000611\n",
            "1107      -0.000611\n",
            "             ...   \n",
            "3808174    0.013848\n",
            "3808175    0.013848\n",
            "3808176    0.013848\n",
            "3808177    0.013848\n",
            "3808178    0.013848\n",
            "Name: price_change, Length: 2856048, dtype: float64\n"
          ]
        },
        {
          "output_type": "stream",
          "name": "stderr",
          "text": [
            "\r  0%|          | 41/2856834 [00:29<260:11:45,  3.05it/s]"
          ]
        },
        {
          "output_type": "stream",
          "name": "stdout",
          "text": [
            "price_change 1104      -0.000611\n",
            "1105      -0.000611\n",
            "1106      -0.000611\n",
            "1107      -0.000611\n",
            "1109      -0.000611\n",
            "             ...   \n",
            "3808174    0.013848\n",
            "3808175    0.013848\n",
            "3808176    0.013848\n",
            "3808177    0.013848\n",
            "3808178    0.013848\n",
            "Name: price_change, Length: 2856047, dtype: float64\n"
          ]
        },
        {
          "output_type": "stream",
          "name": "stderr",
          "text": [
            "\r  0%|          | 42/2856834 [00:29<253:35:17,  3.13it/s]"
          ]
        },
        {
          "output_type": "stream",
          "name": "stdout",
          "text": [
            "price_change 1105      -0.000611\n",
            "1106      -0.000611\n",
            "1107      -0.000611\n",
            "1109      -0.000611\n",
            "1112      -0.000611\n",
            "             ...   \n",
            "3808174    0.013848\n",
            "3808175    0.013848\n",
            "3808176    0.013848\n",
            "3808177    0.013848\n",
            "3808178    0.013848\n",
            "Name: price_change, Length: 2856046, dtype: float64\n"
          ]
        },
        {
          "output_type": "stream",
          "name": "stderr",
          "text": [
            "\r  0%|          | 43/2856834 [00:30<275:58:13,  2.88it/s]"
          ]
        },
        {
          "output_type": "stream",
          "name": "stdout",
          "text": [
            "price_change 1107      -0.000611\n",
            "1109      -0.000611\n",
            "1112      -0.000611\n",
            "1114      -0.000611\n",
            "1115      -0.000611\n",
            "             ...   \n",
            "3808174    0.013848\n",
            "3808175    0.013848\n",
            "3808176    0.013848\n",
            "3808177    0.013848\n",
            "3808178    0.013848\n",
            "Name: price_change, Length: 2856044, dtype: float64\n"
          ]
        },
        {
          "output_type": "stream",
          "name": "stderr",
          "text": [
            "\r  0%|          | 44/2856834 [00:30<301:52:01,  2.63it/s]"
          ]
        },
        {
          "output_type": "stream",
          "name": "stdout",
          "text": [
            "price_change 1116      -0.000611\n",
            "1119      -0.000611\n",
            "1120      -0.000611\n",
            "1121      -0.000611\n",
            "1122      -0.000611\n",
            "             ...   \n",
            "3808174    0.013848\n",
            "3808175    0.013848\n",
            "3808176    0.013848\n",
            "3808177    0.013848\n",
            "3808178    0.013848\n",
            "Name: price_change, Length: 2856039, dtype: float64\n"
          ]
        },
        {
          "output_type": "stream",
          "name": "stderr",
          "text": [
            "\r  0%|          | 45/2856834 [00:31<318:05:20,  2.49it/s]"
          ]
        },
        {
          "output_type": "stream",
          "name": "stdout",
          "text": [
            "price_change 1116      -0.000611\n",
            "1119      -0.000611\n",
            "1120      -0.000611\n",
            "1121      -0.000611\n",
            "1122      -0.000611\n",
            "             ...   \n",
            "3808174    0.013848\n",
            "3808175    0.013848\n",
            "3808176    0.013848\n",
            "3808177    0.013848\n",
            "3808178    0.013848\n",
            "Name: price_change, Length: 2856039, dtype: float64\n"
          ]
        },
        {
          "output_type": "stream",
          "name": "stderr",
          "text": [
            "\r  0%|          | 46/2856834 [00:31<330:20:12,  2.40it/s]"
          ]
        },
        {
          "output_type": "stream",
          "name": "stdout",
          "text": [
            "price_change 1116      -0.000611\n",
            "1119      -0.000611\n",
            "1120      -0.000611\n",
            "1121      -0.000611\n",
            "1122      -0.000611\n",
            "             ...   \n",
            "3808174    0.013848\n",
            "3808175    0.013848\n",
            "3808176    0.013848\n",
            "3808177    0.013848\n",
            "3808178    0.013848\n",
            "Name: price_change, Length: 2856039, dtype: float64\n"
          ]
        },
        {
          "output_type": "stream",
          "name": "stderr",
          "text": [
            "\r  0%|          | 47/2856834 [00:32<340:09:37,  2.33it/s]"
          ]
        },
        {
          "output_type": "stream",
          "name": "stdout",
          "text": [
            "price_change 1116      -0.000611\n",
            "1119      -0.000611\n",
            "1120      -0.000611\n",
            "1121      -0.000611\n",
            "1122      -0.000611\n",
            "             ...   \n",
            "3808174    0.013848\n",
            "3808175    0.013848\n",
            "3808176    0.013848\n",
            "3808177    0.013848\n",
            "3808178    0.013848\n",
            "Name: price_change, Length: 2856039, dtype: float64\n"
          ]
        },
        {
          "output_type": "stream",
          "name": "stderr",
          "text": [
            "\r  0%|          | 48/2856834 [00:32<344:48:55,  2.30it/s]"
          ]
        },
        {
          "output_type": "stream",
          "name": "stdout",
          "text": [
            "price_change 1119      -0.000611\n",
            "1120      -0.000611\n",
            "1121      -0.000611\n",
            "1122      -0.000611\n",
            "1124      -0.000611\n",
            "             ...   \n",
            "3808174    0.013848\n",
            "3808175    0.013848\n",
            "3808176    0.013848\n",
            "3808177    0.013848\n",
            "3808178    0.013848\n",
            "Name: price_change, Length: 2856038, dtype: float64\n"
          ]
        },
        {
          "output_type": "stream",
          "name": "stderr",
          "text": [
            "\r  0%|          | 49/2856834 [00:33<411:22:14,  1.93it/s]"
          ]
        },
        {
          "output_type": "stream",
          "name": "stdout",
          "text": [
            "price_change 1119      -0.000611\n",
            "1120      -0.000611\n",
            "1121      -0.000611\n",
            "1122      -0.000611\n",
            "1124      -0.000611\n",
            "             ...   \n",
            "3808174    0.013848\n",
            "3808175    0.013848\n",
            "3808176    0.013848\n",
            "3808177    0.013848\n",
            "3808178    0.013848\n",
            "Name: price_change, Length: 2856038, dtype: float64\n"
          ]
        },
        {
          "output_type": "stream",
          "name": "stderr",
          "text": [
            "\r  0%|          | 50/2856834 [00:33<395:34:30,  2.01it/s]"
          ]
        },
        {
          "output_type": "stream",
          "name": "stdout",
          "text": [
            "price_change 1119      -0.000611\n",
            "1120      -0.000611\n",
            "1121      -0.000611\n",
            "1122      -0.000611\n",
            "1124      -0.000611\n",
            "             ...   \n",
            "3808174    0.013848\n",
            "3808175    0.013848\n",
            "3808176    0.013848\n",
            "3808177    0.013848\n",
            "3808178    0.013848\n",
            "Name: price_change, Length: 2856038, dtype: float64\n"
          ]
        },
        {
          "output_type": "stream",
          "name": "stderr",
          "text": [
            "\r  0%|          | 51/2856834 [00:34<423:42:34,  1.87it/s]"
          ]
        },
        {
          "output_type": "stream",
          "name": "stdout",
          "text": [
            "price_change 1119      -0.000611\n",
            "1120      -0.000611\n",
            "1121      -0.000611\n",
            "1122      -0.000611\n",
            "1124      -0.000611\n",
            "             ...   \n",
            "3808174    0.013848\n",
            "3808175    0.013848\n",
            "3808176    0.013848\n",
            "3808177    0.013848\n",
            "3808178    0.013848\n",
            "Name: price_change, Length: 2856038, dtype: float64\n"
          ]
        },
        {
          "output_type": "stream",
          "name": "stderr",
          "text": [
            "\r  0%|          | 52/2856834 [00:34<384:25:11,  2.06it/s]"
          ]
        },
        {
          "output_type": "stream",
          "name": "stdout",
          "text": [
            "price_change 1120      -0.000611\n",
            "1121      -0.000611\n",
            "1122      -0.000611\n",
            "1124      -0.000611\n",
            "1125      -0.000611\n",
            "             ...   \n",
            "3808174    0.013848\n",
            "3808175    0.013848\n",
            "3808176    0.013848\n",
            "3808177    0.013848\n",
            "3808178    0.013848\n",
            "Name: price_change, Length: 2856037, dtype: float64\n"
          ]
        },
        {
          "output_type": "stream",
          "name": "stderr",
          "text": [
            "\r  0%|          | 53/2856834 [00:35<382:25:55,  2.08it/s]"
          ]
        },
        {
          "output_type": "stream",
          "name": "stdout",
          "text": [
            "price_change 1121      -0.000611\n",
            "1122      -0.000611\n",
            "1124      -0.000611\n",
            "1125      -0.000611\n",
            "1126      -0.000611\n",
            "             ...   \n",
            "3808174    0.013848\n",
            "3808175    0.013848\n",
            "3808176    0.013848\n",
            "3808177    0.013848\n",
            "3808178    0.013848\n",
            "Name: price_change, Length: 2856036, dtype: float64\n"
          ]
        },
        {
          "output_type": "stream",
          "name": "stderr",
          "text": [
            "\r  0%|          | 54/2856834 [00:35<340:15:41,  2.33it/s]"
          ]
        },
        {
          "output_type": "stream",
          "name": "stdout",
          "text": [
            "price_change 1124      -0.000611\n",
            "1125      -0.000611\n",
            "1126      -0.000611\n",
            "1127      -0.000611\n",
            "1128      -0.000611\n",
            "             ...   \n",
            "3808174    0.013848\n",
            "3808175    0.013848\n",
            "3808176    0.013848\n",
            "3808177    0.013848\n",
            "3808178    0.013848\n",
            "Name: price_change, Length: 2856034, dtype: float64\n"
          ]
        },
        {
          "output_type": "stream",
          "name": "stderr",
          "text": [
            "\r  0%|          | 55/2856834 [00:35<310:39:17,  2.55it/s]"
          ]
        },
        {
          "output_type": "stream",
          "name": "stdout",
          "text": [
            "price_change 1124      -0.000611\n",
            "1125      -0.000611\n",
            "1126      -0.000611\n",
            "1127      -0.000611\n",
            "1128      -0.000611\n",
            "             ...   \n",
            "3808174    0.013848\n",
            "3808175    0.013848\n",
            "3808176    0.013848\n",
            "3808177    0.013848\n",
            "3808178    0.013848\n",
            "Name: price_change, Length: 2856034, dtype: float64\n"
          ]
        },
        {
          "output_type": "stream",
          "name": "stderr",
          "text": [
            "\r  0%|          | 56/2856834 [00:36<288:52:02,  2.75it/s]"
          ]
        },
        {
          "output_type": "stream",
          "name": "stdout",
          "text": [
            "price_change 1124      -0.000611\n",
            "1125      -0.000611\n",
            "1126      -0.000611\n",
            "1127      -0.000611\n",
            "1128      -0.000611\n",
            "             ...   \n",
            "3808174    0.013848\n",
            "3808175    0.013848\n",
            "3808176    0.013848\n",
            "3808177    0.013848\n",
            "3808178    0.013848\n",
            "Name: price_change, Length: 2856034, dtype: float64\n"
          ]
        },
        {
          "output_type": "stream",
          "name": "stderr",
          "text": [
            "\r  0%|          | 57/2856834 [00:36<274:59:50,  2.89it/s]"
          ]
        },
        {
          "output_type": "stream",
          "name": "stdout",
          "text": [
            "price_change 1124      -0.000611\n",
            "1125      -0.000611\n",
            "1126      -0.000611\n",
            "1127      -0.000611\n",
            "1128      -0.000611\n",
            "             ...   \n",
            "3808174    0.013848\n",
            "3808175    0.013848\n",
            "3808176    0.013848\n",
            "3808177    0.013848\n",
            "3808178    0.013848\n",
            "Name: price_change, Length: 2856034, dtype: float64\n"
          ]
        },
        {
          "output_type": "stream",
          "name": "stderr",
          "text": [
            "\r  0%|          | 58/2856834 [00:36<265:28:19,  2.99it/s]"
          ]
        },
        {
          "output_type": "stream",
          "name": "stdout",
          "text": [
            "price_change 1124      -0.000611\n",
            "1125      -0.000611\n",
            "1126      -0.000611\n",
            "1127      -0.000611\n",
            "1128      -0.000611\n",
            "             ...   \n",
            "3808174    0.013848\n",
            "3808175    0.013848\n",
            "3808176    0.013848\n",
            "3808177    0.013848\n",
            "3808178    0.013848\n",
            "Name: price_change, Length: 2856034, dtype: float64\n"
          ]
        },
        {
          "output_type": "stream",
          "name": "stderr",
          "text": [
            "\r  0%|          | 59/2856834 [00:37<267:09:49,  2.97it/s]"
          ]
        },
        {
          "output_type": "stream",
          "name": "stdout",
          "text": [
            "price_change 1125      -0.000611\n",
            "1126      -0.000611\n",
            "1127      -0.000611\n",
            "1128      -0.000611\n",
            "1129      -0.000611\n",
            "             ...   \n",
            "3808174    0.013848\n",
            "3808175    0.013848\n",
            "3808176    0.013848\n",
            "3808177    0.013848\n",
            "3808178    0.013848\n",
            "Name: price_change, Length: 2856033, dtype: float64\n"
          ]
        },
        {
          "output_type": "stream",
          "name": "stderr",
          "text": [
            "\r  0%|          | 60/2856834 [00:37<275:15:24,  2.88it/s]"
          ]
        },
        {
          "output_type": "stream",
          "name": "stdout",
          "text": [
            "price_change 1125      -0.000611\n",
            "1126      -0.000611\n",
            "1127      -0.000611\n",
            "1128      -0.000611\n",
            "1129      -0.000611\n",
            "             ...   \n",
            "3808174    0.013848\n",
            "3808175    0.013848\n",
            "3808176    0.013848\n",
            "3808177    0.013848\n",
            "3808178    0.013848\n",
            "Name: price_change, Length: 2856033, dtype: float64\n"
          ]
        },
        {
          "output_type": "stream",
          "name": "stderr",
          "text": [
            "\r  0%|          | 61/2856834 [00:37<280:36:57,  2.83it/s]"
          ]
        },
        {
          "output_type": "stream",
          "name": "stdout",
          "text": [
            "price_change 1125      -0.000611\n",
            "1126      -0.000611\n",
            "1127      -0.000611\n",
            "1128      -0.000611\n",
            "1129      -0.000611\n",
            "             ...   \n",
            "3808174    0.013848\n",
            "3808175    0.013848\n",
            "3808176    0.013848\n",
            "3808177    0.013848\n",
            "3808178    0.013848\n",
            "Name: price_change, Length: 2856033, dtype: float64\n"
          ]
        },
        {
          "output_type": "stream",
          "name": "stderr",
          "text": [
            "\r  0%|          | 62/2856834 [00:38<282:30:13,  2.81it/s]"
          ]
        },
        {
          "output_type": "stream",
          "name": "stdout",
          "text": [
            "price_change 1125      -0.000611\n",
            "1126      -0.000611\n",
            "1127      -0.000611\n",
            "1128      -0.000611\n",
            "1129      -0.000611\n",
            "             ...   \n",
            "3808174    0.013848\n",
            "3808175    0.013848\n",
            "3808176    0.013848\n",
            "3808177    0.013848\n",
            "3808178    0.013848\n",
            "Name: price_change, Length: 2856033, dtype: float64\n"
          ]
        },
        {
          "output_type": "stream",
          "name": "stderr",
          "text": [
            "\r  0%|          | 63/2856834 [00:38<319:38:47,  2.48it/s]"
          ]
        },
        {
          "output_type": "stream",
          "name": "stdout",
          "text": [
            "price_change 1126      -0.000611\n",
            "1127      -0.000611\n",
            "1128      -0.000611\n",
            "1129      -0.000611\n",
            "1130      -0.000611\n",
            "             ...   \n",
            "3808174    0.013848\n",
            "3808175    0.013848\n",
            "3808176    0.013848\n",
            "3808177    0.013848\n",
            "3808178    0.013848\n",
            "Name: price_change, Length: 2856032, dtype: float64\n"
          ]
        },
        {
          "output_type": "stream",
          "name": "stderr",
          "text": [
            "\r  0%|          | 64/2856834 [00:39<346:30:28,  2.29it/s]"
          ]
        },
        {
          "output_type": "stream",
          "name": "stdout",
          "text": [
            "price_change 1126      -0.000611\n",
            "1127      -0.000611\n",
            "1128      -0.000611\n",
            "1129      -0.000611\n",
            "1130      -0.000611\n",
            "             ...   \n",
            "3808174    0.013848\n",
            "3808175    0.013848\n",
            "3808176    0.013848\n",
            "3808177    0.013848\n",
            "3808178    0.013848\n",
            "Name: price_change, Length: 2856032, dtype: float64\n"
          ]
        },
        {
          "output_type": "stream",
          "name": "stderr",
          "text": [
            "\r  0%|          | 65/2856834 [00:39<371:16:18,  2.14it/s]"
          ]
        },
        {
          "output_type": "stream",
          "name": "stdout",
          "text": [
            "price_change 1126      -0.000611\n",
            "1127      -0.000611\n",
            "1128      -0.000611\n",
            "1129      -0.000611\n",
            "1130      -0.000611\n",
            "             ...   \n",
            "3808174    0.013848\n",
            "3808175    0.013848\n",
            "3808176    0.013848\n",
            "3808177    0.013848\n",
            "3808178    0.013848\n",
            "Name: price_change, Length: 2856032, dtype: float64\n"
          ]
        },
        {
          "output_type": "stream",
          "name": "stderr",
          "text": [
            "\r  0%|          | 66/2856834 [00:40<380:09:37,  2.09it/s]"
          ]
        },
        {
          "output_type": "stream",
          "name": "stdout",
          "text": [
            "price_change 1126      -0.000611\n",
            "1127      -0.000611\n",
            "1128      -0.000611\n",
            "1129      -0.000611\n",
            "1130      -0.000611\n",
            "             ...   \n",
            "3808174    0.013848\n",
            "3808175    0.013848\n",
            "3808176    0.013848\n",
            "3808177    0.013848\n",
            "3808178    0.013848\n",
            "Name: price_change, Length: 2856032, dtype: float64\n"
          ]
        },
        {
          "output_type": "stream",
          "name": "stderr",
          "text": [
            "\r  0%|          | 67/2856834 [00:40<359:38:43,  2.21it/s]"
          ]
        },
        {
          "output_type": "stream",
          "name": "stdout",
          "text": [
            "price_change 1127      -0.000611\n",
            "1128      -0.000611\n",
            "1129      -0.000611\n",
            "1130      -0.000611\n",
            "1131      -0.000611\n",
            "             ...   \n",
            "3808174    0.013848\n",
            "3808175    0.013848\n",
            "3808176    0.013848\n",
            "3808177    0.013848\n",
            "3808178    0.013848\n",
            "Name: price_change, Length: 2856031, dtype: float64\n"
          ]
        },
        {
          "output_type": "stream",
          "name": "stderr",
          "text": [
            "\r  0%|          | 68/2856834 [00:41<337:54:41,  2.35it/s]"
          ]
        },
        {
          "output_type": "stream",
          "name": "stdout",
          "text": [
            "price_change 1127      -0.000611\n",
            "1128      -0.000611\n",
            "1129      -0.000611\n",
            "1130      -0.000611\n",
            "1131      -0.000611\n",
            "             ...   \n",
            "3808174    0.013848\n",
            "3808175    0.013848\n",
            "3808176    0.013848\n",
            "3808177    0.013848\n",
            "3808178    0.013848\n",
            "Name: price_change, Length: 2856031, dtype: float64\n"
          ]
        },
        {
          "output_type": "stream",
          "name": "stderr",
          "text": [
            "\r  0%|          | 69/2856834 [00:41<325:30:10,  2.44it/s]"
          ]
        },
        {
          "output_type": "stream",
          "name": "stdout",
          "text": [
            "price_change 1127      -0.000611\n",
            "1128      -0.000611\n",
            "1129      -0.000611\n",
            "1130      -0.000611\n",
            "1131      -0.000611\n",
            "             ...   \n",
            "3808174    0.013848\n",
            "3808175    0.013848\n",
            "3808176    0.013848\n",
            "3808177    0.013848\n",
            "3808178    0.013848\n",
            "Name: price_change, Length: 2856031, dtype: float64\n"
          ]
        },
        {
          "output_type": "stream",
          "name": "stderr",
          "text": [
            "\r  0%|          | 70/2856834 [00:41<338:01:03,  2.35it/s]"
          ]
        },
        {
          "output_type": "stream",
          "name": "stdout",
          "text": [
            "price_change 1129      -0.000611\n",
            "1130      -0.000611\n",
            "1131      -0.000611\n",
            "1132      -0.000611\n",
            "1133      -0.000611\n",
            "             ...   \n",
            "3808174    0.013848\n",
            "3808175    0.013848\n",
            "3808176    0.013848\n",
            "3808177    0.013848\n",
            "3808178    0.013848\n",
            "Name: price_change, Length: 2856029, dtype: float64\n"
          ]
        },
        {
          "output_type": "stream",
          "name": "stderr",
          "text": [
            "\r  0%|          | 71/2856834 [00:42<344:18:20,  2.30it/s]"
          ]
        },
        {
          "output_type": "stream",
          "name": "stdout",
          "text": [
            "price_change 1129      -0.000611\n",
            "1130      -0.000611\n",
            "1131      -0.000611\n",
            "1132      -0.000611\n",
            "1133      -0.000611\n",
            "             ...   \n",
            "3808174    0.013848\n",
            "3808175    0.013848\n",
            "3808176    0.013848\n",
            "3808177    0.013848\n",
            "3808178    0.013848\n",
            "Name: price_change, Length: 2856029, dtype: float64\n"
          ]
        },
        {
          "output_type": "stream",
          "name": "stderr",
          "text": [
            "\r  0%|          | 72/2856834 [00:42<324:01:03,  2.45it/s]"
          ]
        },
        {
          "output_type": "stream",
          "name": "stdout",
          "text": [
            "price_change 1130      -0.000611\n",
            "1131      -0.000611\n",
            "1132      -0.000611\n",
            "1133      -0.000611\n",
            "1134      -0.000611\n",
            "             ...   \n",
            "3808174    0.013848\n",
            "3808175    0.013848\n",
            "3808176    0.013848\n",
            "3808177    0.013848\n",
            "3808178    0.013848\n",
            "Name: price_change, Length: 2856028, dtype: float64\n"
          ]
        },
        {
          "output_type": "stream",
          "name": "stderr",
          "text": [
            "\r  0%|          | 73/2856834 [00:42<300:19:33,  2.64it/s]"
          ]
        },
        {
          "output_type": "stream",
          "name": "stdout",
          "text": [
            "price_change 1130      -0.000611\n",
            "1131      -0.000611\n",
            "1132      -0.000611\n",
            "1133      -0.000611\n",
            "1134      -0.000611\n",
            "             ...   \n",
            "3808174    0.013848\n",
            "3808175    0.013848\n",
            "3808176    0.013848\n",
            "3808177    0.013848\n",
            "3808178    0.013848\n",
            "Name: price_change, Length: 2856028, dtype: float64\n"
          ]
        },
        {
          "output_type": "stream",
          "name": "stderr",
          "text": [
            "\r  0%|          | 74/2856834 [00:43<286:47:58,  2.77it/s]"
          ]
        },
        {
          "output_type": "stream",
          "name": "stdout",
          "text": [
            "price_change 1130      -0.000611\n",
            "1131      -0.000611\n",
            "1132      -0.000611\n",
            "1133      -0.000611\n",
            "1134      -0.000611\n",
            "             ...   \n",
            "3808174    0.013848\n",
            "3808175    0.013848\n",
            "3808176    0.013848\n",
            "3808177    0.013848\n",
            "3808178    0.013848\n",
            "Name: price_change, Length: 2856028, dtype: float64\n"
          ]
        },
        {
          "output_type": "stream",
          "name": "stderr",
          "text": [
            "\r  0%|          | 75/2856834 [00:43<274:23:57,  2.89it/s]"
          ]
        },
        {
          "output_type": "stream",
          "name": "stdout",
          "text": [
            "price_change 1131      -0.000611\n",
            "1132      -0.000611\n",
            "1133      -0.000611\n",
            "1134      -0.000611\n",
            "1135      -0.000611\n",
            "             ...   \n",
            "3808174    0.013848\n",
            "3808175    0.013848\n",
            "3808176    0.013848\n",
            "3808177    0.013848\n",
            "3808178    0.013848\n",
            "Name: price_change, Length: 2856027, dtype: float64\n"
          ]
        },
        {
          "output_type": "stream",
          "name": "stderr",
          "text": [
            "\r  0%|          | 76/2856834 [00:43<266:06:55,  2.98it/s]"
          ]
        },
        {
          "output_type": "stream",
          "name": "stdout",
          "text": [
            "price_change 1132      -0.000611\n",
            "1133      -0.000611\n",
            "1134      -0.000611\n",
            "1135      -0.000611\n",
            "1136      -0.000611\n",
            "             ...   \n",
            "3808174    0.013848\n",
            "3808175    0.013848\n",
            "3808176    0.013848\n",
            "3808177    0.013848\n",
            "3808178    0.013848\n",
            "Name: price_change, Length: 2856026, dtype: float64\n"
          ]
        },
        {
          "output_type": "stream",
          "name": "stderr",
          "text": [
            "\r  0%|          | 77/2856834 [00:44<259:31:23,  3.06it/s]"
          ]
        },
        {
          "output_type": "stream",
          "name": "stdout",
          "text": [
            "price_change 1132      -0.000611\n",
            "1133      -0.000611\n",
            "1134      -0.000611\n",
            "1135      -0.000611\n",
            "1136      -0.000611\n",
            "             ...   \n",
            "3808174    0.013848\n",
            "3808175    0.013848\n",
            "3808176    0.013848\n",
            "3808177    0.013848\n",
            "3808178    0.013848\n",
            "Name: price_change, Length: 2856026, dtype: float64\n"
          ]
        },
        {
          "output_type": "stream",
          "name": "stderr",
          "text": [
            "\r  0%|          | 78/2856834 [00:44<257:31:53,  3.08it/s]"
          ]
        },
        {
          "output_type": "stream",
          "name": "stdout",
          "text": [
            "price_change 1133      -0.000611\n",
            "1134      -0.000611\n",
            "1135      -0.000611\n",
            "1136      -0.000611\n",
            "1137      -0.000611\n",
            "             ...   \n",
            "3808174    0.013848\n",
            "3808175    0.013848\n",
            "3808176    0.013848\n",
            "3808177    0.013848\n",
            "3808178    0.013848\n",
            "Name: price_change, Length: 2856025, dtype: float64\n"
          ]
        },
        {
          "output_type": "stream",
          "name": "stderr",
          "text": [
            "\r  0%|          | 79/2856834 [00:44<254:10:23,  3.12it/s]"
          ]
        },
        {
          "output_type": "stream",
          "name": "stdout",
          "text": [
            "price_change 1133      -0.000611\n",
            "1134      -0.000611\n",
            "1135      -0.000611\n",
            "1136      -0.000611\n",
            "1137      -0.000611\n",
            "             ...   \n",
            "3808174    0.013848\n",
            "3808175    0.013848\n",
            "3808176    0.013848\n",
            "3808177    0.013848\n",
            "3808178    0.013848\n",
            "Name: price_change, Length: 2856025, dtype: float64\n"
          ]
        },
        {
          "output_type": "stream",
          "name": "stderr",
          "text": [
            "\r  0%|          | 80/2856834 [00:45<250:10:57,  3.17it/s]"
          ]
        },
        {
          "output_type": "stream",
          "name": "stdout",
          "text": [
            "price_change 1133      -0.000611\n",
            "1134      -0.000611\n",
            "1135      -0.000611\n",
            "1136      -0.000611\n",
            "1137      -0.000611\n",
            "             ...   \n",
            "3808174    0.013848\n",
            "3808175    0.013848\n",
            "3808176    0.013848\n",
            "3808177    0.013848\n",
            "3808178    0.013848\n",
            "Name: price_change, Length: 2856025, dtype: float64\n"
          ]
        },
        {
          "output_type": "stream",
          "name": "stderr",
          "text": [
            "\r  0%|          | 81/2856834 [00:45<249:29:56,  3.18it/s]"
          ]
        },
        {
          "output_type": "stream",
          "name": "stdout",
          "text": [
            "price_change 1133      -0.000611\n",
            "1134      -0.000611\n",
            "1135      -0.000611\n",
            "1136      -0.000611\n",
            "1137      -0.000611\n",
            "             ...   \n",
            "3808174    0.013848\n",
            "3808175    0.013848\n",
            "3808176    0.013848\n",
            "3808177    0.013848\n",
            "3808178    0.013848\n",
            "Name: price_change, Length: 2856025, dtype: float64\n"
          ]
        },
        {
          "output_type": "stream",
          "name": "stderr",
          "text": [
            "\r  0%|          | 82/2856834 [00:45<249:22:58,  3.18it/s]"
          ]
        },
        {
          "output_type": "stream",
          "name": "stdout",
          "text": [
            "price_change 1133      -0.000611\n",
            "1134      -0.000611\n",
            "1135      -0.000611\n",
            "1136      -0.000611\n",
            "1137      -0.000611\n",
            "             ...   \n",
            "3808174    0.013848\n",
            "3808175    0.013848\n",
            "3808176    0.013848\n",
            "3808177    0.013848\n",
            "3808178    0.013848\n",
            "Name: price_change, Length: 2856025, dtype: float64\n"
          ]
        },
        {
          "output_type": "stream",
          "name": "stderr",
          "text": [
            "\r  0%|          | 83/2856834 [00:46<248:02:31,  3.20it/s]"
          ]
        },
        {
          "output_type": "stream",
          "name": "stdout",
          "text": [
            "price_change 1133      -0.000611\n",
            "1134      -0.000611\n",
            "1135      -0.000611\n",
            "1136      -0.000611\n",
            "1137      -0.000611\n",
            "             ...   \n",
            "3808174    0.013848\n",
            "3808175    0.013848\n",
            "3808176    0.013848\n",
            "3808177    0.013848\n",
            "3808178    0.013848\n",
            "Name: price_change, Length: 2856025, dtype: float64\n"
          ]
        },
        {
          "output_type": "stream",
          "name": "stderr",
          "text": [
            "\r  0%|          | 84/2856834 [00:46<247:25:54,  3.21it/s]"
          ]
        },
        {
          "output_type": "stream",
          "name": "stdout",
          "text": [
            "price_change 1133      -0.000611\n",
            "1134      -0.000611\n",
            "1135      -0.000611\n",
            "1136      -0.000611\n",
            "1137      -0.000611\n",
            "             ...   \n",
            "3808174    0.013848\n",
            "3808175    0.013848\n",
            "3808176    0.013848\n",
            "3808177    0.013848\n",
            "3808178    0.013848\n",
            "Name: price_change, Length: 2856025, dtype: float64\n"
          ]
        },
        {
          "output_type": "stream",
          "name": "stderr",
          "text": [
            "\r  0%|          | 85/2856834 [00:46<246:03:05,  3.23it/s]"
          ]
        },
        {
          "output_type": "stream",
          "name": "stdout",
          "text": [
            "price_change 1134      -0.000611\n",
            "1135      -0.000611\n",
            "1136      -0.000611\n",
            "1137      -0.000611\n",
            "1138      -0.000611\n",
            "             ...   \n",
            "3808174    0.013848\n",
            "3808175    0.013848\n",
            "3808176    0.013848\n",
            "3808177    0.013848\n",
            "3808178    0.013848\n",
            "Name: price_change, Length: 2856024, dtype: float64\n"
          ]
        },
        {
          "output_type": "stream",
          "name": "stderr",
          "text": [
            "\r  0%|          | 86/2856834 [00:46<244:19:57,  3.25it/s]"
          ]
        },
        {
          "output_type": "stream",
          "name": "stdout",
          "text": [
            "price_change 1135      -0.000611\n",
            "1136      -0.000611\n",
            "1137      -0.000611\n",
            "1138      -0.000611\n",
            "1140      -0.000611\n",
            "             ...   \n",
            "3808174    0.013848\n",
            "3808175    0.013848\n",
            "3808176    0.013848\n",
            "3808177    0.013848\n",
            "3808178    0.013848\n",
            "Name: price_change, Length: 2856023, dtype: float64\n"
          ]
        },
        {
          "output_type": "stream",
          "name": "stderr",
          "text": [
            "\r  0%|          | 87/2856834 [00:47<243:22:39,  3.26it/s]"
          ]
        },
        {
          "output_type": "stream",
          "name": "stdout",
          "text": [
            "price_change 1135      -0.000611\n",
            "1136      -0.000611\n",
            "1137      -0.000611\n",
            "1138      -0.000611\n",
            "1140      -0.000611\n",
            "             ...   \n",
            "3808174    0.013848\n",
            "3808175    0.013848\n",
            "3808176    0.013848\n",
            "3808177    0.013848\n",
            "3808178    0.013848\n",
            "Name: price_change, Length: 2856023, dtype: float64\n"
          ]
        },
        {
          "output_type": "stream",
          "name": "stderr",
          "text": [
            "\r  0%|          | 88/2856834 [00:47<264:48:48,  3.00it/s]"
          ]
        },
        {
          "output_type": "stream",
          "name": "stdout",
          "text": [
            "price_change 1136      -0.000611\n",
            "1137      -0.000611\n",
            "1138      -0.000611\n",
            "1140      -0.000611\n",
            "1141      -0.000611\n",
            "             ...   \n",
            "3808174    0.013848\n",
            "3808175    0.013848\n",
            "3808176    0.013848\n",
            "3808177    0.013848\n",
            "3808178    0.013848\n",
            "Name: price_change, Length: 2856022, dtype: float64\n"
          ]
        },
        {
          "output_type": "stream",
          "name": "stderr",
          "text": [
            "\r  0%|          | 89/2856834 [00:48<292:07:44,  2.72it/s]"
          ]
        },
        {
          "output_type": "stream",
          "name": "stdout",
          "text": [
            "price_change 1136      -0.000611\n",
            "1137      -0.000611\n",
            "1138      -0.000611\n",
            "1140      -0.000611\n",
            "1141      -0.000611\n",
            "             ...   \n",
            "3808174    0.013848\n",
            "3808175    0.013848\n",
            "3808176    0.013848\n",
            "3808177    0.013848\n",
            "3808178    0.013848\n",
            "Name: price_change, Length: 2856022, dtype: float64\n"
          ]
        },
        {
          "output_type": "stream",
          "name": "stderr",
          "text": [
            "\r  0%|          | 90/2856834 [00:48<313:08:11,  2.53it/s]"
          ]
        },
        {
          "output_type": "stream",
          "name": "stdout",
          "text": [
            "price_change 1136      -0.000611\n",
            "1137      -0.000611\n",
            "1138      -0.000611\n",
            "1140      -0.000611\n",
            "1141      -0.000611\n",
            "             ...   \n",
            "3808174    0.013848\n",
            "3808175    0.013848\n",
            "3808176    0.013848\n",
            "3808177    0.013848\n",
            "3808178    0.013848\n",
            "Name: price_change, Length: 2856022, dtype: float64\n"
          ]
        },
        {
          "output_type": "stream",
          "name": "stderr",
          "text": [
            "\r  0%|          | 91/2856834 [00:49<326:49:40,  2.43it/s]"
          ]
        },
        {
          "output_type": "stream",
          "name": "stdout",
          "text": [
            "price_change 1136      -0.000611\n",
            "1137      -0.000611\n",
            "1138      -0.000611\n",
            "1140      -0.000611\n",
            "1141      -0.000611\n",
            "             ...   \n",
            "3808174    0.013848\n",
            "3808175    0.013848\n",
            "3808176    0.013848\n",
            "3808177    0.013848\n",
            "3808178    0.013848\n",
            "Name: price_change, Length: 2856022, dtype: float64\n"
          ]
        },
        {
          "output_type": "stream",
          "name": "stderr",
          "text": [
            "\r  0%|          | 92/2856834 [00:49<338:45:21,  2.34it/s]"
          ]
        },
        {
          "output_type": "stream",
          "name": "stdout",
          "text": [
            "price_change 1136      -0.000611\n",
            "1137      -0.000611\n",
            "1138      -0.000611\n",
            "1140      -0.000611\n",
            "1141      -0.000611\n",
            "             ...   \n",
            "3808174    0.013848\n",
            "3808175    0.013848\n",
            "3808176    0.013848\n",
            "3808177    0.013848\n",
            "3808178    0.013848\n",
            "Name: price_change, Length: 2856022, dtype: float64\n"
          ]
        },
        {
          "output_type": "stream",
          "name": "stderr",
          "text": [
            "\r  0%|          | 93/2856834 [00:49<346:49:11,  2.29it/s]"
          ]
        },
        {
          "output_type": "stream",
          "name": "stdout",
          "text": [
            "price_change 1136      -0.000611\n",
            "1137      -0.000611\n",
            "1138      -0.000611\n",
            "1140      -0.000611\n",
            "1141      -0.000611\n",
            "             ...   \n",
            "3808174    0.013848\n",
            "3808175    0.013848\n",
            "3808176    0.013848\n",
            "3808177    0.013848\n",
            "3808178    0.013848\n",
            "Name: price_change, Length: 2856022, dtype: float64\n"
          ]
        },
        {
          "output_type": "stream",
          "name": "stderr",
          "text": [
            "\r  0%|          | 94/2856834 [00:50<349:15:39,  2.27it/s]"
          ]
        },
        {
          "output_type": "stream",
          "name": "stdout",
          "text": [
            "price_change 1136      -0.000611\n",
            "1137      -0.000611\n",
            "1138      -0.000611\n",
            "1140      -0.000611\n",
            "1141      -0.000611\n",
            "             ...   \n",
            "3808174    0.013848\n",
            "3808175    0.013848\n",
            "3808176    0.013848\n",
            "3808177    0.013848\n",
            "3808178    0.013848\n",
            "Name: price_change, Length: 2856022, dtype: float64\n"
          ]
        },
        {
          "output_type": "stream",
          "name": "stderr",
          "text": [
            "\r  0%|          | 95/2856834 [00:50<329:25:38,  2.41it/s]"
          ]
        },
        {
          "output_type": "stream",
          "name": "stdout",
          "text": [
            "price_change 1136      -0.000611\n",
            "1137      -0.000611\n",
            "1138      -0.000611\n",
            "1140      -0.000611\n",
            "1141      -0.000611\n",
            "             ...   \n",
            "3808174    0.013848\n",
            "3808175    0.013848\n",
            "3808176    0.013848\n",
            "3808177    0.013848\n",
            "3808178    0.013848\n",
            "Name: price_change, Length: 2856022, dtype: float64\n"
          ]
        },
        {
          "output_type": "stream",
          "name": "stderr",
          "text": [
            "\r  0%|          | 96/2856834 [00:51<304:32:09,  2.61it/s]"
          ]
        },
        {
          "output_type": "stream",
          "name": "stdout",
          "text": [
            "price_change 1136      -0.000611\n",
            "1137      -0.000611\n",
            "1138      -0.000611\n",
            "1140      -0.000611\n",
            "1141      -0.000611\n",
            "             ...   \n",
            "3808174    0.013848\n",
            "3808175    0.013848\n",
            "3808176    0.013848\n",
            "3808177    0.013848\n",
            "3808178    0.013848\n",
            "Name: price_change, Length: 2856022, dtype: float64\n"
          ]
        },
        {
          "output_type": "stream",
          "name": "stderr",
          "text": [
            "\r  0%|          | 97/2856834 [00:51<294:17:42,  2.70it/s]"
          ]
        },
        {
          "output_type": "stream",
          "name": "stdout",
          "text": [
            "price_change 1136      -0.000611\n",
            "1137      -0.000611\n",
            "1138      -0.000611\n",
            "1140      -0.000611\n",
            "1141      -0.000611\n",
            "             ...   \n",
            "3808174    0.013848\n",
            "3808175    0.013848\n",
            "3808176    0.013848\n",
            "3808177    0.013848\n",
            "3808178    0.013848\n",
            "Name: price_change, Length: 2856022, dtype: float64\n"
          ]
        },
        {
          "output_type": "stream",
          "name": "stderr",
          "text": [
            "\r  0%|          | 98/2856834 [00:51<291:49:55,  2.72it/s]"
          ]
        },
        {
          "output_type": "stream",
          "name": "stdout",
          "text": [
            "price_change 1136      -0.000611\n",
            "1137      -0.000611\n",
            "1138      -0.000611\n",
            "1140      -0.000611\n",
            "1141      -0.000611\n",
            "             ...   \n",
            "3808174    0.013848\n",
            "3808175    0.013848\n",
            "3808176    0.013848\n",
            "3808177    0.013848\n",
            "3808178    0.013848\n",
            "Name: price_change, Length: 2856022, dtype: float64\n"
          ]
        },
        {
          "output_type": "stream",
          "name": "stderr",
          "text": [
            "\r  0%|          | 99/2856834 [00:52<287:26:03,  2.76it/s]"
          ]
        },
        {
          "output_type": "stream",
          "name": "stdout",
          "text": [
            "price_change 1136      -0.000611\n",
            "1137      -0.000611\n",
            "1138      -0.000611\n",
            "1140      -0.000611\n",
            "1141      -0.000611\n",
            "             ...   \n",
            "3808174    0.013848\n",
            "3808175    0.013848\n",
            "3808176    0.013848\n",
            "3808177    0.013848\n",
            "3808178    0.013848\n",
            "Name: price_change, Length: 2856022, dtype: float64\n"
          ]
        },
        {
          "output_type": "stream",
          "name": "stderr",
          "text": [
            "\r  0%|          | 100/2856834 [00:52<285:52:16,  2.78it/s]"
          ]
        },
        {
          "output_type": "stream",
          "name": "stdout",
          "text": [
            "price_change 1136      -0.000611\n",
            "1137      -0.000611\n",
            "1138      -0.000611\n",
            "1140      -0.000611\n",
            "1141      -0.000611\n",
            "             ...   \n",
            "3808174    0.013848\n",
            "3808175    0.013848\n",
            "3808176    0.013848\n",
            "3808177    0.013848\n",
            "3808178    0.013848\n",
            "Name: price_change, Length: 2856022, dtype: float64\n"
          ]
        },
        {
          "output_type": "stream",
          "name": "stderr",
          "text": [
            "\r  0%|          | 101/2856834 [00:52<288:16:35,  2.75it/s]"
          ]
        },
        {
          "output_type": "stream",
          "name": "stdout",
          "text": [
            "price_change 1136      -0.000611\n",
            "1137      -0.000611\n",
            "1138      -0.000611\n",
            "1140      -0.000611\n",
            "1141      -0.000611\n",
            "             ...   \n",
            "3808174    0.013848\n",
            "3808175    0.013848\n",
            "3808176    0.013848\n",
            "3808177    0.013848\n",
            "3808178    0.013848\n",
            "Name: price_change, Length: 2856022, dtype: float64\n"
          ]
        },
        {
          "output_type": "stream",
          "name": "stderr",
          "text": [
            "\r  0%|          | 102/2856834 [00:53<284:23:57,  2.79it/s]"
          ]
        },
        {
          "output_type": "stream",
          "name": "stdout",
          "text": [
            "price_change 1136      -0.000611\n",
            "1137      -0.000611\n",
            "1138      -0.000611\n",
            "1140      -0.000611\n",
            "1141      -0.000611\n",
            "             ...   \n",
            "3808174    0.013848\n",
            "3808175    0.013848\n",
            "3808176    0.013848\n",
            "3808177    0.013848\n",
            "3808178    0.013848\n",
            "Name: price_change, Length: 2856022, dtype: float64\n"
          ]
        },
        {
          "output_type": "stream",
          "name": "stderr",
          "text": [
            "\r  0%|          | 103/2856834 [00:53<283:55:26,  2.79it/s]"
          ]
        },
        {
          "output_type": "stream",
          "name": "stdout",
          "text": [
            "price_change 1136      -0.000611\n",
            "1137      -0.000611\n",
            "1138      -0.000611\n",
            "1140      -0.000611\n",
            "1141      -0.000611\n",
            "             ...   \n",
            "3808174    0.013848\n",
            "3808175    0.013848\n",
            "3808176    0.013848\n",
            "3808177    0.013848\n",
            "3808178    0.013848\n",
            "Name: price_change, Length: 2856022, dtype: float64\n"
          ]
        },
        {
          "output_type": "stream",
          "name": "stderr",
          "text": [
            "\r  0%|          | 104/2856834 [00:53<286:41:34,  2.77it/s]"
          ]
        },
        {
          "output_type": "stream",
          "name": "stdout",
          "text": [
            "price_change 1136      -0.000611\n",
            "1137      -0.000611\n",
            "1138      -0.000611\n",
            "1140      -0.000611\n",
            "1141      -0.000611\n",
            "             ...   \n",
            "3808174    0.013848\n",
            "3808175    0.013848\n",
            "3808176    0.013848\n",
            "3808177    0.013848\n",
            "3808178    0.013848\n",
            "Name: price_change, Length: 2856022, dtype: float64\n"
          ]
        },
        {
          "output_type": "stream",
          "name": "stderr",
          "text": [
            "\r  0%|          | 105/2856834 [00:54<284:32:43,  2.79it/s]"
          ]
        },
        {
          "output_type": "stream",
          "name": "stdout",
          "text": [
            "price_change 1137      -0.000611\n",
            "1138      -0.000611\n",
            "1140      -0.000611\n",
            "1141      -0.000611\n",
            "1142      -0.000611\n",
            "             ...   \n",
            "3808174    0.013848\n",
            "3808175    0.013848\n",
            "3808176    0.013848\n",
            "3808177    0.013848\n",
            "3808178    0.013848\n",
            "Name: price_change, Length: 2856021, dtype: float64\n"
          ]
        },
        {
          "output_type": "stream",
          "name": "stderr",
          "text": [
            "\r  0%|          | 106/2856834 [00:54<286:39:42,  2.77it/s]"
          ]
        },
        {
          "output_type": "stream",
          "name": "stdout",
          "text": [
            "price_change 1137      -0.000611\n",
            "1138      -0.000611\n",
            "1140      -0.000611\n",
            "1141      -0.000611\n",
            "1142      -0.000611\n",
            "             ...   \n",
            "3808174    0.013848\n",
            "3808175    0.013848\n",
            "3808176    0.013848\n",
            "3808177    0.013848\n",
            "3808178    0.013848\n",
            "Name: price_change, Length: 2856021, dtype: float64\n"
          ]
        },
        {
          "output_type": "stream",
          "name": "stderr",
          "text": [
            "\r  0%|          | 107/2856834 [00:55<294:33:11,  2.69it/s]"
          ]
        },
        {
          "output_type": "stream",
          "name": "stdout",
          "text": [
            "price_change 1137      -0.000611\n",
            "1138      -0.000611\n",
            "1140      -0.000611\n",
            "1141      -0.000611\n",
            "1142      -0.000611\n",
            "             ...   \n",
            "3808174    0.013848\n",
            "3808175    0.013848\n",
            "3808176    0.013848\n",
            "3808177    0.013848\n",
            "3808178    0.013848\n",
            "Name: price_change, Length: 2856021, dtype: float64\n"
          ]
        },
        {
          "output_type": "stream",
          "name": "stderr",
          "text": [
            "\r  0%|          | 108/2856834 [00:55<298:44:24,  2.66it/s]"
          ]
        },
        {
          "output_type": "stream",
          "name": "stdout",
          "text": [
            "price_change 1137      -0.000611\n",
            "1138      -0.000611\n",
            "1140      -0.000611\n",
            "1141      -0.000611\n",
            "1142      -0.000611\n",
            "             ...   \n",
            "3808174    0.013848\n",
            "3808175    0.013848\n",
            "3808176    0.013848\n",
            "3808177    0.013848\n",
            "3808178    0.013848\n",
            "Name: price_change, Length: 2856021, dtype: float64\n"
          ]
        },
        {
          "output_type": "stream",
          "name": "stderr",
          "text": [
            "\r  0%|          | 109/2856834 [00:55<289:11:40,  2.74it/s]"
          ]
        },
        {
          "output_type": "stream",
          "name": "stdout",
          "text": [
            "price_change 1137      -0.000611\n",
            "1138      -0.000611\n",
            "1140      -0.000611\n",
            "1141      -0.000611\n",
            "1142      -0.000611\n",
            "             ...   \n",
            "3808174    0.013848\n",
            "3808175    0.013848\n",
            "3808176    0.013848\n",
            "3808177    0.013848\n",
            "3808178    0.013848\n",
            "Name: price_change, Length: 2856021, dtype: float64\n"
          ]
        },
        {
          "output_type": "stream",
          "name": "stderr",
          "text": [
            "\r  0%|          | 110/2856834 [00:56<276:30:19,  2.87it/s]"
          ]
        },
        {
          "output_type": "stream",
          "name": "stdout",
          "text": [
            "price_change 1137      -0.000611\n",
            "1138      -0.000611\n",
            "1140      -0.000611\n",
            "1141      -0.000611\n",
            "1142      -0.000611\n",
            "             ...   \n",
            "3808174    0.013848\n",
            "3808175    0.013848\n",
            "3808176    0.013848\n",
            "3808177    0.013848\n",
            "3808178    0.013848\n",
            "Name: price_change, Length: 2856021, dtype: float64\n"
          ]
        },
        {
          "output_type": "stream",
          "name": "stderr",
          "text": [
            "\r  0%|          | 111/2856834 [00:56<266:22:10,  2.98it/s]"
          ]
        },
        {
          "output_type": "stream",
          "name": "stdout",
          "text": [
            "price_change 1137      -0.000611\n",
            "1138      -0.000611\n",
            "1140      -0.000611\n",
            "1141      -0.000611\n",
            "1142      -0.000611\n",
            "             ...   \n",
            "3808174    0.013848\n",
            "3808175    0.013848\n",
            "3808176    0.013848\n",
            "3808177    0.013848\n",
            "3808178    0.013848\n",
            "Name: price_change, Length: 2856021, dtype: float64\n"
          ]
        },
        {
          "output_type": "stream",
          "name": "stderr",
          "text": [
            "\r  0%|          | 112/2856834 [00:56<260:30:27,  3.05it/s]"
          ]
        },
        {
          "output_type": "stream",
          "name": "stdout",
          "text": [
            "price_change 1137      -0.000611\n",
            "1138      -0.000611\n",
            "1140      -0.000611\n",
            "1141      -0.000611\n",
            "1142      -0.000611\n",
            "             ...   \n",
            "3808174    0.013848\n",
            "3808175    0.013848\n",
            "3808176    0.013848\n",
            "3808177    0.013848\n",
            "3808178    0.013848\n",
            "Name: price_change, Length: 2856021, dtype: float64\n"
          ]
        },
        {
          "output_type": "stream",
          "name": "stderr",
          "text": [
            "\r  0%|          | 113/2856834 [00:57<292:19:42,  2.71it/s]"
          ]
        },
        {
          "output_type": "stream",
          "name": "stdout",
          "text": [
            "price_change 1137      -0.000611\n",
            "1138      -0.000611\n",
            "1140      -0.000611\n",
            "1141      -0.000611\n",
            "1142      -0.000611\n",
            "             ...   \n",
            "3808174    0.013848\n",
            "3808175    0.013848\n",
            "3808176    0.013848\n",
            "3808177    0.013848\n",
            "3808178    0.013848\n",
            "Name: price_change, Length: 2856021, dtype: float64\n"
          ]
        },
        {
          "output_type": "stream",
          "name": "stderr",
          "text": [
            "\r  0%|          | 114/2856834 [00:57<312:54:34,  2.54it/s]"
          ]
        },
        {
          "output_type": "stream",
          "name": "stdout",
          "text": [
            "price_change 1137      -0.000611\n",
            "1138      -0.000611\n",
            "1140      -0.000611\n",
            "1141      -0.000611\n",
            "1142      -0.000611\n",
            "             ...   \n",
            "3808174    0.013848\n",
            "3808175    0.013848\n",
            "3808176    0.013848\n",
            "3808177    0.013848\n",
            "3808178    0.013848\n",
            "Name: price_change, Length: 2856021, dtype: float64\n"
          ]
        },
        {
          "output_type": "stream",
          "name": "stderr",
          "text": [
            "\r  0%|          | 115/2856834 [00:57<299:46:14,  2.65it/s]"
          ]
        },
        {
          "output_type": "stream",
          "name": "stdout",
          "text": [
            "price_change 1137      -0.000611\n",
            "1138      -0.000611\n",
            "1140      -0.000611\n",
            "1141      -0.000611\n",
            "1142      -0.000611\n",
            "             ...   \n",
            "3808174    0.013848\n",
            "3808175    0.013848\n",
            "3808176    0.013848\n",
            "3808177    0.013848\n",
            "3808178    0.013848\n",
            "Name: price_change, Length: 2856021, dtype: float64\n"
          ]
        },
        {
          "output_type": "stream",
          "name": "stderr",
          "text": [
            "\r  0%|          | 116/2856834 [00:58<283:36:58,  2.80it/s]"
          ]
        },
        {
          "output_type": "stream",
          "name": "stdout",
          "text": [
            "price_change 1137      -0.000611\n",
            "1138      -0.000611\n",
            "1140      -0.000611\n",
            "1141      -0.000611\n",
            "1142      -0.000611\n",
            "             ...   \n",
            "3808174    0.013848\n",
            "3808175    0.013848\n",
            "3808176    0.013848\n",
            "3808177    0.013848\n",
            "3808178    0.013848\n",
            "Name: price_change, Length: 2856021, dtype: float64\n"
          ]
        },
        {
          "output_type": "stream",
          "name": "stderr",
          "text": [
            "\r  0%|          | 117/2856834 [00:58<270:55:10,  2.93it/s]"
          ]
        },
        {
          "output_type": "stream",
          "name": "stdout",
          "text": [
            "price_change 1138      -0.000611\n",
            "1140      -0.000611\n",
            "1141      -0.000611\n",
            "1142      -0.000611\n",
            "1143      -0.000611\n",
            "             ...   \n",
            "3808174    0.013848\n",
            "3808175    0.013848\n",
            "3808176    0.013848\n",
            "3808177    0.013848\n",
            "3808178    0.013848\n",
            "Name: price_change, Length: 2856020, dtype: float64\n"
          ]
        },
        {
          "output_type": "stream",
          "name": "stderr",
          "text": [
            "\r  0%|          | 118/2856834 [00:58<284:17:21,  2.79it/s]"
          ]
        },
        {
          "output_type": "stream",
          "name": "stdout",
          "text": [
            "price_change 1140      -0.000611\n",
            "1141      -0.000611\n",
            "1142      -0.000611\n",
            "1143      -0.000611\n",
            "1144      -0.000611\n",
            "             ...   \n",
            "3808174    0.013848\n",
            "3808175    0.013848\n",
            "3808176    0.013848\n",
            "3808177    0.013848\n",
            "3808178    0.013848\n",
            "Name: price_change, Length: 2856019, dtype: float64\n"
          ]
        },
        {
          "output_type": "stream",
          "name": "stderr",
          "text": [
            "\r  0%|          | 119/2856834 [00:59<306:24:26,  2.59it/s]"
          ]
        },
        {
          "output_type": "stream",
          "name": "stdout",
          "text": [
            "price_change 1141      -0.000611\n",
            "1142      -0.000611\n",
            "1143      -0.000611\n",
            "1144      -0.000611\n",
            "1145      -0.000611\n",
            "             ...   \n",
            "3808174    0.013848\n",
            "3808175    0.013848\n",
            "3808176    0.013848\n",
            "3808177    0.013848\n",
            "3808178    0.013848\n",
            "Name: price_change, Length: 2856018, dtype: float64\n"
          ]
        },
        {
          "output_type": "stream",
          "name": "stderr",
          "text": [
            "\r  0%|          | 120/2856834 [00:59<311:08:06,  2.55it/s]"
          ]
        },
        {
          "output_type": "stream",
          "name": "stdout",
          "text": [
            "price_change 1141      -0.000611\n",
            "1142      -0.000611\n",
            "1143      -0.000611\n",
            "1144      -0.000611\n",
            "1145      -0.000611\n",
            "             ...   \n",
            "3808174    0.013848\n",
            "3808175    0.013848\n",
            "3808176    0.013848\n",
            "3808177    0.013848\n",
            "3808178    0.013848\n",
            "Name: price_change, Length: 2856018, dtype: float64\n"
          ]
        },
        {
          "output_type": "stream",
          "name": "stderr",
          "text": [
            "\r  0%|          | 121/2856834 [01:00<293:44:56,  2.70it/s]"
          ]
        },
        {
          "output_type": "stream",
          "name": "stdout",
          "text": [
            "price_change 1142      -0.000611\n",
            "1143      -0.000611\n",
            "1144      -0.000611\n",
            "1145      -0.000611\n",
            "1146      -0.000611\n",
            "             ...   \n",
            "3808174    0.013848\n",
            "3808175    0.013848\n",
            "3808176    0.013848\n",
            "3808177    0.013848\n",
            "3808178    0.013848\n",
            "Name: price_change, Length: 2856017, dtype: float64\n"
          ]
        },
        {
          "output_type": "stream",
          "name": "stderr",
          "text": [
            "\r  0%|          | 122/2856834 [01:00<280:44:46,  2.83it/s]"
          ]
        },
        {
          "output_type": "stream",
          "name": "stdout",
          "text": [
            "price_change 1142      -0.000611\n",
            "1143      -0.000611\n",
            "1144      -0.000611\n",
            "1145      -0.000611\n",
            "1146      -0.000611\n",
            "             ...   \n",
            "3808174    0.013848\n",
            "3808175    0.013848\n",
            "3808176    0.013848\n",
            "3808177    0.013848\n",
            "3808178    0.013848\n",
            "Name: price_change, Length: 2856017, dtype: float64\n"
          ]
        },
        {
          "output_type": "stream",
          "name": "stderr",
          "text": [
            "\r  0%|          | 123/2856834 [01:00<270:31:13,  2.93it/s]"
          ]
        },
        {
          "output_type": "stream",
          "name": "stdout",
          "text": [
            "price_change 1142      -0.000611\n",
            "1143      -0.000611\n",
            "1144      -0.000611\n",
            "1145      -0.000611\n",
            "1146      -0.000611\n",
            "             ...   \n",
            "3808174    0.013848\n",
            "3808175    0.013848\n",
            "3808176    0.013848\n",
            "3808177    0.013848\n",
            "3808178    0.013848\n",
            "Name: price_change, Length: 2856017, dtype: float64\n"
          ]
        },
        {
          "output_type": "stream",
          "name": "stderr",
          "text": [
            "\r  0%|          | 124/2856834 [01:01<261:40:19,  3.03it/s]"
          ]
        },
        {
          "output_type": "stream",
          "name": "stdout",
          "text": [
            "price_change 1142      -0.000611\n",
            "1143      -0.000611\n",
            "1144      -0.000611\n",
            "1145      -0.000611\n",
            "1146      -0.000611\n",
            "             ...   \n",
            "3808174    0.013848\n",
            "3808175    0.013848\n",
            "3808176    0.013848\n",
            "3808177    0.013848\n",
            "3808178    0.013848\n",
            "Name: price_change, Length: 2856017, dtype: float64\n"
          ]
        },
        {
          "output_type": "stream",
          "name": "stderr",
          "text": [
            "\r  0%|          | 125/2856834 [01:01<258:45:41,  3.07it/s]"
          ]
        },
        {
          "output_type": "stream",
          "name": "stdout",
          "text": [
            "price_change 1142      -0.000611\n",
            "1143      -0.000611\n",
            "1144      -0.000611\n",
            "1145      -0.000611\n",
            "1146      -0.000611\n",
            "             ...   \n",
            "3808174    0.013848\n",
            "3808175    0.013848\n",
            "3808176    0.013848\n",
            "3808177    0.013848\n",
            "3808178    0.013848\n",
            "Name: price_change, Length: 2856017, dtype: float64\n"
          ]
        },
        {
          "output_type": "stream",
          "name": "stderr",
          "text": [
            "\r  0%|          | 126/2856834 [01:01<254:20:45,  3.12it/s]"
          ]
        },
        {
          "output_type": "stream",
          "name": "stdout",
          "text": [
            "price_change 1142      -0.000611\n",
            "1143      -0.000611\n",
            "1144      -0.000611\n",
            "1145      -0.000611\n",
            "1146      -0.000611\n",
            "             ...   \n",
            "3808174    0.013848\n",
            "3808175    0.013848\n",
            "3808176    0.013848\n",
            "3808177    0.013848\n",
            "3808178    0.013848\n",
            "Name: price_change, Length: 2856017, dtype: float64\n"
          ]
        },
        {
          "output_type": "stream",
          "name": "stderr",
          "text": [
            "\r  0%|          | 127/2856834 [01:02<279:58:43,  2.83it/s]"
          ]
        },
        {
          "output_type": "stream",
          "name": "stdout",
          "text": [
            "price_change 1142      -0.000611\n",
            "1143      -0.000611\n",
            "1144      -0.000611\n",
            "1145      -0.000611\n",
            "1146      -0.000611\n",
            "             ...   \n",
            "3808174    0.013848\n",
            "3808175    0.013848\n",
            "3808176    0.013848\n",
            "3808177    0.013848\n",
            "3808178    0.013848\n",
            "Name: price_change, Length: 2856017, dtype: float64\n"
          ]
        },
        {
          "output_type": "stream",
          "name": "stderr",
          "text": [
            "\r  0%|          | 128/2856834 [01:02<304:53:06,  2.60it/s]"
          ]
        },
        {
          "output_type": "stream",
          "name": "stdout",
          "text": [
            "price_change 1142      -0.000611\n",
            "1143      -0.000611\n",
            "1144      -0.000611\n",
            "1145      -0.000611\n",
            "1146      -0.000611\n",
            "             ...   \n",
            "3808174    0.013848\n",
            "3808175    0.013848\n",
            "3808176    0.013848\n",
            "3808177    0.013848\n",
            "3808178    0.013848\n",
            "Name: price_change, Length: 2856017, dtype: float64\n"
          ]
        },
        {
          "output_type": "stream",
          "name": "stderr",
          "text": [
            "\r  0%|          | 129/2856834 [01:03<320:35:05,  2.48it/s]"
          ]
        },
        {
          "output_type": "stream",
          "name": "stdout",
          "text": [
            "price_change 1142      -0.000611\n",
            "1143      -0.000611\n",
            "1144      -0.000611\n",
            "1145      -0.000611\n",
            "1146      -0.000611\n",
            "             ...   \n",
            "3808174    0.013848\n",
            "3808175    0.013848\n",
            "3808176    0.013848\n",
            "3808177    0.013848\n",
            "3808178    0.013848\n",
            "Name: price_change, Length: 2856017, dtype: float64\n"
          ]
        },
        {
          "output_type": "stream",
          "name": "stderr",
          "text": [
            "\r  0%|          | 130/2856834 [01:03<332:19:16,  2.39it/s]"
          ]
        },
        {
          "output_type": "stream",
          "name": "stdout",
          "text": [
            "price_change 1142      -0.000611\n",
            "1143      -0.000611\n",
            "1144      -0.000611\n",
            "1145      -0.000611\n",
            "1146      -0.000611\n",
            "             ...   \n",
            "3808174    0.013848\n",
            "3808175    0.013848\n",
            "3808176    0.013848\n",
            "3808177    0.013848\n",
            "3808178    0.013848\n",
            "Name: price_change, Length: 2856017, dtype: float64\n"
          ]
        },
        {
          "output_type": "stream",
          "name": "stderr",
          "text": [
            "\r  0%|          | 131/2856834 [01:03<332:16:32,  2.39it/s]"
          ]
        },
        {
          "output_type": "stream",
          "name": "stdout",
          "text": [
            "price_change 1142      -0.000611\n",
            "1143      -0.000611\n",
            "1144      -0.000611\n",
            "1145      -0.000611\n",
            "1146      -0.000611\n",
            "             ...   \n",
            "3808174    0.013848\n",
            "3808175    0.013848\n",
            "3808176    0.013848\n",
            "3808177    0.013848\n",
            "3808178    0.013848\n",
            "Name: price_change, Length: 2856017, dtype: float64\n"
          ]
        },
        {
          "output_type": "stream",
          "name": "stderr",
          "text": [
            "\r  0%|          | 132/2856834 [01:04<310:35:46,  2.55it/s]"
          ]
        },
        {
          "output_type": "stream",
          "name": "stdout",
          "text": [
            "price_change 1142      -0.000611\n",
            "1143      -0.000611\n",
            "1144      -0.000611\n",
            "1145      -0.000611\n",
            "1146      -0.000611\n",
            "             ...   \n",
            "3808174    0.013848\n",
            "3808175    0.013848\n",
            "3808176    0.013848\n",
            "3808177    0.013848\n",
            "3808178    0.013848\n",
            "Name: price_change, Length: 2856017, dtype: float64\n"
          ]
        },
        {
          "output_type": "stream",
          "name": "stderr",
          "text": [
            "\r  0%|          | 133/2856834 [01:04<293:56:03,  2.70it/s]"
          ]
        },
        {
          "output_type": "stream",
          "name": "stdout",
          "text": [
            "price_change 1142      -0.000611\n",
            "1143      -0.000611\n",
            "1144      -0.000611\n",
            "1145      -0.000611\n",
            "1146      -0.000611\n",
            "             ...   \n",
            "3808174    0.013848\n",
            "3808175    0.013848\n",
            "3808176    0.013848\n",
            "3808177    0.013848\n",
            "3808178    0.013848\n",
            "Name: price_change, Length: 2856017, dtype: float64\n"
          ]
        },
        {
          "output_type": "stream",
          "name": "stderr",
          "text": [
            "\r  0%|          | 134/2856834 [01:04<278:06:44,  2.85it/s]"
          ]
        },
        {
          "output_type": "stream",
          "name": "stdout",
          "text": [
            "price_change 1142      -0.000611\n",
            "1143      -0.000611\n",
            "1144      -0.000611\n",
            "1145      -0.000611\n",
            "1146      -0.000611\n",
            "             ...   \n",
            "3808174    0.013848\n",
            "3808175    0.013848\n",
            "3808176    0.013848\n",
            "3808177    0.013848\n",
            "3808178    0.013848\n",
            "Name: price_change, Length: 2856017, dtype: float64\n"
          ]
        },
        {
          "output_type": "stream",
          "name": "stderr",
          "text": [
            "\r  0%|          | 135/2856834 [01:05<266:58:59,  2.97it/s]"
          ]
        },
        {
          "output_type": "stream",
          "name": "stdout",
          "text": [
            "price_change 1142      -0.000611\n",
            "1143      -0.000611\n",
            "1144      -0.000611\n",
            "1145      -0.000611\n",
            "1146      -0.000611\n",
            "             ...   \n",
            "3808174    0.013848\n",
            "3808175    0.013848\n",
            "3808176    0.013848\n",
            "3808177    0.013848\n",
            "3808178    0.013848\n",
            "Name: price_change, Length: 2856017, dtype: float64\n"
          ]
        },
        {
          "output_type": "stream",
          "name": "stderr",
          "text": [
            "\r  0%|          | 136/2856834 [01:05<264:05:40,  3.00it/s]"
          ]
        },
        {
          "output_type": "stream",
          "name": "stdout",
          "text": [
            "price_change 1142      -0.000611\n",
            "1143      -0.000611\n",
            "1144      -0.000611\n",
            "1145      -0.000611\n",
            "1146      -0.000611\n",
            "             ...   \n",
            "3808174    0.013848\n",
            "3808175    0.013848\n",
            "3808176    0.013848\n",
            "3808177    0.013848\n",
            "3808178    0.013848\n",
            "Name: price_change, Length: 2856017, dtype: float64\n"
          ]
        },
        {
          "output_type": "stream",
          "name": "stderr",
          "text": [
            "\r  0%|          | 137/2856834 [01:05<272:59:46,  2.91it/s]"
          ]
        },
        {
          "output_type": "stream",
          "name": "stdout",
          "text": [
            "price_change 1142      -0.000611\n",
            "1143      -0.000611\n",
            "1144      -0.000611\n",
            "1145      -0.000611\n",
            "1146      -0.000611\n",
            "             ...   \n",
            "3808174    0.013848\n",
            "3808175    0.013848\n",
            "3808176    0.013848\n",
            "3808177    0.013848\n",
            "3808178    0.013848\n",
            "Name: price_change, Length: 2856017, dtype: float64\n"
          ]
        },
        {
          "output_type": "stream",
          "name": "stderr",
          "text": [
            "\r  0%|          | 138/2856834 [01:06<316:20:21,  2.51it/s]"
          ]
        },
        {
          "output_type": "stream",
          "name": "stdout",
          "text": [
            "price_change 1142      -0.000611\n",
            "1143      -0.000611\n",
            "1144      -0.000611\n",
            "1145      -0.000611\n",
            "1146      -0.000611\n",
            "             ...   \n",
            "3808174    0.013848\n",
            "3808175    0.013848\n",
            "3808176    0.013848\n",
            "3808177    0.013848\n",
            "3808178    0.013848\n",
            "Name: price_change, Length: 2856017, dtype: float64\n"
          ]
        },
        {
          "output_type": "stream",
          "name": "stderr",
          "text": [
            "\r  0%|          | 139/2856834 [01:06<344:51:09,  2.30it/s]"
          ]
        },
        {
          "output_type": "stream",
          "name": "stdout",
          "text": [
            "price_change 1145      -0.000611\n",
            "1146      -0.000611\n",
            "1147      -0.000611\n",
            "1148      -0.000611\n",
            "1149      -0.000611\n",
            "             ...   \n",
            "3808174    0.013848\n",
            "3808175    0.013848\n",
            "3808176    0.013848\n",
            "3808177    0.013848\n",
            "3808178    0.013848\n",
            "Name: price_change, Length: 2856014, dtype: float64\n"
          ]
        },
        {
          "output_type": "stream",
          "name": "stderr",
          "text": [
            "\r  0%|          | 140/2856834 [01:07<329:18:08,  2.41it/s]"
          ]
        },
        {
          "output_type": "stream",
          "name": "stdout",
          "text": [
            "price_change 1146      -0.000611\n",
            "1147      -0.000611\n",
            "1148      -0.000611\n",
            "1149      -0.000611\n",
            "1150      -0.000611\n",
            "             ...   \n",
            "3808174    0.013848\n",
            "3808175    0.013848\n",
            "3808176    0.013848\n",
            "3808177    0.013848\n",
            "3808178    0.013848\n",
            "Name: price_change, Length: 2856013, dtype: float64\n"
          ]
        },
        {
          "output_type": "stream",
          "name": "stderr",
          "text": [
            "\r  0%|          | 141/2856834 [01:07<318:46:29,  2.49it/s]"
          ]
        },
        {
          "output_type": "stream",
          "name": "stdout",
          "text": [
            "price_change 1147      -0.000611\n",
            "1148      -0.000611\n",
            "1149      -0.000611\n",
            "1150      -0.000611\n",
            "1151      -0.000611\n",
            "             ...   \n",
            "3808174    0.013848\n",
            "3808175    0.013848\n",
            "3808176    0.013848\n",
            "3808177    0.013848\n",
            "3808178    0.013848\n",
            "Name: price_change, Length: 2856012, dtype: float64\n"
          ]
        },
        {
          "output_type": "stream",
          "name": "stderr",
          "text": [
            "\r  0%|          | 142/2856834 [01:08<306:46:21,  2.59it/s]"
          ]
        },
        {
          "output_type": "stream",
          "name": "stdout",
          "text": [
            "price_change 1147      -0.000611\n",
            "1148      -0.000611\n",
            "1149      -0.000611\n",
            "1150      -0.000611\n",
            "1151      -0.000611\n",
            "             ...   \n",
            "3808174    0.013848\n",
            "3808175    0.013848\n",
            "3808176    0.013848\n",
            "3808177    0.013848\n",
            "3808178    0.013848\n",
            "Name: price_change, Length: 2856012, dtype: float64\n"
          ]
        },
        {
          "output_type": "stream",
          "name": "stderr",
          "text": [
            "\r  0%|          | 143/2856834 [01:08<302:39:30,  2.62it/s]"
          ]
        },
        {
          "output_type": "stream",
          "name": "stdout",
          "text": [
            "price_change 1147      -0.000611\n",
            "1148      -0.000611\n",
            "1149      -0.000611\n",
            "1150      -0.000611\n",
            "1151      -0.000611\n",
            "             ...   \n",
            "3808174    0.013848\n",
            "3808175    0.013848\n",
            "3808176    0.013848\n",
            "3808177    0.013848\n",
            "3808178    0.013848\n",
            "Name: price_change, Length: 2856012, dtype: float64\n"
          ]
        },
        {
          "output_type": "stream",
          "name": "stderr",
          "text": [
            "\r  0%|          | 144/2856834 [01:08<298:52:48,  2.65it/s]"
          ]
        },
        {
          "output_type": "stream",
          "name": "stdout",
          "text": [
            "price_change 1147      -0.000611\n",
            "1148      -0.000611\n",
            "1149      -0.000611\n",
            "1150      -0.000611\n",
            "1151      -0.000611\n",
            "             ...   \n",
            "3808174    0.013848\n",
            "3808175    0.013848\n",
            "3808176    0.013848\n",
            "3808177    0.013848\n",
            "3808178    0.013848\n",
            "Name: price_change, Length: 2856012, dtype: float64\n"
          ]
        },
        {
          "output_type": "stream",
          "name": "stderr",
          "text": [
            "\r  0%|          | 145/2856834 [01:09<297:13:14,  2.67it/s]"
          ]
        },
        {
          "output_type": "stream",
          "name": "stdout",
          "text": [
            "price_change 1149      -0.000611\n",
            "1150      -0.000611\n",
            "1151      -0.000611\n",
            "1152      -0.000611\n",
            "1153      -0.000611\n",
            "             ...   \n",
            "3808174    0.013848\n",
            "3808175    0.013848\n",
            "3808176    0.013848\n",
            "3808177    0.013848\n",
            "3808178    0.013848\n",
            "Name: price_change, Length: 2856010, dtype: float64\n"
          ]
        },
        {
          "output_type": "stream",
          "name": "stderr",
          "text": [
            "\r  0%|          | 146/2856834 [01:09<298:53:12,  2.65it/s]"
          ]
        },
        {
          "output_type": "stream",
          "name": "stdout",
          "text": [
            "price_change 1149      -0.000611\n",
            "1150      -0.000611\n",
            "1151      -0.000611\n",
            "1152      -0.000611\n",
            "1153      -0.000611\n",
            "             ...   \n",
            "3808174    0.013848\n",
            "3808175    0.013848\n",
            "3808176    0.013848\n",
            "3808177    0.013848\n",
            "3808178    0.013848\n",
            "Name: price_change, Length: 2856010, dtype: float64\n"
          ]
        },
        {
          "output_type": "stream",
          "name": "stderr",
          "text": [
            "\r  0%|          | 147/2856834 [01:09<291:59:17,  2.72it/s]"
          ]
        },
        {
          "output_type": "stream",
          "name": "stdout",
          "text": [
            "price_change 1149      -0.000611\n",
            "1150      -0.000611\n",
            "1151      -0.000611\n",
            "1152      -0.000611\n",
            "1153      -0.000611\n",
            "             ...   \n",
            "3808174    0.013848\n",
            "3808175    0.013848\n",
            "3808176    0.013848\n",
            "3808177    0.013848\n",
            "3808178    0.013848\n",
            "Name: price_change, Length: 2856010, dtype: float64\n"
          ]
        },
        {
          "output_type": "stream",
          "name": "stderr",
          "text": [
            "\r  0%|          | 148/2856834 [01:10<276:06:32,  2.87it/s]"
          ]
        },
        {
          "output_type": "stream",
          "name": "stdout",
          "text": [
            "price_change 1149      -0.000611\n",
            "1150      -0.000611\n",
            "1151      -0.000611\n",
            "1152      -0.000611\n",
            "1153      -0.000611\n",
            "             ...   \n",
            "3808174    0.013848\n",
            "3808175    0.013848\n",
            "3808176    0.013848\n",
            "3808177    0.013848\n",
            "3808178    0.013848\n",
            "Name: price_change, Length: 2856010, dtype: float64\n"
          ]
        },
        {
          "output_type": "stream",
          "name": "stderr",
          "text": [
            "\r  0%|          | 149/2856834 [01:10<266:43:00,  2.98it/s]"
          ]
        },
        {
          "output_type": "stream",
          "name": "stdout",
          "text": [
            "price_change 1149      -0.000611\n",
            "1150      -0.000611\n",
            "1151      -0.000611\n",
            "1152      -0.000611\n",
            "1153      -0.000611\n",
            "             ...   \n",
            "3808174    0.013848\n",
            "3808175    0.013848\n",
            "3808176    0.013848\n",
            "3808177    0.013848\n",
            "3808178    0.013848\n",
            "Name: price_change, Length: 2856010, dtype: float64\n"
          ]
        },
        {
          "output_type": "stream",
          "name": "stderr",
          "text": [
            "\r  0%|          | 150/2856834 [01:10<259:53:49,  3.05it/s]"
          ]
        },
        {
          "output_type": "stream",
          "name": "stdout",
          "text": [
            "price_change 1149      -0.000611\n",
            "1150      -0.000611\n",
            "1151      -0.000611\n",
            "1152      -0.000611\n",
            "1153      -0.000611\n",
            "             ...   \n",
            "3808174    0.013848\n",
            "3808175    0.013848\n",
            "3808176    0.013848\n",
            "3808177    0.013848\n",
            "3808178    0.013848\n",
            "Name: price_change, Length: 2856010, dtype: float64\n"
          ]
        },
        {
          "output_type": "stream",
          "name": "stderr",
          "text": [
            "\r  0%|          | 151/2856834 [01:11<265:56:10,  2.98it/s]"
          ]
        },
        {
          "output_type": "stream",
          "name": "stdout",
          "text": [
            "price_change 1149      -0.000611\n",
            "1150      -0.000611\n",
            "1151      -0.000611\n",
            "1152      -0.000611\n",
            "1153      -0.000611\n",
            "             ...   \n",
            "3808174    0.013848\n",
            "3808175    0.013848\n",
            "3808176    0.013848\n",
            "3808177    0.013848\n",
            "3808178    0.013848\n",
            "Name: price_change, Length: 2856010, dtype: float64\n"
          ]
        },
        {
          "output_type": "stream",
          "name": "stderr",
          "text": [
            "\r  0%|          | 152/2856834 [01:11<297:47:34,  2.66it/s]"
          ]
        },
        {
          "output_type": "stream",
          "name": "stdout",
          "text": [
            "price_change 1149      -0.000611\n",
            "1150      -0.000611\n",
            "1151      -0.000611\n",
            "1152      -0.000611\n",
            "1153      -0.000611\n",
            "             ...   \n",
            "3808174    0.013848\n",
            "3808175    0.013848\n",
            "3808176    0.013848\n",
            "3808177    0.013848\n",
            "3808178    0.013848\n",
            "Name: price_change, Length: 2856010, dtype: float64\n"
          ]
        },
        {
          "output_type": "stream",
          "name": "stderr",
          "text": [
            "\r  0%|          | 153/2856834 [01:12<315:40:05,  2.51it/s]"
          ]
        },
        {
          "output_type": "stream",
          "name": "stdout",
          "text": [
            "price_change 1149      -0.000611\n",
            "1150      -0.000611\n",
            "1151      -0.000611\n",
            "1152      -0.000611\n",
            "1153      -0.000611\n",
            "             ...   \n",
            "3808174    0.013848\n",
            "3808175    0.013848\n",
            "3808176    0.013848\n",
            "3808177    0.013848\n",
            "3808178    0.013848\n",
            "Name: price_change, Length: 2856010, dtype: float64\n"
          ]
        },
        {
          "output_type": "stream",
          "name": "stderr",
          "text": [
            "\r  0%|          | 154/2856834 [01:12<327:39:40,  2.42it/s]"
          ]
        },
        {
          "output_type": "stream",
          "name": "stdout",
          "text": [
            "price_change 1149      -0.000611\n",
            "1150      -0.000611\n",
            "1151      -0.000611\n",
            "1152      -0.000611\n",
            "1153      -0.000611\n",
            "             ...   \n",
            "3808174    0.013848\n",
            "3808175    0.013848\n",
            "3808176    0.013848\n",
            "3808177    0.013848\n",
            "3808178    0.013848\n",
            "Name: price_change, Length: 2856010, dtype: float64\n"
          ]
        },
        {
          "output_type": "stream",
          "name": "stderr",
          "text": [
            "\r  0%|          | 155/2856834 [01:12<336:06:52,  2.36it/s]"
          ]
        },
        {
          "output_type": "stream",
          "name": "stdout",
          "text": [
            "price_change 1149      -0.000611\n",
            "1150      -0.000611\n",
            "1151      -0.000611\n",
            "1152      -0.000611\n",
            "1153      -0.000611\n",
            "             ...   \n",
            "3808174    0.013848\n",
            "3808175    0.013848\n",
            "3808176    0.013848\n",
            "3808177    0.013848\n",
            "3808178    0.013848\n",
            "Name: price_change, Length: 2856010, dtype: float64\n"
          ]
        },
        {
          "output_type": "stream",
          "name": "stderr",
          "text": [
            "\r  0%|          | 156/2856834 [01:13<321:56:28,  2.46it/s]"
          ]
        },
        {
          "output_type": "stream",
          "name": "stdout",
          "text": [
            "price_change 1149      -0.000611\n",
            "1150      -0.000611\n",
            "1151      -0.000611\n",
            "1152      -0.000611\n",
            "1153      -0.000611\n",
            "             ...   \n",
            "3808174    0.013848\n",
            "3808175    0.013848\n",
            "3808176    0.013848\n",
            "3808177    0.013848\n",
            "3808178    0.013848\n",
            "Name: price_change, Length: 2856010, dtype: float64\n"
          ]
        },
        {
          "output_type": "stream",
          "name": "stderr",
          "text": [
            "\r  0%|          | 157/2856834 [01:13<300:50:48,  2.64it/s]"
          ]
        },
        {
          "output_type": "stream",
          "name": "stdout",
          "text": [
            "price_change 1149      -0.000611\n",
            "1150      -0.000611\n",
            "1151      -0.000611\n",
            "1152      -0.000611\n",
            "1153      -0.000611\n",
            "             ...   \n",
            "3808174    0.013848\n",
            "3808175    0.013848\n",
            "3808176    0.013848\n",
            "3808177    0.013848\n",
            "3808178    0.013848\n",
            "Name: price_change, Length: 2856010, dtype: float64\n"
          ]
        },
        {
          "output_type": "stream",
          "name": "stderr",
          "text": [
            "\r  0%|          | 158/2856834 [01:13<286:47:58,  2.77it/s]"
          ]
        },
        {
          "output_type": "stream",
          "name": "stdout",
          "text": [
            "price_change 1149      -0.000611\n",
            "1150      -0.000611\n",
            "1151      -0.000611\n",
            "1152      -0.000611\n",
            "1153      -0.000611\n",
            "             ...   \n",
            "3808174    0.013848\n",
            "3808175    0.013848\n",
            "3808176    0.013848\n",
            "3808177    0.013848\n",
            "3808178    0.013848\n",
            "Name: price_change, Length: 2856010, dtype: float64\n"
          ]
        },
        {
          "output_type": "stream",
          "name": "stderr",
          "text": [
            "\r  0%|          | 159/2856834 [01:14<274:09:51,  2.89it/s]"
          ]
        },
        {
          "output_type": "stream",
          "name": "stdout",
          "text": [
            "price_change 1149      -0.000611\n",
            "1150      -0.000611\n",
            "1151      -0.000611\n",
            "1152      -0.000611\n",
            "1153      -0.000611\n",
            "             ...   \n",
            "3808174    0.013848\n",
            "3808175    0.013848\n",
            "3808176    0.013848\n",
            "3808177    0.013848\n",
            "3808178    0.013848\n",
            "Name: price_change, Length: 2856010, dtype: float64\n"
          ]
        },
        {
          "output_type": "stream",
          "name": "stderr",
          "text": [
            "\r  0%|          | 160/2856834 [01:14<264:46:56,  3.00it/s]"
          ]
        },
        {
          "output_type": "stream",
          "name": "stdout",
          "text": [
            "price_change 1149      -0.000611\n",
            "1150      -0.000611\n",
            "1151      -0.000611\n",
            "1152      -0.000611\n",
            "1153      -0.000611\n",
            "             ...   \n",
            "3808174    0.013848\n",
            "3808175    0.013848\n",
            "3808176    0.013848\n",
            "3808177    0.013848\n",
            "3808178    0.013848\n",
            "Name: price_change, Length: 2856010, dtype: float64\n"
          ]
        },
        {
          "output_type": "stream",
          "name": "stderr",
          "text": [
            "\r  0%|          | 161/2856834 [01:14<258:57:25,  3.06it/s]"
          ]
        },
        {
          "output_type": "stream",
          "name": "stdout",
          "text": [
            "price_change 1149      -0.000611\n",
            "1150      -0.000611\n",
            "1151      -0.000611\n",
            "1152      -0.000611\n",
            "1153      -0.000611\n",
            "             ...   \n",
            "3808174    0.013848\n",
            "3808175    0.013848\n",
            "3808176    0.013848\n",
            "3808177    0.013848\n",
            "3808178    0.013848\n",
            "Name: price_change, Length: 2856010, dtype: float64\n"
          ]
        },
        {
          "output_type": "stream",
          "name": "stderr",
          "text": [
            "\r  0%|          | 162/2856834 [01:15<257:43:47,  3.08it/s]"
          ]
        },
        {
          "output_type": "stream",
          "name": "stdout",
          "text": [
            "price_change 1149      -0.000611\n",
            "1150      -0.000611\n",
            "1151      -0.000611\n",
            "1152      -0.000611\n",
            "1153      -0.000611\n",
            "             ...   \n",
            "3808174    0.013848\n",
            "3808175    0.013848\n",
            "3808176    0.013848\n",
            "3808177    0.013848\n",
            "3808178    0.013848\n",
            "Name: price_change, Length: 2856010, dtype: float64\n"
          ]
        },
        {
          "output_type": "stream",
          "name": "stderr",
          "text": [
            "\r  0%|          | 163/2856834 [01:15<289:22:25,  2.74it/s]"
          ]
        },
        {
          "output_type": "stream",
          "name": "stdout",
          "text": [
            "price_change 1149      -0.000611\n",
            "1150      -0.000611\n",
            "1151      -0.000611\n",
            "1152      -0.000611\n",
            "1153      -0.000611\n",
            "             ...   \n",
            "3808174    0.013848\n",
            "3808175    0.013848\n",
            "3808176    0.013848\n",
            "3808177    0.013848\n",
            "3808178    0.013848\n",
            "Name: price_change, Length: 2856010, dtype: float64\n"
          ]
        },
        {
          "output_type": "stream",
          "name": "stderr",
          "text": [
            "\r  0%|          | 164/2856834 [01:16<312:10:19,  2.54it/s]"
          ]
        },
        {
          "output_type": "stream",
          "name": "stdout",
          "text": [
            "price_change 1149      -0.000611\n",
            "1150      -0.000611\n",
            "1151      -0.000611\n",
            "1152      -0.000611\n",
            "1153      -0.000611\n",
            "             ...   \n",
            "3808174    0.013848\n",
            "3808175    0.013848\n",
            "3808176    0.013848\n",
            "3808177    0.013848\n",
            "3808178    0.013848\n",
            "Name: price_change, Length: 2856010, dtype: float64\n"
          ]
        },
        {
          "output_type": "stream",
          "name": "stderr",
          "text": [
            "\r  0%|          | 165/2856834 [01:16<324:26:24,  2.45it/s]"
          ]
        },
        {
          "output_type": "stream",
          "name": "stdout",
          "text": [
            "price_change 1149      -0.000611\n",
            "1150      -0.000611\n",
            "1151      -0.000611\n",
            "1152      -0.000611\n",
            "1153      -0.000611\n",
            "             ...   \n",
            "3808174    0.013848\n",
            "3808175    0.013848\n",
            "3808176    0.013848\n",
            "3808177    0.013848\n",
            "3808178    0.013848\n",
            "Name: price_change, Length: 2856010, dtype: float64\n"
          ]
        },
        {
          "output_type": "stream",
          "name": "stderr",
          "text": [
            "\r  0%|          | 166/2856834 [01:16<334:30:19,  2.37it/s]"
          ]
        },
        {
          "output_type": "stream",
          "name": "stdout",
          "text": [
            "price_change 1149      -0.000611\n",
            "1150      -0.000611\n",
            "1151      -0.000611\n",
            "1152      -0.000611\n",
            "1153      -0.000611\n",
            "             ...   \n",
            "3808174    0.013848\n",
            "3808175    0.013848\n",
            "3808176    0.013848\n",
            "3808177    0.013848\n",
            "3808178    0.013848\n",
            "Name: price_change, Length: 2856010, dtype: float64\n"
          ]
        },
        {
          "output_type": "stream",
          "name": "stderr",
          "text": [
            "\r  0%|          | 167/2856834 [01:17<320:47:19,  2.47it/s]"
          ]
        },
        {
          "output_type": "stream",
          "name": "stdout",
          "text": [
            "price_change 1149      -0.000611\n",
            "1150      -0.000611\n",
            "1151      -0.000611\n",
            "1152      -0.000611\n",
            "1153      -0.000611\n",
            "             ...   \n",
            "3808174    0.013848\n",
            "3808175    0.013848\n",
            "3808176    0.013848\n",
            "3808177    0.013848\n",
            "3808178    0.013848\n",
            "Name: price_change, Length: 2856010, dtype: float64\n"
          ]
        },
        {
          "output_type": "stream",
          "name": "stderr",
          "text": [
            "\r  0%|          | 168/2856834 [01:17<302:44:34,  2.62it/s]"
          ]
        },
        {
          "output_type": "stream",
          "name": "stdout",
          "text": [
            "price_change 1149      -0.000611\n",
            "1150      -0.000611\n",
            "1151      -0.000611\n",
            "1152      -0.000611\n",
            "1153      -0.000611\n",
            "             ...   \n",
            "3808174    0.013848\n",
            "3808175    0.013848\n",
            "3808176    0.013848\n",
            "3808177    0.013848\n",
            "3808178    0.013848\n",
            "Name: price_change, Length: 2856010, dtype: float64\n"
          ]
        },
        {
          "output_type": "stream",
          "name": "stderr",
          "text": [
            "\r  0%|          | 169/2856834 [01:17<285:40:19,  2.78it/s]"
          ]
        },
        {
          "output_type": "stream",
          "name": "stdout",
          "text": [
            "price_change 1149      -0.000611\n",
            "1150      -0.000611\n",
            "1151      -0.000611\n",
            "1152      -0.000611\n",
            "1153      -0.000611\n",
            "             ...   \n",
            "3808174    0.013848\n",
            "3808175    0.013848\n",
            "3808176    0.013848\n",
            "3808177    0.013848\n",
            "3808178    0.013848\n",
            "Name: price_change, Length: 2856010, dtype: float64\n"
          ]
        },
        {
          "output_type": "stream",
          "name": "stderr",
          "text": [
            "\r  0%|          | 170/2856834 [01:18<288:26:02,  2.75it/s]"
          ]
        },
        {
          "output_type": "stream",
          "name": "stdout",
          "text": [
            "price_change 1149      -0.000605\n",
            "1150      -0.000605\n",
            "1151      -0.000605\n",
            "1152      -0.000605\n",
            "1153      -0.000605\n",
            "             ...   \n",
            "3808174    0.013855\n",
            "3808175    0.013855\n",
            "3808176    0.013855\n",
            "3808177    0.013855\n",
            "3808178    0.013855\n",
            "Name: price_change, Length: 2856010, dtype: float64\n"
          ]
        },
        {
          "output_type": "stream",
          "name": "stderr",
          "text": [
            "\r  0%|          | 171/2856834 [01:18<311:19:18,  2.55it/s]"
          ]
        },
        {
          "output_type": "stream",
          "name": "stdout",
          "text": [
            "price_change 1149      -0.000531\n",
            "1150      -0.000531\n",
            "1151      -0.000531\n",
            "1152      -0.000531\n",
            "1153      -0.000531\n",
            "             ...   \n",
            "3808174    0.013930\n",
            "3808175    0.013930\n",
            "3808176    0.013930\n",
            "3808177    0.013930\n",
            "3808178    0.013930\n",
            "Name: price_change, Length: 2856010, dtype: float64\n"
          ]
        },
        {
          "output_type": "stream",
          "name": "stderr",
          "text": [
            "\r  0%|          | 172/2856834 [01:19<321:39:04,  2.47it/s]"
          ]
        },
        {
          "output_type": "stream",
          "name": "stdout",
          "text": [
            "price_change 1149      -0.000515\n",
            "1150      -0.000515\n",
            "1151      -0.000515\n",
            "1152      -0.000515\n",
            "1153      -0.000515\n",
            "             ...   \n",
            "3808174    0.013945\n",
            "3808175    0.013945\n",
            "3808176    0.013945\n",
            "3808177    0.013945\n",
            "3808178    0.013945\n",
            "Name: price_change, Length: 2856010, dtype: float64\n"
          ]
        },
        {
          "output_type": "stream",
          "name": "stderr",
          "text": [
            "\r  0%|          | 173/2856834 [01:19<304:28:40,  2.61it/s]"
          ]
        },
        {
          "output_type": "stream",
          "name": "stdout",
          "text": [
            "price_change 1149      -0.000515\n",
            "1150      -0.000515\n",
            "1151      -0.000515\n",
            "1152      -0.000515\n",
            "1153      -0.000515\n",
            "             ...   \n",
            "3808174    0.013945\n",
            "3808175    0.013945\n",
            "3808176    0.013945\n",
            "3808177    0.013945\n",
            "3808178    0.013945\n",
            "Name: price_change, Length: 2856010, dtype: float64\n"
          ]
        },
        {
          "output_type": "stream",
          "name": "stderr",
          "text": [
            "\r  0%|          | 174/2856834 [01:19<298:50:31,  2.66it/s]"
          ]
        },
        {
          "output_type": "stream",
          "name": "stdout",
          "text": [
            "price_change 1149      -0.000503\n",
            "1150      -0.000503\n",
            "1151      -0.000503\n",
            "1152      -0.000503\n",
            "1153      -0.000503\n",
            "             ...   \n",
            "3808174    0.013958\n",
            "3808175    0.013958\n",
            "3808176    0.013958\n",
            "3808177    0.013958\n",
            "3808178    0.013958\n",
            "Name: price_change, Length: 2856010, dtype: float64\n"
          ]
        },
        {
          "output_type": "stream",
          "name": "stderr",
          "text": [
            "\r  0%|          | 175/2856834 [01:20<292:40:21,  2.71it/s]"
          ]
        },
        {
          "output_type": "stream",
          "name": "stdout",
          "text": [
            "price_change 1149      -0.000503\n",
            "1150      -0.000503\n",
            "1151      -0.000503\n",
            "1152      -0.000503\n",
            "1153      -0.000503\n",
            "             ...   \n",
            "3808174    0.013958\n",
            "3808175    0.013958\n",
            "3808176    0.013958\n",
            "3808177    0.013958\n",
            "3808178    0.013958\n",
            "Name: price_change, Length: 2856010, dtype: float64\n"
          ]
        },
        {
          "output_type": "stream",
          "name": "stderr",
          "text": [
            "\r  0%|          | 176/2856834 [01:20<292:06:09,  2.72it/s]"
          ]
        },
        {
          "output_type": "stream",
          "name": "stdout",
          "text": [
            "price_change 1149      -0.000500\n",
            "1150      -0.000500\n",
            "1151      -0.000500\n",
            "1152      -0.000500\n",
            "1153      -0.000500\n",
            "             ...   \n",
            "3808174    0.013961\n",
            "3808175    0.013961\n",
            "3808176    0.013961\n",
            "3808177    0.013961\n",
            "3808178    0.013961\n",
            "Name: price_change, Length: 2856010, dtype: float64\n"
          ]
        },
        {
          "output_type": "stream",
          "name": "stderr",
          "text": [
            "\r  0%|          | 177/2856834 [01:21<291:37:35,  2.72it/s]"
          ]
        },
        {
          "output_type": "stream",
          "name": "stdout",
          "text": [
            "price_change 1149      -0.000500\n",
            "1150      -0.000500\n",
            "1151      -0.000500\n",
            "1152      -0.000500\n",
            "1153      -0.000500\n",
            "             ...   \n",
            "3808174    0.013961\n",
            "3808175    0.013961\n",
            "3808176    0.013961\n",
            "3808177    0.013961\n",
            "3808178    0.013961\n",
            "Name: price_change, Length: 2856010, dtype: float64\n"
          ]
        },
        {
          "output_type": "stream",
          "name": "stderr",
          "text": [
            "\r  0%|          | 178/2856834 [01:21<308:09:23,  2.58it/s]"
          ]
        },
        {
          "output_type": "stream",
          "name": "stdout",
          "text": [
            "price_change 1149      -0.000500\n",
            "1150      -0.000500\n",
            "1151      -0.000500\n",
            "1152      -0.000500\n",
            "1153      -0.000500\n",
            "             ...   \n",
            "3808174    0.013961\n",
            "3808175    0.013961\n",
            "3808176    0.013961\n",
            "3808177    0.013961\n",
            "3808178    0.013961\n",
            "Name: price_change, Length: 2856010, dtype: float64\n"
          ]
        },
        {
          "output_type": "stream",
          "name": "stderr",
          "text": [
            "\r  0%|          | 179/2856834 [01:21<342:42:12,  2.32it/s]"
          ]
        },
        {
          "output_type": "stream",
          "name": "stdout",
          "text": [
            "price_change 1149      -0.000500\n",
            "1150      -0.000500\n",
            "1151      -0.000500\n",
            "1152      -0.000500\n",
            "1153      -0.000500\n",
            "             ...   \n",
            "3808174    0.013961\n",
            "3808175    0.013961\n",
            "3808176    0.013961\n",
            "3808177    0.013961\n",
            "3808178    0.013961\n",
            "Name: price_change, Length: 2856010, dtype: float64\n"
          ]
        },
        {
          "output_type": "stream",
          "name": "stderr",
          "text": [
            "\r  0%|          | 180/2856834 [01:22<366:21:40,  2.17it/s]"
          ]
        },
        {
          "output_type": "stream",
          "name": "stdout",
          "text": [
            "price_change 1149      -0.000500\n",
            "1150      -0.000500\n",
            "1151      -0.000500\n",
            "1152      -0.000500\n",
            "1153      -0.000500\n",
            "             ...   \n",
            "3808174    0.013961\n",
            "3808175    0.013961\n",
            "3808176    0.013961\n",
            "3808177    0.013961\n",
            "3808178    0.013961\n",
            "Name: price_change, Length: 2856010, dtype: float64\n"
          ]
        },
        {
          "output_type": "stream",
          "name": "stderr",
          "text": [
            "\r  0%|          | 181/2856834 [01:23<380:27:00,  2.09it/s]"
          ]
        },
        {
          "output_type": "stream",
          "name": "stdout",
          "text": [
            "price_change 1149      -0.000500\n",
            "1150      -0.000500\n",
            "1151      -0.000500\n",
            "1152      -0.000500\n",
            "1153      -0.000500\n",
            "             ...   \n",
            "3808174    0.013961\n",
            "3808175    0.013961\n",
            "3808176    0.013961\n",
            "3808177    0.013961\n",
            "3808178    0.013961\n",
            "Name: price_change, Length: 2856010, dtype: float64\n"
          ]
        },
        {
          "output_type": "stream",
          "name": "stderr",
          "text": [
            "\r  0%|          | 182/2856834 [01:23<367:38:59,  2.16it/s]"
          ]
        },
        {
          "output_type": "stream",
          "name": "stdout",
          "text": [
            "price_change 1149      -0.000500\n",
            "1150      -0.000500\n",
            "1151      -0.000500\n",
            "1152      -0.000500\n",
            "1153      -0.000500\n",
            "             ...   \n",
            "3808174    0.013961\n",
            "3808175    0.013961\n",
            "3808176    0.013961\n",
            "3808177    0.013961\n",
            "3808178    0.013961\n",
            "Name: price_change, Length: 2856010, dtype: float64\n"
          ]
        },
        {
          "output_type": "stream",
          "name": "stderr",
          "text": [
            "\r  0%|          | 183/2856834 [01:23<347:16:03,  2.29it/s]"
          ]
        },
        {
          "output_type": "stream",
          "name": "stdout",
          "text": [
            "price_change 1149      -0.000469\n",
            "1150      -0.000469\n",
            "1151      -0.000469\n",
            "1152      -0.000469\n",
            "1153      -0.000469\n",
            "             ...   \n",
            "3808174    0.013992\n",
            "3808175    0.013992\n",
            "3808176    0.013992\n",
            "3808177    0.013992\n",
            "3808178    0.013992\n",
            "Name: price_change, Length: 2856010, dtype: float64\n"
          ]
        },
        {
          "output_type": "stream",
          "name": "stderr",
          "text": [
            "\r  0%|          | 184/2856834 [01:24<326:18:55,  2.43it/s]"
          ]
        },
        {
          "output_type": "stream",
          "name": "stdout",
          "text": [
            "price_change 1149      -0.000469\n",
            "1150      -0.000469\n",
            "1151      -0.000469\n",
            "1152      -0.000469\n",
            "1153      -0.000469\n",
            "             ...   \n",
            "3808174    0.013992\n",
            "3808175    0.013992\n",
            "3808176    0.013992\n",
            "3808177    0.013992\n",
            "3808178    0.013992\n",
            "Name: price_change, Length: 2856010, dtype: float64\n"
          ]
        },
        {
          "output_type": "stream",
          "name": "stderr",
          "text": [
            "\r  0%|          | 185/2856834 [01:24<328:09:24,  2.42it/s]"
          ]
        },
        {
          "output_type": "stream",
          "name": "stdout",
          "text": [
            "price_change 1149      -0.000444\n",
            "1150      -0.000444\n",
            "1151      -0.000444\n",
            "1152      -0.000444\n",
            "1153      -0.000444\n",
            "             ...   \n",
            "3808174    0.014017\n",
            "3808175    0.014017\n",
            "3808176    0.014017\n",
            "3808177    0.014017\n",
            "3808178    0.014017\n",
            "Name: price_change, Length: 2856010, dtype: float64\n"
          ]
        },
        {
          "output_type": "stream",
          "name": "stderr",
          "text": [
            "\r  0%|          | 186/2856834 [01:25<337:54:19,  2.35it/s]"
          ]
        },
        {
          "output_type": "stream",
          "name": "stdout",
          "text": [
            "price_change 1150      -0.000414\n",
            "1151      -0.000414\n",
            "1152      -0.000414\n",
            "1153      -0.000414\n",
            "1154      -0.000414\n",
            "             ...   \n",
            "3808174    0.014049\n",
            "3808175    0.014049\n",
            "3808176    0.014049\n",
            "3808177    0.014049\n",
            "3808178    0.014049\n",
            "Name: price_change, Length: 2856009, dtype: float64\n"
          ]
        },
        {
          "output_type": "stream",
          "name": "stderr",
          "text": [
            "\r  0%|          | 187/2856834 [01:25<330:52:00,  2.40it/s]"
          ]
        },
        {
          "output_type": "stream",
          "name": "stdout",
          "text": [
            "price_change 1151      -0.000407\n",
            "1152      -0.000407\n",
            "1153      -0.000407\n",
            "1154      -0.000407\n",
            "1155      -0.000407\n",
            "             ...   \n",
            "3808174    0.014055\n",
            "3808175    0.014055\n",
            "3808176    0.014055\n",
            "3808177    0.014055\n",
            "3808178    0.014055\n",
            "Name: price_change, Length: 2856008, dtype: float64\n"
          ]
        },
        {
          "output_type": "stream",
          "name": "stderr",
          "text": [
            "\r  0%|          | 188/2856834 [01:25<309:21:29,  2.57it/s]"
          ]
        },
        {
          "output_type": "stream",
          "name": "stdout",
          "text": [
            "price_change 1151      -0.000404\n",
            "1152      -0.000404\n",
            "1153      -0.000404\n",
            "1154      -0.000404\n",
            "1155      -0.000404\n",
            "             ...   \n",
            "3808174    0.014058\n",
            "3808175    0.014058\n",
            "3808176    0.014058\n",
            "3808177    0.014058\n",
            "3808178    0.014058\n",
            "Name: price_change, Length: 2856008, dtype: float64\n"
          ]
        },
        {
          "output_type": "stream",
          "name": "stderr",
          "text": [
            "\r  0%|          | 189/2856834 [01:26<289:40:06,  2.74it/s]"
          ]
        },
        {
          "output_type": "stream",
          "name": "stdout",
          "text": [
            "price_change 1151      -0.000404\n",
            "1152      -0.000404\n",
            "1153      -0.000404\n",
            "1154      -0.000404\n",
            "1155      -0.000404\n",
            "             ...   \n",
            "3808174    0.014058\n",
            "3808175    0.014058\n",
            "3808176    0.014058\n",
            "3808177    0.014058\n",
            "3808178    0.014058\n",
            "Name: price_change, Length: 2856008, dtype: float64\n"
          ]
        },
        {
          "output_type": "stream",
          "name": "stderr",
          "text": [
            "\r  0%|          | 190/2856834 [01:26<287:39:26,  2.76it/s]"
          ]
        },
        {
          "output_type": "stream",
          "name": "stdout",
          "text": [
            "price_change 1151      -0.000401\n",
            "1152      -0.000401\n",
            "1153      -0.000401\n",
            "1154      -0.000401\n",
            "1155      -0.000401\n",
            "             ...   \n",
            "3808174    0.014061\n",
            "3808175    0.014061\n",
            "3808176    0.014061\n",
            "3808177    0.014061\n",
            "3808178    0.014061\n",
            "Name: price_change, Length: 2856008, dtype: float64\n"
          ]
        },
        {
          "output_type": "stream",
          "name": "stderr",
          "text": [
            "\r  0%|          | 191/2856834 [01:26<311:29:14,  2.55it/s]"
          ]
        },
        {
          "output_type": "stream",
          "name": "stdout",
          "text": [
            "price_change 1151      -0.000401\n",
            "1152      -0.000401\n",
            "1153      -0.000401\n",
            "1154      -0.000401\n",
            "1155      -0.000401\n",
            "             ...   \n",
            "3808174    0.014061\n",
            "3808175    0.014061\n",
            "3808176    0.014061\n",
            "3808177    0.014061\n",
            "3808178    0.014061\n",
            "Name: price_change, Length: 2856008, dtype: float64\n"
          ]
        },
        {
          "output_type": "stream",
          "name": "stderr",
          "text": [
            "\r  0%|          | 192/2856834 [01:27<328:21:29,  2.42it/s]"
          ]
        },
        {
          "output_type": "stream",
          "name": "stdout",
          "text": [
            "price_change 1151      -0.000401\n",
            "1152      -0.000401\n",
            "1153      -0.000401\n",
            "1154      -0.000401\n",
            "1155      -0.000401\n",
            "             ...   \n",
            "3808174    0.014061\n",
            "3808175    0.014061\n",
            "3808176    0.014061\n",
            "3808177    0.014061\n",
            "3808178    0.014061\n",
            "Name: price_change, Length: 2856008, dtype: float64\n"
          ]
        },
        {
          "output_type": "stream",
          "name": "stderr",
          "text": [
            "\r  0%|          | 193/2856834 [01:27<309:54:57,  2.56it/s]"
          ]
        },
        {
          "output_type": "stream",
          "name": "stdout",
          "text": [
            "price_change 1151      -0.000401\n",
            "1152      -0.000401\n",
            "1153      -0.000401\n",
            "1154      -0.000401\n",
            "1155      -0.000401\n",
            "             ...   \n",
            "3808174    0.014061\n",
            "3808175    0.014061\n",
            "3808176    0.014061\n",
            "3808177    0.014061\n",
            "3808178    0.014061\n",
            "Name: price_change, Length: 2856008, dtype: float64\n"
          ]
        },
        {
          "output_type": "stream",
          "name": "stderr",
          "text": [
            "\r  0%|          | 194/2856834 [01:28<290:28:38,  2.73it/s]"
          ]
        },
        {
          "output_type": "stream",
          "name": "stdout",
          "text": [
            "price_change 1151      -0.000401\n",
            "1152      -0.000401\n",
            "1153      -0.000401\n",
            "1154      -0.000401\n",
            "1155      -0.000401\n",
            "             ...   \n",
            "3808174    0.014061\n",
            "3808175    0.014061\n",
            "3808176    0.014061\n",
            "3808177    0.014061\n",
            "3808178    0.014061\n",
            "Name: price_change, Length: 2856008, dtype: float64\n"
          ]
        },
        {
          "output_type": "stream",
          "name": "stderr",
          "text": [
            "\r  0%|          | 195/2856834 [01:28<276:12:30,  2.87it/s]"
          ]
        },
        {
          "output_type": "stream",
          "name": "stdout",
          "text": [
            "price_change 1151      -0.000401\n",
            "1152      -0.000401\n",
            "1153      -0.000401\n",
            "1154      -0.000401\n",
            "1155      -0.000401\n",
            "             ...   \n",
            "3808174    0.014061\n",
            "3808175    0.014061\n",
            "3808176    0.014061\n",
            "3808177    0.014061\n",
            "3808178    0.014061\n",
            "Name: price_change, Length: 2856008, dtype: float64\n"
          ]
        },
        {
          "output_type": "stream",
          "name": "stderr",
          "text": [
            "\r  0%|          | 196/2856834 [01:28<267:44:51,  2.96it/s]"
          ]
        },
        {
          "output_type": "stream",
          "name": "stdout",
          "text": [
            "price_change 1151      -0.000401\n",
            "1152      -0.000401\n",
            "1153      -0.000401\n",
            "1154      -0.000401\n",
            "1155      -0.000401\n",
            "             ...   \n",
            "3808174    0.014061\n",
            "3808175    0.014061\n",
            "3808176    0.014061\n",
            "3808177    0.014061\n",
            "3808178    0.014061\n",
            "Name: price_change, Length: 2856008, dtype: float64\n"
          ]
        },
        {
          "output_type": "stream",
          "name": "stderr",
          "text": [
            "\r  0%|          | 197/2856834 [01:28<262:14:20,  3.03it/s]"
          ]
        },
        {
          "output_type": "stream",
          "name": "stdout",
          "text": [
            "price_change 1151      -0.000401\n",
            "1152      -0.000401\n",
            "1153      -0.000401\n",
            "1154      -0.000401\n",
            "1155      -0.000401\n",
            "             ...   \n",
            "3808174    0.014061\n",
            "3808175    0.014061\n",
            "3808176    0.014061\n",
            "3808177    0.014061\n",
            "3808178    0.014061\n",
            "Name: price_change, Length: 2856008, dtype: float64\n"
          ]
        },
        {
          "output_type": "stream",
          "name": "stderr",
          "text": [
            "\r  0%|          | 198/2856834 [01:29<257:59:59,  3.08it/s]"
          ]
        },
        {
          "output_type": "stream",
          "name": "stdout",
          "text": [
            "price_change 1151      -0.000401\n",
            "1152      -0.000401\n",
            "1153      -0.000401\n",
            "1154      -0.000401\n",
            "1155      -0.000401\n",
            "             ...   \n",
            "3808174    0.014061\n",
            "3808175    0.014061\n",
            "3808176    0.014061\n",
            "3808177    0.014061\n",
            "3808178    0.014061\n",
            "Name: price_change, Length: 2856008, dtype: float64\n"
          ]
        },
        {
          "output_type": "stream",
          "name": "stderr",
          "text": [
            "\r  0%|          | 199/2856834 [01:29<254:30:55,  3.12it/s]"
          ]
        },
        {
          "output_type": "stream",
          "name": "stdout",
          "text": [
            "price_change 1151      -0.000401\n",
            "1152      -0.000401\n",
            "1153      -0.000401\n",
            "1154      -0.000401\n",
            "1155      -0.000401\n",
            "             ...   \n",
            "3808174    0.014061\n",
            "3808175    0.014061\n",
            "3808176    0.014061\n",
            "3808177    0.014061\n",
            "3808178    0.014061\n",
            "Name: price_change, Length: 2856008, dtype: float64\n"
          ]
        },
        {
          "output_type": "stream",
          "name": "stderr",
          "text": [
            "\r  0%|          | 200/2856834 [01:29<249:10:34,  3.18it/s]"
          ]
        },
        {
          "output_type": "stream",
          "name": "stdout",
          "text": [
            "price_change 1151      -0.000398\n",
            "1152      -0.000398\n",
            "1153      -0.000398\n",
            "1154      -0.000398\n",
            "1155      -0.000398\n",
            "             ...   \n",
            "3808174    0.014064\n",
            "3808175    0.014064\n",
            "3808176    0.014064\n",
            "3808177    0.014064\n",
            "3808178    0.014064\n",
            "Name: price_change, Length: 2856008, dtype: float64\n"
          ]
        },
        {
          "output_type": "stream",
          "name": "stderr",
          "text": [
            "\r  0%|          | 201/2856834 [01:30<245:36:52,  3.23it/s]"
          ]
        },
        {
          "output_type": "stream",
          "name": "stdout",
          "text": [
            "price_change 1151      -0.000395\n",
            "1152      -0.000395\n",
            "1153      -0.000395\n",
            "1154      -0.000395\n",
            "1155      -0.000395\n",
            "             ...   \n",
            "3808174    0.014068\n",
            "3808175    0.014068\n",
            "3808176    0.014068\n",
            "3808177    0.014068\n",
            "3808178    0.014068\n",
            "Name: price_change, Length: 2856008, dtype: float64\n"
          ]
        },
        {
          "output_type": "stream",
          "name": "stderr",
          "text": [
            "\r  0%|          | 202/2856834 [01:30<244:07:36,  3.25it/s]"
          ]
        },
        {
          "output_type": "stream",
          "name": "stdout",
          "text": [
            "price_change 1151      -0.000395\n",
            "1152      -0.000395\n",
            "1153      -0.000395\n",
            "1154      -0.000395\n",
            "1155      -0.000395\n",
            "             ...   \n",
            "3808174    0.014068\n",
            "3808175    0.014068\n",
            "3808176    0.014068\n",
            "3808177    0.014068\n",
            "3808178    0.014068\n",
            "Name: price_change, Length: 2856008, dtype: float64\n"
          ]
        },
        {
          "output_type": "stream",
          "name": "stderr",
          "text": [
            "\r  0%|          | 203/2856834 [01:30<243:41:47,  3.26it/s]"
          ]
        },
        {
          "output_type": "stream",
          "name": "stdout",
          "text": [
            "price_change 1151      -0.000395\n",
            "1152      -0.000395\n",
            "1153      -0.000395\n",
            "1154      -0.000395\n",
            "1155      -0.000395\n",
            "             ...   \n",
            "3808174    0.014068\n",
            "3808175    0.014068\n",
            "3808176    0.014068\n",
            "3808177    0.014068\n",
            "3808178    0.014068\n",
            "Name: price_change, Length: 2856008, dtype: float64\n"
          ]
        },
        {
          "output_type": "stream",
          "name": "stderr",
          "text": [
            "\r  0%|          | 204/2856834 [01:31<242:10:37,  3.28it/s]"
          ]
        },
        {
          "output_type": "stream",
          "name": "stdout",
          "text": [
            "price_change 1151      -0.000395\n",
            "1152      -0.000395\n",
            "1153      -0.000395\n",
            "1154      -0.000395\n",
            "1155      -0.000395\n",
            "             ...   \n",
            "3808174    0.014068\n",
            "3808175    0.014068\n",
            "3808176    0.014068\n",
            "3808177    0.014068\n",
            "3808178    0.014068\n",
            "Name: price_change, Length: 2856008, dtype: float64\n"
          ]
        },
        {
          "output_type": "stream",
          "name": "stderr",
          "text": [
            "\r  0%|          | 205/2856834 [01:31<243:40:44,  3.26it/s]"
          ]
        },
        {
          "output_type": "stream",
          "name": "stdout",
          "text": [
            "price_change 1151      -0.000395\n",
            "1152      -0.000395\n",
            "1153      -0.000395\n",
            "1154      -0.000395\n",
            "1155      -0.000395\n",
            "             ...   \n",
            "3808174    0.014068\n",
            "3808175    0.014068\n",
            "3808176    0.014068\n",
            "3808177    0.014068\n",
            "3808178    0.014068\n",
            "Name: price_change, Length: 2856008, dtype: float64\n"
          ]
        },
        {
          "output_type": "stream",
          "name": "stderr",
          "text": [
            "\r  0%|          | 206/2856834 [01:31<243:28:31,  3.26it/s]"
          ]
        },
        {
          "output_type": "stream",
          "name": "stdout",
          "text": [
            "price_change 1151      -0.000395\n",
            "1152      -0.000395\n",
            "1153      -0.000395\n",
            "1154      -0.000395\n",
            "1155      -0.000395\n",
            "             ...   \n",
            "3808174    0.014068\n",
            "3808175    0.014068\n",
            "3808176    0.014068\n",
            "3808177    0.014068\n",
            "3808178    0.014068\n",
            "Name: price_change, Length: 2856008, dtype: float64\n"
          ]
        },
        {
          "output_type": "stream",
          "name": "stderr",
          "text": [
            "\r  0%|          | 207/2856834 [01:32<244:47:45,  3.24it/s]"
          ]
        },
        {
          "output_type": "stream",
          "name": "stdout",
          "text": [
            "price_change 1151      -0.000395\n",
            "1152      -0.000395\n",
            "1153      -0.000395\n",
            "1154      -0.000395\n",
            "1155      -0.000395\n",
            "             ...   \n",
            "3808174    0.014068\n",
            "3808175    0.014068\n",
            "3808176    0.014068\n",
            "3808177    0.014068\n",
            "3808178    0.014068\n",
            "Name: price_change, Length: 2856008, dtype: float64\n"
          ]
        },
        {
          "output_type": "stream",
          "name": "stderr",
          "text": [
            "\r  0%|          | 208/2856834 [01:32<245:11:09,  3.24it/s]"
          ]
        },
        {
          "output_type": "stream",
          "name": "stdout",
          "text": [
            "price_change 1151      -0.000395\n",
            "1152      -0.000395\n",
            "1153      -0.000395\n",
            "1154      -0.000395\n",
            "1155      -0.000395\n",
            "             ...   \n",
            "3808174    0.014068\n",
            "3808175    0.014068\n",
            "3808176    0.014068\n",
            "3808177    0.014068\n",
            "3808178    0.014068\n",
            "Name: price_change, Length: 2856008, dtype: float64\n"
          ]
        },
        {
          "output_type": "stream",
          "name": "stderr",
          "text": [
            "\r  0%|          | 209/2856834 [01:32<246:06:34,  3.22it/s]"
          ]
        },
        {
          "output_type": "stream",
          "name": "stdout",
          "text": [
            "price_change 1151      -0.000395\n",
            "1152      -0.000395\n",
            "1153      -0.000395\n",
            "1154      -0.000395\n",
            "1155      -0.000395\n",
            "             ...   \n",
            "3808174    0.014068\n",
            "3808175    0.014068\n",
            "3808176    0.014068\n",
            "3808177    0.014068\n",
            "3808178    0.014068\n",
            "Name: price_change, Length: 2856008, dtype: float64\n"
          ]
        },
        {
          "output_type": "stream",
          "name": "stderr",
          "text": [
            "\r  0%|          | 210/2856834 [01:32<246:05:07,  3.22it/s]"
          ]
        },
        {
          "output_type": "stream",
          "name": "stdout",
          "text": [
            "price_change 1151      -0.000395\n",
            "1152      -0.000395\n",
            "1153      -0.000395\n",
            "1154      -0.000395\n",
            "1155      -0.000395\n",
            "             ...   \n",
            "3808174    0.014068\n",
            "3808175    0.014068\n",
            "3808176    0.014068\n",
            "3808177    0.014068\n",
            "3808178    0.014068\n",
            "Name: price_change, Length: 2856008, dtype: float64\n"
          ]
        },
        {
          "output_type": "stream",
          "name": "stderr",
          "text": [
            "\r  0%|          | 211/2856834 [01:33<244:43:49,  3.24it/s]"
          ]
        },
        {
          "output_type": "stream",
          "name": "stdout",
          "text": [
            "price_change 1151      -0.000395\n",
            "1152      -0.000395\n",
            "1153      -0.000395\n",
            "1154      -0.000395\n",
            "1155      -0.000395\n",
            "             ...   \n",
            "3808174    0.014068\n",
            "3808175    0.014068\n",
            "3808176    0.014068\n",
            "3808177    0.014068\n",
            "3808178    0.014068\n",
            "Name: price_change, Length: 2856008, dtype: float64\n"
          ]
        },
        {
          "output_type": "stream",
          "name": "stderr",
          "text": [
            "\r  0%|          | 212/2856834 [01:33<244:27:29,  3.25it/s]"
          ]
        },
        {
          "output_type": "stream",
          "name": "stdout",
          "text": [
            "price_change 1151      -0.000395\n",
            "1152      -0.000395\n",
            "1153      -0.000395\n",
            "1154      -0.000395\n",
            "1155      -0.000395\n",
            "             ...   \n",
            "3808174    0.014068\n",
            "3808175    0.014068\n",
            "3808176    0.014068\n",
            "3808177    0.014068\n",
            "3808178    0.014068\n",
            "Name: price_change, Length: 2856008, dtype: float64\n"
          ]
        },
        {
          "output_type": "stream",
          "name": "stderr",
          "text": [
            "\r  0%|          | 213/2856834 [01:33<244:32:41,  3.24it/s]"
          ]
        },
        {
          "output_type": "stream",
          "name": "stdout",
          "text": [
            "price_change 1152      -0.000395\n",
            "1153      -0.000395\n",
            "1154      -0.000395\n",
            "1155      -0.000395\n",
            "1156      -0.000395\n",
            "             ...   \n",
            "3808174    0.014068\n",
            "3808175    0.014068\n",
            "3808176    0.014068\n",
            "3808177    0.014068\n",
            "3808178    0.014068\n",
            "Name: price_change, Length: 2856007, dtype: float64\n"
          ]
        },
        {
          "output_type": "stream",
          "name": "stderr",
          "text": [
            "\r  0%|          | 214/2856834 [01:34<250:05:15,  3.17it/s]"
          ]
        },
        {
          "output_type": "stream",
          "name": "stdout",
          "text": [
            "price_change 1152      -0.000395\n",
            "1153      -0.000395\n",
            "1154      -0.000395\n",
            "1155      -0.000395\n",
            "1156      -0.000395\n",
            "             ...   \n",
            "3808174    0.014068\n",
            "3808175    0.014068\n",
            "3808176    0.014068\n",
            "3808177    0.014068\n",
            "3808178    0.014068\n",
            "Name: price_change, Length: 2856007, dtype: float64\n"
          ]
        },
        {
          "output_type": "stream",
          "name": "stderr",
          "text": [
            "\r  0%|          | 215/2856834 [01:34<263:49:30,  3.01it/s]"
          ]
        },
        {
          "output_type": "stream",
          "name": "stdout",
          "text": [
            "price_change 1152      -0.000395\n",
            "1153      -0.000395\n",
            "1154      -0.000395\n",
            "1155      -0.000395\n",
            "1156      -0.000395\n",
            "             ...   \n",
            "3808174    0.014068\n",
            "3808175    0.014068\n",
            "3808176    0.014068\n",
            "3808177    0.014068\n",
            "3808178    0.014068\n",
            "Name: price_change, Length: 2856007, dtype: float64\n"
          ]
        },
        {
          "output_type": "stream",
          "name": "stderr",
          "text": [
            "\r  0%|          | 216/2856834 [01:35<306:31:24,  2.59it/s]"
          ]
        },
        {
          "output_type": "stream",
          "name": "stdout",
          "text": [
            "price_change 1153      -0.000395\n",
            "1154      -0.000395\n",
            "1155      -0.000395\n",
            "1156      -0.000395\n",
            "1159      -0.000395\n",
            "             ...   \n",
            "3808174    0.014068\n",
            "3808175    0.014068\n",
            "3808176    0.014068\n",
            "3808177    0.014068\n",
            "3808178    0.014068\n",
            "Name: price_change, Length: 2856006, dtype: float64\n"
          ]
        },
        {
          "output_type": "stream",
          "name": "stderr",
          "text": [
            "\r  0%|          | 217/2856834 [01:35<337:26:32,  2.35it/s]"
          ]
        },
        {
          "output_type": "stream",
          "name": "stdout",
          "text": [
            "price_change 1155      -0.000395\n",
            "1156      -0.000395\n",
            "1159      -0.000395\n",
            "1160      -0.000395\n",
            "1161      -0.000395\n",
            "             ...   \n",
            "3808174    0.014068\n",
            "3808175    0.014068\n",
            "3808176    0.014068\n",
            "3808177    0.014068\n",
            "3808178    0.014068\n",
            "Name: price_change, Length: 2856004, dtype: float64\n"
          ]
        },
        {
          "output_type": "stream",
          "name": "stderr",
          "text": [
            "\r  0%|          | 218/2856834 [01:36<328:58:44,  2.41it/s]"
          ]
        },
        {
          "output_type": "stream",
          "name": "stdout",
          "text": [
            "price_change 1156      -0.000395\n",
            "1159      -0.000395\n",
            "1160      -0.000395\n",
            "1161      -0.000395\n",
            "1162      -0.000395\n",
            "             ...   \n",
            "3808174    0.014068\n",
            "3808175    0.014068\n",
            "3808176    0.014068\n",
            "3808177    0.014068\n",
            "3808178    0.014068\n",
            "Name: price_change, Length: 2856003, dtype: float64\n"
          ]
        },
        {
          "output_type": "stream",
          "name": "stderr",
          "text": [
            "\r  0%|          | 219/2856834 [01:36<315:33:00,  2.51it/s]"
          ]
        },
        {
          "output_type": "stream",
          "name": "stdout",
          "text": [
            "price_change 1159      -0.000395\n",
            "1160      -0.000395\n",
            "1161      -0.000395\n",
            "1162      -0.000395\n",
            "1163      -0.000395\n",
            "             ...   \n",
            "3808174    0.014068\n",
            "3808175    0.014068\n",
            "3808176    0.014068\n",
            "3808177    0.014068\n",
            "3808178    0.014068\n",
            "Name: price_change, Length: 2856002, dtype: float64\n"
          ]
        },
        {
          "output_type": "stream",
          "name": "stderr",
          "text": [
            "\r  0%|          | 220/2856834 [01:36<326:08:28,  2.43it/s]"
          ]
        },
        {
          "output_type": "stream",
          "name": "stdout",
          "text": [
            "price_change 1159      -0.000395\n",
            "1160      -0.000395\n",
            "1161      -0.000395\n",
            "1162      -0.000395\n",
            "1163      -0.000395\n",
            "             ...   \n",
            "3808174    0.014068\n",
            "3808175    0.014068\n",
            "3808176    0.014068\n",
            "3808177    0.014068\n",
            "3808178    0.014068\n",
            "Name: price_change, Length: 2856002, dtype: float64\n"
          ]
        },
        {
          "output_type": "stream",
          "name": "stderr",
          "text": [
            "\r  0%|          | 221/2856834 [01:37<348:34:55,  2.28it/s]"
          ]
        },
        {
          "output_type": "stream",
          "name": "stdout",
          "text": [
            "price_change 1159      -0.000395\n",
            "1160      -0.000395\n",
            "1161      -0.000395\n",
            "1162      -0.000395\n",
            "1163      -0.000395\n",
            "             ...   \n",
            "3808174    0.014068\n",
            "3808175    0.014068\n",
            "3808176    0.014068\n",
            "3808177    0.014068\n",
            "3808178    0.014068\n",
            "Name: price_change, Length: 2856002, dtype: float64\n"
          ]
        },
        {
          "output_type": "stream",
          "name": "stderr",
          "text": [
            "\r  0%|          | 222/2856834 [01:37<357:03:15,  2.22it/s]"
          ]
        },
        {
          "output_type": "stream",
          "name": "stdout",
          "text": [
            "price_change 1160      -0.000395\n",
            "1161      -0.000395\n",
            "1162      -0.000395\n",
            "1163      -0.000395\n",
            "1164      -0.000395\n",
            "             ...   \n",
            "3808174    0.014068\n",
            "3808175    0.014068\n",
            "3808176    0.014068\n",
            "3808177    0.014068\n",
            "3808178    0.014068\n",
            "Name: price_change, Length: 2856001, dtype: float64\n"
          ]
        },
        {
          "output_type": "stream",
          "name": "stderr",
          "text": [
            "\r  0%|          | 223/2856834 [01:38<336:38:47,  2.36it/s]"
          ]
        },
        {
          "output_type": "stream",
          "name": "stdout",
          "text": [
            "price_change 1160      -0.000389\n",
            "1161      -0.000389\n",
            "1162      -0.000389\n",
            "1163      -0.000389\n",
            "1164      -0.000389\n",
            "             ...   \n",
            "3808174    0.014074\n",
            "3808175    0.014074\n",
            "3808176    0.014074\n",
            "3808177    0.014074\n",
            "3808178    0.014074\n",
            "Name: price_change, Length: 2856001, dtype: float64\n"
          ]
        },
        {
          "output_type": "stream",
          "name": "stderr",
          "text": [
            "\r  0%|          | 224/2856834 [01:38<317:07:57,  2.50it/s]"
          ]
        },
        {
          "output_type": "stream",
          "name": "stdout",
          "text": [
            "price_change 1160      -0.000383\n",
            "1161      -0.000383\n",
            "1162      -0.000383\n",
            "1163      -0.000383\n",
            "1164      -0.000383\n",
            "             ...   \n",
            "3808174    0.014080\n",
            "3808175    0.014080\n",
            "3808176    0.014080\n",
            "3808177    0.014080\n",
            "3808178    0.014080\n",
            "Name: price_change, Length: 2856001, dtype: float64\n"
          ]
        },
        {
          "output_type": "stream",
          "name": "stderr",
          "text": [
            "\r  0%|          | 225/2856834 [01:38<296:10:43,  2.68it/s]"
          ]
        },
        {
          "output_type": "stream",
          "name": "stdout",
          "text": [
            "price_change 1160      -0.000383\n",
            "1161      -0.000383\n",
            "1162      -0.000383\n",
            "1163      -0.000383\n",
            "1164      -0.000383\n",
            "             ...   \n",
            "3808174    0.014080\n",
            "3808175    0.014080\n",
            "3808176    0.014080\n",
            "3808177    0.014080\n",
            "3808178    0.014080\n",
            "Name: price_change, Length: 2856001, dtype: float64\n"
          ]
        },
        {
          "output_type": "stream",
          "name": "stderr",
          "text": [
            "\r  0%|          | 226/2856834 [01:39<280:36:34,  2.83it/s]"
          ]
        },
        {
          "output_type": "stream",
          "name": "stdout",
          "text": [
            "price_change 1160      -0.000383\n",
            "1161      -0.000383\n",
            "1162      -0.000383\n",
            "1163      -0.000383\n",
            "1164      -0.000383\n",
            "             ...   \n",
            "3808174    0.014080\n",
            "3808175    0.014080\n",
            "3808176    0.014080\n",
            "3808177    0.014080\n",
            "3808178    0.014080\n",
            "Name: price_change, Length: 2856001, dtype: float64\n"
          ]
        },
        {
          "output_type": "stream",
          "name": "stderr",
          "text": [
            "\r  0%|          | 227/2856834 [01:39<268:10:11,  2.96it/s]"
          ]
        },
        {
          "output_type": "stream",
          "name": "stdout",
          "text": [
            "price_change 1160      -0.000383\n",
            "1161      -0.000383\n",
            "1162      -0.000383\n",
            "1163      -0.000383\n",
            "1164      -0.000383\n",
            "             ...   \n",
            "3808174    0.014080\n",
            "3808175    0.014080\n",
            "3808176    0.014080\n",
            "3808177    0.014080\n",
            "3808178    0.014080\n",
            "Name: price_change, Length: 2856001, dtype: float64\n"
          ]
        },
        {
          "output_type": "stream",
          "name": "stderr",
          "text": [
            "\r  0%|          | 228/2856834 [01:39<264:40:01,  3.00it/s]"
          ]
        },
        {
          "output_type": "stream",
          "name": "stdout",
          "text": [
            "price_change 1160      -0.000383\n",
            "1161      -0.000383\n",
            "1162      -0.000383\n",
            "1163      -0.000383\n",
            "1164      -0.000383\n",
            "             ...   \n",
            "3808174    0.014080\n",
            "3808175    0.014080\n",
            "3808176    0.014080\n",
            "3808177    0.014080\n",
            "3808178    0.014080\n",
            "Name: price_change, Length: 2856001, dtype: float64\n"
          ]
        },
        {
          "output_type": "stream",
          "name": "stderr",
          "text": [
            "\r  0%|          | 229/2856834 [01:40<294:53:31,  2.69it/s]"
          ]
        },
        {
          "output_type": "stream",
          "name": "stdout",
          "text": [
            "price_change 1160      -0.000383\n",
            "1161      -0.000383\n",
            "1162      -0.000383\n",
            "1163      -0.000383\n",
            "1164      -0.000383\n",
            "             ...   \n",
            "3808174    0.014080\n",
            "3808175    0.014080\n",
            "3808176    0.014080\n",
            "3808177    0.014080\n",
            "3808178    0.014080\n",
            "Name: price_change, Length: 2856001, dtype: float64\n"
          ]
        },
        {
          "output_type": "stream",
          "name": "stderr",
          "text": [
            "\r  0%|          | 230/2856834 [01:40<314:45:43,  2.52it/s]"
          ]
        },
        {
          "output_type": "stream",
          "name": "stdout",
          "text": [
            "price_change 1161      -0.000383\n",
            "1162      -0.000383\n",
            "1163      -0.000383\n",
            "1164      -0.000383\n",
            "1165      -0.000383\n",
            "             ...   \n",
            "3808174    0.014080\n",
            "3808175    0.014080\n",
            "3808176    0.014080\n",
            "3808177    0.014080\n",
            "3808178    0.014080\n",
            "Name: price_change, Length: 2856000, dtype: float64\n"
          ]
        },
        {
          "output_type": "stream",
          "name": "stderr",
          "text": [
            "\r  0%|          | 231/2856834 [01:41<329:32:02,  2.41it/s]"
          ]
        },
        {
          "output_type": "stream",
          "name": "stdout",
          "text": [
            "price_change 1161      -0.000383\n",
            "1162      -0.000383\n",
            "1163      -0.000383\n",
            "1164      -0.000383\n",
            "1165      -0.000383\n",
            "             ...   \n",
            "3808174    0.014080\n",
            "3808175    0.014080\n",
            "3808176    0.014080\n",
            "3808177    0.014080\n",
            "3808178    0.014080\n",
            "Name: price_change, Length: 2856000, dtype: float64\n"
          ]
        },
        {
          "output_type": "stream",
          "name": "stderr",
          "text": [
            "\r  0%|          | 232/2856834 [01:41<337:52:01,  2.35it/s]"
          ]
        },
        {
          "output_type": "stream",
          "name": "stdout",
          "text": [
            "price_change 1161      -0.000383\n",
            "1162      -0.000383\n",
            "1163      -0.000383\n",
            "1164      -0.000383\n",
            "1165      -0.000383\n",
            "             ...   \n",
            "3808174    0.014080\n",
            "3808175    0.014080\n",
            "3808176    0.014080\n",
            "3808177    0.014080\n",
            "3808178    0.014080\n",
            "Name: price_change, Length: 2856000, dtype: float64\n"
          ]
        },
        {
          "output_type": "stream",
          "name": "stderr",
          "text": [
            "\r  0%|          | 233/2856834 [01:42<345:57:10,  2.29it/s]"
          ]
        },
        {
          "output_type": "stream",
          "name": "stdout",
          "text": [
            "price_change 1161      -0.000383\n",
            "1162      -0.000383\n",
            "1163      -0.000383\n",
            "1164      -0.000383\n",
            "1165      -0.000383\n",
            "             ...   \n",
            "3808174    0.014080\n",
            "3808175    0.014080\n",
            "3808176    0.014080\n",
            "3808177    0.014080\n",
            "3808178    0.014080\n",
            "Name: price_change, Length: 2856000, dtype: float64\n"
          ]
        },
        {
          "output_type": "stream",
          "name": "stderr",
          "text": [
            "\r  0%|          | 234/2856834 [01:42<349:13:49,  2.27it/s]"
          ]
        },
        {
          "output_type": "stream",
          "name": "stdout",
          "text": [
            "price_change 1162      -0.000383\n",
            "1163      -0.000383\n",
            "1164      -0.000383\n",
            "1165      -0.000383\n",
            "1169      -0.000383\n",
            "             ...   \n",
            "3808174    0.014080\n",
            "3808175    0.014080\n",
            "3808176    0.014080\n",
            "3808177    0.014080\n",
            "3808178    0.014080\n",
            "Name: price_change, Length: 2855999, dtype: float64\n"
          ]
        },
        {
          "output_type": "stream",
          "name": "stderr",
          "text": [
            "\r  0%|          | 235/2856834 [01:42<339:33:51,  2.34it/s]"
          ]
        },
        {
          "output_type": "stream",
          "name": "stdout",
          "text": [
            "price_change 1162      -0.000383\n",
            "1163      -0.000383\n",
            "1164      -0.000383\n",
            "1165      -0.000383\n",
            "1169      -0.000383\n",
            "             ...   \n",
            "3808174    0.014080\n",
            "3808175    0.014080\n",
            "3808176    0.014080\n",
            "3808177    0.014080\n",
            "3808178    0.014080\n",
            "Name: price_change, Length: 2855999, dtype: float64\n"
          ]
        },
        {
          "output_type": "stream",
          "name": "stderr",
          "text": [
            "\r  0%|          | 236/2856834 [01:43<318:01:37,  2.50it/s]"
          ]
        },
        {
          "output_type": "stream",
          "name": "stdout",
          "text": [
            "price_change 1162      -0.000383\n",
            "1163      -0.000383\n",
            "1164      -0.000383\n",
            "1165      -0.000383\n",
            "1169      -0.000383\n",
            "             ...   \n",
            "3808174    0.014080\n",
            "3808175    0.014080\n",
            "3808176    0.014080\n",
            "3808177    0.014080\n",
            "3808178    0.014080\n",
            "Name: price_change, Length: 2855999, dtype: float64\n"
          ]
        },
        {
          "output_type": "stream",
          "name": "stderr",
          "text": [
            "\r  0%|          | 237/2856834 [01:43<297:21:30,  2.67it/s]"
          ]
        },
        {
          "output_type": "stream",
          "name": "stdout",
          "text": [
            "price_change 1162      -0.000383\n",
            "1163      -0.000383\n",
            "1164      -0.000383\n",
            "1165      -0.000383\n",
            "1169      -0.000383\n",
            "             ...   \n",
            "3808174    0.014080\n",
            "3808175    0.014080\n",
            "3808176    0.014080\n",
            "3808177    0.014080\n",
            "3808178    0.014080\n",
            "Name: price_change, Length: 2855999, dtype: float64\n"
          ]
        },
        {
          "output_type": "stream",
          "name": "stderr",
          "text": [
            "\r  0%|          | 238/2856834 [01:43<287:46:55,  2.76it/s]"
          ]
        },
        {
          "output_type": "stream",
          "name": "stdout",
          "text": [
            "price_change 1162      -0.000383\n",
            "1163      -0.000383\n",
            "1164      -0.000383\n",
            "1165      -0.000383\n",
            "1169      -0.000383\n",
            "             ...   \n",
            "3808174    0.014080\n",
            "3808175    0.014080\n",
            "3808176    0.014080\n",
            "3808177    0.014080\n",
            "3808178    0.014080\n",
            "Name: price_change, Length: 2855999, dtype: float64\n"
          ]
        },
        {
          "output_type": "stream",
          "name": "stderr",
          "text": [
            "\r  0%|          | 239/2856834 [01:44<310:21:12,  2.56it/s]"
          ]
        },
        {
          "output_type": "stream",
          "name": "stdout",
          "text": [
            "price_change 1162      -0.000383\n",
            "1163      -0.000383\n",
            "1164      -0.000383\n",
            "1165      -0.000383\n",
            "1169      -0.000383\n",
            "             ...   \n",
            "3808174    0.014080\n",
            "3808175    0.014080\n",
            "3808176    0.014080\n",
            "3808177    0.014080\n",
            "3808178    0.014080\n",
            "Name: price_change, Length: 2855999, dtype: float64\n"
          ]
        },
        {
          "output_type": "stream",
          "name": "stderr",
          "text": [
            "\r  0%|          | 240/2856834 [01:44<324:48:51,  2.44it/s]"
          ]
        },
        {
          "output_type": "stream",
          "name": "stdout",
          "text": [
            "price_change 1162      -0.000383\n",
            "1163      -0.000383\n",
            "1164      -0.000383\n",
            "1165      -0.000383\n",
            "1169      -0.000383\n",
            "             ...   \n",
            "3808174    0.014080\n",
            "3808175    0.014080\n",
            "3808176    0.014080\n",
            "3808177    0.014080\n",
            "3808178    0.014080\n",
            "Name: price_change, Length: 2855999, dtype: float64\n"
          ]
        },
        {
          "output_type": "stream",
          "name": "stderr",
          "text": [
            "\r  0%|          | 241/2856834 [01:45<332:36:28,  2.39it/s]"
          ]
        },
        {
          "output_type": "stream",
          "name": "stdout",
          "text": [
            "price_change 1162      -0.000383\n",
            "1163      -0.000383\n",
            "1164      -0.000383\n",
            "1165      -0.000383\n",
            "1169      -0.000383\n",
            "             ...   \n",
            "3808174    0.014080\n",
            "3808175    0.014080\n",
            "3808176    0.014080\n",
            "3808177    0.014080\n",
            "3808178    0.014080\n",
            "Name: price_change, Length: 2855999, dtype: float64\n"
          ]
        },
        {
          "output_type": "stream",
          "name": "stderr",
          "text": [
            "\r  0%|          | 242/2856834 [01:45<341:19:39,  2.32it/s]"
          ]
        },
        {
          "output_type": "stream",
          "name": "stdout",
          "text": [
            "price_change 1162      -0.000383\n",
            "1163      -0.000383\n",
            "1164      -0.000383\n",
            "1165      -0.000383\n",
            "1169      -0.000383\n",
            "             ...   \n",
            "3808174    0.014080\n",
            "3808175    0.014080\n",
            "3808176    0.014080\n",
            "3808177    0.014080\n",
            "3808178    0.014080\n",
            "Name: price_change, Length: 2855999, dtype: float64\n"
          ]
        },
        {
          "output_type": "stream",
          "name": "stderr",
          "text": [
            "\r  0%|          | 243/2856834 [01:46<346:03:07,  2.29it/s]"
          ]
        },
        {
          "output_type": "stream",
          "name": "stdout",
          "text": [
            "price_change 1162      -0.000383\n",
            "1163      -0.000383\n",
            "1164      -0.000383\n",
            "1165      -0.000383\n",
            "1169      -0.000383\n",
            "             ...   \n",
            "3808174    0.014080\n",
            "3808175    0.014080\n",
            "3808176    0.014080\n",
            "3808177    0.014080\n",
            "3808178    0.014080\n",
            "Name: price_change, Length: 2855999, dtype: float64\n"
          ]
        },
        {
          "output_type": "stream",
          "name": "stderr",
          "text": [
            "\r  0%|          | 244/2856834 [01:46<348:43:59,  2.28it/s]"
          ]
        },
        {
          "output_type": "stream",
          "name": "stdout",
          "text": [
            "price_change 1162      -0.000383\n",
            "1163      -0.000383\n",
            "1164      -0.000383\n",
            "1165      -0.000383\n",
            "1169      -0.000383\n",
            "             ...   \n",
            "3808174    0.014080\n",
            "3808175    0.014080\n",
            "3808176    0.014080\n",
            "3808177    0.014080\n",
            "3808178    0.014080\n",
            "Name: price_change, Length: 2855999, dtype: float64\n"
          ]
        },
        {
          "output_type": "stream",
          "name": "stderr",
          "text": [
            "\r  0%|          | 245/2856834 [01:46<341:27:14,  2.32it/s]"
          ]
        },
        {
          "output_type": "stream",
          "name": "stdout",
          "text": [
            "price_change 1162      -0.000383\n",
            "1163      -0.000383\n",
            "1164      -0.000383\n",
            "1165      -0.000383\n",
            "1169      -0.000383\n",
            "             ...   \n",
            "3808174    0.014080\n",
            "3808175    0.014080\n",
            "3808176    0.014080\n",
            "3808177    0.014080\n",
            "3808178    0.014080\n",
            "Name: price_change, Length: 2855999, dtype: float64\n"
          ]
        },
        {
          "output_type": "stream",
          "name": "stderr",
          "text": [
            "\r  0%|          | 246/2856834 [01:47<317:18:05,  2.50it/s]"
          ]
        },
        {
          "output_type": "stream",
          "name": "stdout",
          "text": [
            "price_change 1162      -0.000383\n",
            "1163      -0.000383\n",
            "1164      -0.000383\n",
            "1165      -0.000383\n",
            "1169      -0.000383\n",
            "             ...   \n",
            "3808174    0.014080\n",
            "3808175    0.014080\n",
            "3808176    0.014080\n",
            "3808177    0.014080\n",
            "3808178    0.014080\n",
            "Name: price_change, Length: 2855999, dtype: float64\n"
          ]
        },
        {
          "output_type": "stream",
          "name": "stderr",
          "text": [
            "\r  0%|          | 247/2856834 [01:47<294:54:54,  2.69it/s]"
          ]
        },
        {
          "output_type": "stream",
          "name": "stdout",
          "text": [
            "price_change 1162      -0.000383\n",
            "1163      -0.000383\n",
            "1164      -0.000383\n",
            "1165      -0.000383\n",
            "1169      -0.000383\n",
            "             ...   \n",
            "3808174    0.014080\n",
            "3808175    0.014080\n",
            "3808176    0.014080\n",
            "3808177    0.014080\n",
            "3808178    0.014080\n",
            "Name: price_change, Length: 2855999, dtype: float64\n"
          ]
        },
        {
          "output_type": "stream",
          "name": "stderr",
          "text": [
            "\r  0%|          | 248/2856834 [01:47<285:23:57,  2.78it/s]"
          ]
        },
        {
          "output_type": "stream",
          "name": "stdout",
          "text": [
            "price_change 1162      -0.000377\n",
            "1163      -0.000377\n",
            "1164      -0.000377\n",
            "1165      -0.000377\n",
            "1169      -0.000377\n",
            "             ...   \n",
            "3808174    0.014086\n",
            "3808175    0.014086\n",
            "3808176    0.014086\n",
            "3808177    0.014086\n",
            "3808178    0.014086\n",
            "Name: price_change, Length: 2855999, dtype: float64\n"
          ]
        },
        {
          "output_type": "stream",
          "name": "stderr",
          "text": [
            "\r  0%|          | 249/2856834 [01:48<317:41:09,  2.50it/s]"
          ]
        },
        {
          "output_type": "stream",
          "name": "stdout",
          "text": [
            "price_change 1162      -0.000377\n",
            "1163      -0.000377\n",
            "1164      -0.000377\n",
            "1165      -0.000377\n",
            "1169      -0.000377\n",
            "             ...   \n",
            "3808174    0.014086\n",
            "3808175    0.014086\n",
            "3808176    0.014086\n",
            "3808177    0.014086\n",
            "3808178    0.014086\n",
            "Name: price_change, Length: 2855999, dtype: float64\n"
          ]
        },
        {
          "output_type": "stream",
          "name": "stderr",
          "text": [
            "\r  0%|          | 250/2856834 [01:48<344:34:24,  2.30it/s]"
          ]
        },
        {
          "output_type": "stream",
          "name": "stdout",
          "text": [
            "price_change 1162      -0.000377\n",
            "1163      -0.000377\n",
            "1164      -0.000377\n",
            "1165      -0.000377\n",
            "1169      -0.000377\n",
            "             ...   \n",
            "3808174    0.014086\n",
            "3808175    0.014086\n",
            "3808176    0.014086\n",
            "3808177    0.014086\n",
            "3808178    0.014086\n",
            "Name: price_change, Length: 2855999, dtype: float64\n"
          ]
        },
        {
          "output_type": "stream",
          "name": "stderr",
          "text": [
            "\r  0%|          | 251/2856834 [01:49<364:03:17,  2.18it/s]"
          ]
        },
        {
          "output_type": "stream",
          "name": "stdout",
          "text": [
            "price_change 1162      -0.000377\n",
            "1163      -0.000377\n",
            "1164      -0.000377\n",
            "1165      -0.000377\n",
            "1169      -0.000377\n",
            "             ...   \n",
            "3808174    0.014086\n",
            "3808175    0.014086\n",
            "3808176    0.014086\n",
            "3808177    0.014086\n",
            "3808178    0.014086\n",
            "Name: price_change, Length: 2855999, dtype: float64\n"
          ]
        },
        {
          "output_type": "stream",
          "name": "stderr",
          "text": [
            "\r  0%|          | 252/2856834 [01:49<375:09:28,  2.12it/s]"
          ]
        },
        {
          "output_type": "stream",
          "name": "stdout",
          "text": [
            "price_change 1162      -0.000377\n",
            "1163      -0.000377\n",
            "1164      -0.000377\n",
            "1165      -0.000377\n",
            "1169      -0.000377\n",
            "             ...   \n",
            "3808174    0.014086\n",
            "3808175    0.014086\n",
            "3808176    0.014086\n",
            "3808177    0.014086\n",
            "3808178    0.014086\n",
            "Name: price_change, Length: 2855999, dtype: float64\n"
          ]
        },
        {
          "output_type": "stream",
          "name": "stderr",
          "text": [
            "\r  0%|          | 253/2856834 [01:50<350:51:37,  2.26it/s]"
          ]
        },
        {
          "output_type": "stream",
          "name": "stdout",
          "text": [
            "price_change 1162      -0.000377\n",
            "1163      -0.000377\n",
            "1164      -0.000377\n",
            "1165      -0.000377\n",
            "1169      -0.000377\n",
            "             ...   \n",
            "3808174    0.014086\n",
            "3808175    0.014086\n",
            "3808176    0.014086\n",
            "3808177    0.014086\n",
            "3808178    0.014086\n",
            "Name: price_change, Length: 2855999, dtype: float64\n"
          ]
        },
        {
          "output_type": "stream",
          "name": "stderr",
          "text": [
            "\r  0%|          | 254/2856834 [01:50<330:03:00,  2.40it/s]"
          ]
        },
        {
          "output_type": "stream",
          "name": "stdout",
          "text": [
            "price_change 1162      -0.000377\n",
            "1163      -0.000377\n",
            "1164      -0.000377\n",
            "1165      -0.000377\n",
            "1169      -0.000377\n",
            "             ...   \n",
            "3808174    0.014086\n",
            "3808175    0.014086\n",
            "3808176    0.014086\n",
            "3808177    0.014086\n",
            "3808178    0.014086\n",
            "Name: price_change, Length: 2855999, dtype: float64\n"
          ]
        },
        {
          "output_type": "stream",
          "name": "stderr",
          "text": [
            "\r  0%|          | 255/2856834 [01:51<327:25:04,  2.42it/s]"
          ]
        },
        {
          "output_type": "stream",
          "name": "stdout",
          "text": [
            "price_change 1162      -0.000377\n",
            "1163      -0.000377\n",
            "1164      -0.000377\n",
            "1165      -0.000377\n",
            "1169      -0.000377\n",
            "             ...   \n",
            "3808174    0.014086\n",
            "3808175    0.014086\n",
            "3808176    0.014086\n",
            "3808177    0.014086\n",
            "3808178    0.014086\n",
            "Name: price_change, Length: 2855999, dtype: float64\n"
          ]
        },
        {
          "output_type": "stream",
          "name": "stderr",
          "text": [
            "\r  0%|          | 256/2856834 [01:51<352:59:06,  2.25it/s]"
          ]
        },
        {
          "output_type": "stream",
          "name": "stdout",
          "text": [
            "price_change 1162      -0.000377\n",
            "1163      -0.000377\n",
            "1164      -0.000377\n",
            "1165      -0.000377\n",
            "1169      -0.000377\n",
            "             ...   \n",
            "3808174    0.014086\n",
            "3808175    0.014086\n",
            "3808176    0.014086\n",
            "3808177    0.014086\n",
            "3808178    0.014086\n",
            "Name: price_change, Length: 2855999, dtype: float64\n"
          ]
        },
        {
          "output_type": "stream",
          "name": "stderr",
          "text": [
            "\r  0%|          | 257/2856834 [01:52<355:38:57,  2.23it/s]"
          ]
        },
        {
          "output_type": "stream",
          "name": "stdout",
          "text": [
            "price_change 1162      -0.000377\n",
            "1163      -0.000377\n",
            "1164      -0.000377\n",
            "1165      -0.000377\n",
            "1169      -0.000377\n",
            "             ...   \n",
            "3808174    0.014086\n",
            "3808175    0.014086\n",
            "3808176    0.014086\n",
            "3808177    0.014086\n",
            "3808178    0.014086\n",
            "Name: price_change, Length: 2855999, dtype: float64\n"
          ]
        },
        {
          "output_type": "stream",
          "name": "stderr",
          "text": [
            "\r  0%|          | 258/2856834 [01:52<343:08:09,  2.31it/s]"
          ]
        },
        {
          "output_type": "stream",
          "name": "stdout",
          "text": [
            "price_change 1162      -0.000377\n",
            "1163      -0.000377\n",
            "1164      -0.000377\n",
            "1165      -0.000377\n",
            "1169      -0.000377\n",
            "             ...   \n",
            "3808174    0.014086\n",
            "3808175    0.014086\n",
            "3808176    0.014086\n",
            "3808177    0.014086\n",
            "3808178    0.014086\n",
            "Name: price_change, Length: 2855999, dtype: float64\n"
          ]
        },
        {
          "output_type": "stream",
          "name": "stderr",
          "text": [
            "\r  0%|          | 259/2856834 [01:52<329:16:51,  2.41it/s]"
          ]
        },
        {
          "output_type": "stream",
          "name": "stdout",
          "text": [
            "price_change 1162      -0.000377\n",
            "1163      -0.000377\n",
            "1164      -0.000377\n",
            "1165      -0.000377\n",
            "1169      -0.000377\n",
            "             ...   \n",
            "3808174    0.014086\n",
            "3808175    0.014086\n",
            "3808176    0.014086\n",
            "3808177    0.014086\n",
            "3808178    0.014086\n",
            "Name: price_change, Length: 2855999, dtype: float64\n"
          ]
        },
        {
          "output_type": "stream",
          "name": "stderr",
          "text": [
            "\r  0%|          | 260/2856834 [01:53<327:00:37,  2.43it/s]"
          ]
        },
        {
          "output_type": "stream",
          "name": "stdout",
          "text": [
            "price_change 1162      -0.000377\n",
            "1163      -0.000377\n",
            "1164      -0.000377\n",
            "1165      -0.000377\n",
            "1169      -0.000377\n",
            "             ...   \n",
            "3808174    0.014086\n",
            "3808175    0.014086\n",
            "3808176    0.014086\n",
            "3808177    0.014086\n",
            "3808178    0.014086\n",
            "Name: price_change, Length: 2855999, dtype: float64\n"
          ]
        },
        {
          "output_type": "stream",
          "name": "stderr",
          "text": [
            "\r  0%|          | 261/2856834 [01:53<338:19:20,  2.35it/s]"
          ]
        },
        {
          "output_type": "stream",
          "name": "stdout",
          "text": [
            "price_change 1162      -0.000377\n",
            "1163      -0.000377\n",
            "1164      -0.000377\n",
            "1165      -0.000377\n",
            "1169      -0.000377\n",
            "             ...   \n",
            "3808174    0.014086\n",
            "3808175    0.014086\n",
            "3808176    0.014086\n",
            "3808177    0.014086\n",
            "3808178    0.014086\n",
            "Name: price_change, Length: 2855999, dtype: float64\n"
          ]
        },
        {
          "output_type": "stream",
          "name": "stderr",
          "text": [
            "\r  0%|          | 262/2856834 [01:54<345:35:41,  2.30it/s]"
          ]
        },
        {
          "output_type": "stream",
          "name": "stdout",
          "text": [
            "price_change 1163      -0.000377\n",
            "1164      -0.000377\n",
            "1165      -0.000377\n",
            "1169      -0.000377\n",
            "1170      -0.000377\n",
            "             ...   \n",
            "3808174    0.014086\n",
            "3808175    0.014086\n",
            "3808176    0.014086\n",
            "3808177    0.014086\n",
            "3808178    0.014086\n",
            "Name: price_change, Length: 2855998, dtype: float64\n"
          ]
        },
        {
          "output_type": "stream",
          "name": "stderr",
          "text": [
            "\r  0%|          | 263/2856834 [01:54<350:26:11,  2.26it/s]"
          ]
        },
        {
          "output_type": "stream",
          "name": "stdout",
          "text": [
            "price_change 1164      -0.000377\n",
            "1165      -0.000377\n",
            "1169      -0.000377\n",
            "1170      -0.000377\n",
            "1171      -0.000377\n",
            "             ...   \n",
            "3808174    0.014086\n",
            "3808175    0.014086\n",
            "3808176    0.014086\n",
            "3808177    0.014086\n",
            "3808178    0.014086\n",
            "Name: price_change, Length: 2855997, dtype: float64\n"
          ]
        },
        {
          "output_type": "stream",
          "name": "stderr",
          "text": [
            "\r  0%|          | 264/2856834 [01:55<352:14:02,  2.25it/s]"
          ]
        },
        {
          "output_type": "stream",
          "name": "stdout",
          "text": [
            "price_change 1164      -0.000377\n",
            "1165      -0.000377\n",
            "1169      -0.000377\n",
            "1170      -0.000377\n",
            "1171      -0.000377\n",
            "             ...   \n",
            "3808174    0.014086\n",
            "3808175    0.014086\n",
            "3808176    0.014086\n",
            "3808177    0.014086\n",
            "3808178    0.014086\n",
            "Name: price_change, Length: 2855997, dtype: float64\n"
          ]
        },
        {
          "output_type": "stream",
          "name": "stderr",
          "text": [
            "\r  0%|          | 265/2856834 [01:55<326:06:59,  2.43it/s]"
          ]
        },
        {
          "output_type": "stream",
          "name": "stdout",
          "text": [
            "price_change 1170      -0.000377\n",
            "1171      -0.000377\n",
            "1172      -0.000377\n",
            "1173      -0.000377\n",
            "1174      -0.000377\n",
            "             ...   \n",
            "3808174    0.014086\n",
            "3808175    0.014086\n",
            "3808176    0.014086\n",
            "3808177    0.014086\n",
            "3808178    0.014086\n",
            "Name: price_change, Length: 2855994, dtype: float64\n"
          ]
        },
        {
          "output_type": "stream",
          "name": "stderr",
          "text": [
            "\r  0%|          | 266/2856834 [01:55<304:16:46,  2.61it/s]"
          ]
        },
        {
          "output_type": "stream",
          "name": "stdout",
          "text": [
            "price_change 1170      -0.000377\n",
            "1171      -0.000377\n",
            "1172      -0.000377\n",
            "1173      -0.000377\n",
            "1174      -0.000377\n",
            "             ...   \n",
            "3808174    0.014086\n",
            "3808175    0.014086\n",
            "3808176    0.014086\n",
            "3808177    0.014086\n",
            "3808178    0.014086\n",
            "Name: price_change, Length: 2855994, dtype: float64\n"
          ]
        },
        {
          "output_type": "stream",
          "name": "stderr",
          "text": [
            "\r  0%|          | 267/2856834 [01:56<286:18:50,  2.77it/s]"
          ]
        },
        {
          "output_type": "stream",
          "name": "stdout",
          "text": [
            "price_change 1174      -0.000377\n",
            "1175      -0.000377\n",
            "1176      -0.000377\n",
            "1177      -0.000377\n",
            "1178      -0.000377\n",
            "             ...   \n",
            "3808174    0.014086\n",
            "3808175    0.014086\n",
            "3808176    0.014086\n",
            "3808177    0.014086\n",
            "3808178    0.014086\n",
            "Name: price_change, Length: 2855990, dtype: float64\n"
          ]
        },
        {
          "output_type": "stream",
          "name": "stderr",
          "text": [
            "\r  0%|          | 268/2856834 [01:56<307:50:18,  2.58it/s]"
          ]
        },
        {
          "output_type": "stream",
          "name": "stdout",
          "text": [
            "price_change 1174      -0.000377\n",
            "1175      -0.000377\n",
            "1176      -0.000377\n",
            "1177      -0.000377\n",
            "1178      -0.000377\n",
            "             ...   \n",
            "3808174    0.014086\n",
            "3808175    0.014086\n",
            "3808176    0.014086\n",
            "3808177    0.014086\n",
            "3808178    0.014086\n",
            "Name: price_change, Length: 2855990, dtype: float64\n"
          ]
        },
        {
          "output_type": "stream",
          "name": "stderr",
          "text": [
            "\r  0%|          | 269/2856834 [01:56<321:55:16,  2.46it/s]"
          ]
        },
        {
          "output_type": "stream",
          "name": "stdout",
          "text": [
            "price_change 1174      -0.000377\n",
            "1175      -0.000377\n",
            "1176      -0.000377\n",
            "1177      -0.000377\n",
            "1178      -0.000377\n",
            "             ...   \n",
            "3808174    0.014086\n",
            "3808175    0.014086\n",
            "3808176    0.014086\n",
            "3808177    0.014086\n",
            "3808178    0.014086\n",
            "Name: price_change, Length: 2855990, dtype: float64\n"
          ]
        },
        {
          "output_type": "stream",
          "name": "stderr",
          "text": [
            "\r  0%|          | 270/2856834 [01:57<312:28:00,  2.54it/s]"
          ]
        },
        {
          "output_type": "stream",
          "name": "stdout",
          "text": [
            "price_change 1174      -0.000377\n",
            "1175      -0.000377\n",
            "1176      -0.000377\n",
            "1177      -0.000377\n",
            "1178      -0.000377\n",
            "             ...   \n",
            "3808174    0.014086\n",
            "3808175    0.014086\n",
            "3808176    0.014086\n",
            "3808177    0.014086\n",
            "3808178    0.014086\n",
            "Name: price_change, Length: 2855990, dtype: float64\n"
          ]
        },
        {
          "output_type": "stream",
          "name": "stderr",
          "text": [
            "\r  0%|          | 271/2856834 [01:57<295:02:51,  2.69it/s]"
          ]
        },
        {
          "output_type": "stream",
          "name": "stdout",
          "text": [
            "price_change 1174      -0.000377\n",
            "1175      -0.000377\n",
            "1176      -0.000377\n",
            "1177      -0.000377\n",
            "1178      -0.000377\n",
            "             ...   \n",
            "3808174    0.014086\n",
            "3808175    0.014086\n",
            "3808176    0.014086\n",
            "3808177    0.014086\n",
            "3808178    0.014086\n",
            "Name: price_change, Length: 2855990, dtype: float64\n"
          ]
        },
        {
          "output_type": "stream",
          "name": "stderr",
          "text": [
            "\r  0%|          | 272/2856834 [01:57<279:08:42,  2.84it/s]"
          ]
        },
        {
          "output_type": "stream",
          "name": "stdout",
          "text": [
            "price_change 1174      -0.000377\n",
            "1175      -0.000377\n",
            "1176      -0.000377\n",
            "1177      -0.000377\n",
            "1178      -0.000377\n",
            "             ...   \n",
            "3808174    0.014086\n",
            "3808175    0.014086\n",
            "3808176    0.014086\n",
            "3808177    0.014086\n",
            "3808178    0.014086\n",
            "Name: price_change, Length: 2855990, dtype: float64\n"
          ]
        },
        {
          "output_type": "stream",
          "name": "stderr",
          "text": [
            "\r  0%|          | 273/2856834 [01:58<267:48:38,  2.96it/s]"
          ]
        },
        {
          "output_type": "stream",
          "name": "stdout",
          "text": [
            "price_change 1174      -0.000377\n",
            "1175      -0.000377\n",
            "1176      -0.000377\n",
            "1177      -0.000377\n",
            "1178      -0.000377\n",
            "             ...   \n",
            "3808174    0.014086\n",
            "3808175    0.014086\n",
            "3808176    0.014086\n",
            "3808177    0.014086\n",
            "3808178    0.014086\n",
            "Name: price_change, Length: 2855990, dtype: float64\n"
          ]
        },
        {
          "output_type": "stream",
          "name": "stderr",
          "text": [
            "\r  0%|          | 274/2856834 [01:58<259:52:23,  3.05it/s]"
          ]
        },
        {
          "output_type": "stream",
          "name": "stdout",
          "text": [
            "price_change 1174      -0.000377\n",
            "1175      -0.000377\n",
            "1176      -0.000377\n",
            "1177      -0.000377\n",
            "1178      -0.000377\n",
            "             ...   \n",
            "3808174    0.014086\n",
            "3808175    0.014086\n",
            "3808176    0.014086\n",
            "3808177    0.014086\n",
            "3808178    0.014086\n",
            "Name: price_change, Length: 2855990, dtype: float64\n"
          ]
        },
        {
          "output_type": "stream",
          "name": "stderr",
          "text": [
            "\r  0%|          | 275/2856834 [01:58<254:20:22,  3.12it/s]"
          ]
        },
        {
          "output_type": "stream",
          "name": "stdout",
          "text": [
            "price_change 1174      -0.000377\n",
            "1175      -0.000377\n",
            "1176      -0.000377\n",
            "1177      -0.000377\n",
            "1178      -0.000377\n",
            "             ...   \n",
            "3808174    0.014086\n",
            "3808175    0.014086\n",
            "3808176    0.014086\n",
            "3808177    0.014086\n",
            "3808178    0.014086\n",
            "Name: price_change, Length: 2855990, dtype: float64\n"
          ]
        },
        {
          "output_type": "stream",
          "name": "stderr",
          "text": [
            "\r  0%|          | 276/2856834 [01:59<252:59:56,  3.14it/s]"
          ]
        },
        {
          "output_type": "stream",
          "name": "stdout",
          "text": [
            "price_change 1174      -0.000377\n",
            "1175      -0.000377\n",
            "1176      -0.000377\n",
            "1177      -0.000377\n",
            "1178      -0.000377\n",
            "             ...   \n",
            "3808174    0.014086\n",
            "3808175    0.014086\n",
            "3808176    0.014086\n",
            "3808177    0.014086\n",
            "3808178    0.014086\n",
            "Name: price_change, Length: 2855990, dtype: float64\n"
          ]
        },
        {
          "output_type": "stream",
          "name": "stderr",
          "text": [
            "\r  0%|          | 277/2856834 [01:59<251:39:17,  3.15it/s]"
          ]
        },
        {
          "output_type": "stream",
          "name": "stdout",
          "text": [
            "price_change 1175      -0.000377\n",
            "1176      -0.000377\n",
            "1177      -0.000377\n",
            "1178      -0.000377\n",
            "1179      -0.000377\n",
            "             ...   \n",
            "3808174    0.014086\n",
            "3808175    0.014086\n",
            "3808176    0.014086\n",
            "3808177    0.014086\n",
            "3808178    0.014086\n",
            "Name: price_change, Length: 2855989, dtype: float64\n"
          ]
        },
        {
          "output_type": "stream",
          "name": "stderr",
          "text": [
            "\r  0%|          | 278/2856834 [01:59<251:57:36,  3.15it/s]"
          ]
        },
        {
          "output_type": "stream",
          "name": "stdout",
          "text": [
            "price_change 1175      -0.000346\n",
            "1176      -0.000346\n",
            "1177      -0.000346\n",
            "1178      -0.000346\n",
            "1179      -0.000346\n",
            "             ...   \n",
            "3808174    0.014118\n",
            "3808175    0.014118\n",
            "3808176    0.014118\n",
            "3808177    0.014118\n",
            "3808178    0.014118\n",
            "Name: price_change, Length: 2855989, dtype: float64\n"
          ]
        },
        {
          "output_type": "stream",
          "name": "stderr",
          "text": [
            "\r  0%|          | 279/2856834 [02:00<249:29:37,  3.18it/s]"
          ]
        },
        {
          "output_type": "stream",
          "name": "stdout",
          "text": [
            "price_change 1175      -0.000346\n",
            "1176      -0.000346\n",
            "1177      -0.000346\n",
            "1178      -0.000346\n",
            "1179      -0.000346\n",
            "             ...   \n",
            "3808174    0.014118\n",
            "3808175    0.014118\n",
            "3808176    0.014118\n",
            "3808177    0.014118\n",
            "3808178    0.014118\n",
            "Name: price_change, Length: 2855989, dtype: float64\n"
          ]
        },
        {
          "output_type": "stream",
          "name": "stderr",
          "text": [
            "\r  0%|          | 280/2856834 [02:00<277:36:35,  2.86it/s]"
          ]
        },
        {
          "output_type": "stream",
          "name": "stdout",
          "text": [
            "price_change 1176      -0.000346\n",
            "1177      -0.000346\n",
            "1178      -0.000346\n",
            "1179      -0.000346\n",
            "1180      -0.000346\n",
            "             ...   \n",
            "3808174    0.014118\n",
            "3808175    0.014118\n",
            "3808176    0.014118\n",
            "3808177    0.014118\n",
            "3808178    0.014118\n",
            "Name: price_change, Length: 2855988, dtype: float64\n"
          ]
        },
        {
          "output_type": "stream",
          "name": "stderr",
          "text": [
            "\r  0%|          | 281/2856834 [02:00<305:32:36,  2.60it/s]"
          ]
        },
        {
          "output_type": "stream",
          "name": "stdout",
          "text": [
            "price_change 1176      -0.000346\n",
            "1177      -0.000346\n",
            "1178      -0.000346\n",
            "1179      -0.000346\n",
            "1180      -0.000346\n",
            "             ...   \n",
            "3808174    0.014118\n",
            "3808175    0.014118\n",
            "3808176    0.014118\n",
            "3808177    0.014118\n",
            "3808178    0.014118\n",
            "Name: price_change, Length: 2855988, dtype: float64\n"
          ]
        },
        {
          "output_type": "stream",
          "name": "stderr",
          "text": [
            "\r  0%|          | 282/2856834 [02:01<323:01:25,  2.46it/s]"
          ]
        },
        {
          "output_type": "stream",
          "name": "stdout",
          "text": [
            "price_change 1178      -0.000346\n",
            "1179      -0.000346\n",
            "1180      -0.000346\n",
            "1181      -0.000346\n",
            "1182      -0.000346\n",
            "             ...   \n",
            "3808174    0.014118\n",
            "3808175    0.014118\n",
            "3808176    0.014118\n",
            "3808177    0.014118\n",
            "3808178    0.014118\n",
            "Name: price_change, Length: 2855986, dtype: float64\n"
          ]
        },
        {
          "output_type": "stream",
          "name": "stderr",
          "text": [
            "\r  0%|          | 283/2856834 [02:01<335:16:25,  2.37it/s]"
          ]
        },
        {
          "output_type": "stream",
          "name": "stdout",
          "text": [
            "price_change 1178      -0.000346\n",
            "1179      -0.000346\n",
            "1180      -0.000346\n",
            "1181      -0.000346\n",
            "1182      -0.000346\n",
            "             ...   \n",
            "3808174    0.014118\n",
            "3808175    0.014118\n",
            "3808176    0.014118\n",
            "3808177    0.014118\n",
            "3808178    0.014118\n",
            "Name: price_change, Length: 2855986, dtype: float64\n"
          ]
        },
        {
          "output_type": "stream",
          "name": "stderr",
          "text": [
            "\r  0%|          | 284/2856834 [02:02<343:44:09,  2.31it/s]"
          ]
        },
        {
          "output_type": "stream",
          "name": "stdout",
          "text": [
            "price_change 1178      -0.000346\n",
            "1179      -0.000346\n",
            "1180      -0.000346\n",
            "1181      -0.000346\n",
            "1182      -0.000346\n",
            "             ...   \n",
            "3808174    0.014118\n",
            "3808175    0.014118\n",
            "3808176    0.014118\n",
            "3808177    0.014118\n",
            "3808178    0.014118\n",
            "Name: price_change, Length: 2855986, dtype: float64\n"
          ]
        },
        {
          "output_type": "stream",
          "name": "stderr",
          "text": [
            "\r  0%|          | 285/2856834 [02:02<349:11:20,  2.27it/s]"
          ]
        },
        {
          "output_type": "stream",
          "name": "stdout",
          "text": [
            "price_change 1178      -0.000346\n",
            "1179      -0.000346\n",
            "1180      -0.000346\n",
            "1181      -0.000346\n",
            "1182      -0.000346\n",
            "             ...   \n",
            "3808174    0.014118\n",
            "3808175    0.014118\n",
            "3808176    0.014118\n",
            "3808177    0.014118\n",
            "3808178    0.014118\n",
            "Name: price_change, Length: 2855986, dtype: float64\n"
          ]
        },
        {
          "output_type": "stream",
          "name": "stderr",
          "text": [
            "\r  0%|          | 286/2856834 [02:03<367:52:41,  2.16it/s]"
          ]
        },
        {
          "output_type": "stream",
          "name": "stdout",
          "text": [
            "price_change 1178      -0.000346\n",
            "1179      -0.000346\n",
            "1180      -0.000346\n",
            "1181      -0.000346\n",
            "1182      -0.000346\n",
            "             ...   \n",
            "3808174    0.014118\n",
            "3808175    0.014118\n",
            "3808176    0.014118\n",
            "3808177    0.014118\n",
            "3808178    0.014118\n",
            "Name: price_change, Length: 2855986, dtype: float64\n"
          ]
        },
        {
          "output_type": "stream",
          "name": "stderr",
          "text": [
            "\r  0%|          | 287/2856834 [02:03<382:34:24,  2.07it/s]"
          ]
        },
        {
          "output_type": "stream",
          "name": "stdout",
          "text": [
            "price_change 1179      -0.000346\n",
            "1180      -0.000346\n",
            "1181      -0.000346\n",
            "1182      -0.000346\n",
            "1183      -0.000346\n",
            "             ...   \n",
            "3808174    0.014118\n",
            "3808175    0.014118\n",
            "3808176    0.014118\n",
            "3808177    0.014118\n",
            "3808178    0.014118\n",
            "Name: price_change, Length: 2855985, dtype: float64\n"
          ]
        },
        {
          "output_type": "stream",
          "name": "stderr",
          "text": [
            "\r  0%|          | 288/2856834 [02:04<382:00:53,  2.08it/s]"
          ]
        },
        {
          "output_type": "stream",
          "name": "stdout",
          "text": [
            "price_change 1179      -0.000346\n",
            "1180      -0.000346\n",
            "1181      -0.000346\n",
            "1182      -0.000346\n",
            "1183      -0.000346\n",
            "             ...   \n",
            "3808174    0.014118\n",
            "3808175    0.014118\n",
            "3808176    0.014118\n",
            "3808177    0.014118\n",
            "3808178    0.014118\n",
            "Name: price_change, Length: 2855985, dtype: float64\n"
          ]
        },
        {
          "output_type": "stream",
          "name": "stderr",
          "text": [
            "\r  0%|          | 289/2856834 [02:04<356:31:36,  2.23it/s]"
          ]
        },
        {
          "output_type": "stream",
          "name": "stdout",
          "text": [
            "price_change 1180      -0.000346\n",
            "1181      -0.000346\n",
            "1182      -0.000346\n",
            "1183      -0.000346\n",
            "1184      -0.000346\n",
            "             ...   \n",
            "3808174    0.014118\n",
            "3808175    0.014118\n",
            "3808176    0.014118\n",
            "3808177    0.014118\n",
            "3808178    0.014118\n",
            "Name: price_change, Length: 2855984, dtype: float64\n"
          ]
        },
        {
          "output_type": "stream",
          "name": "stderr",
          "text": [
            "\r  0%|          | 290/2856834 [02:05<337:10:16,  2.35it/s]"
          ]
        },
        {
          "output_type": "stream",
          "name": "stdout",
          "text": [
            "price_change 1180      -0.000346\n",
            "1181      -0.000346\n",
            "1182      -0.000346\n",
            "1183      -0.000346\n",
            "1184      -0.000346\n",
            "             ...   \n",
            "3808174    0.014118\n",
            "3808175    0.014118\n",
            "3808176    0.014118\n",
            "3808177    0.014118\n",
            "3808178    0.014118\n",
            "Name: price_change, Length: 2855984, dtype: float64\n"
          ]
        },
        {
          "output_type": "stream",
          "name": "stderr",
          "text": [
            "\r  0%|          | 291/2856834 [02:05<347:36:48,  2.28it/s]"
          ]
        },
        {
          "output_type": "stream",
          "name": "stdout",
          "text": [
            "price_change 1180      -0.000346\n",
            "1181      -0.000346\n",
            "1182      -0.000346\n",
            "1183      -0.000346\n",
            "1184      -0.000346\n",
            "             ...   \n",
            "3808174    0.014118\n",
            "3808175    0.014118\n",
            "3808176    0.014118\n",
            "3808177    0.014118\n",
            "3808178    0.014118\n",
            "Name: price_change, Length: 2855984, dtype: float64\n"
          ]
        },
        {
          "output_type": "stream",
          "name": "stderr",
          "text": [
            "\r  0%|          | 292/2856834 [02:06<368:59:46,  2.15it/s]"
          ]
        },
        {
          "output_type": "stream",
          "name": "stdout",
          "text": [
            "price_change 1180      -0.000346\n",
            "1181      -0.000346\n",
            "1182      -0.000346\n",
            "1183      -0.000346\n",
            "1184      -0.000346\n",
            "             ...   \n",
            "3808174    0.014118\n",
            "3808175    0.014118\n",
            "3808176    0.014118\n",
            "3808177    0.014118\n",
            "3808178    0.014118\n",
            "Name: price_change, Length: 2855984, dtype: float64\n"
          ]
        },
        {
          "output_type": "stream",
          "name": "stderr",
          "text": [
            "\r  0%|          | 293/2856834 [02:06<356:38:19,  2.22it/s]"
          ]
        },
        {
          "output_type": "stream",
          "name": "stdout",
          "text": [
            "price_change 1181      -0.000346\n",
            "1182      -0.000346\n",
            "1183      -0.000346\n",
            "1184      -0.000346\n",
            "1185      -0.000346\n",
            "             ...   \n",
            "3808174    0.014118\n",
            "3808175    0.014118\n",
            "3808176    0.014118\n",
            "3808177    0.014118\n",
            "3808178    0.014118\n",
            "Name: price_change, Length: 2855983, dtype: float64\n"
          ]
        },
        {
          "output_type": "stream",
          "name": "stderr",
          "text": [
            "\r  0%|          | 294/2856834 [02:06<340:03:17,  2.33it/s]"
          ]
        },
        {
          "output_type": "stream",
          "name": "stdout",
          "text": [
            "price_change 1181      -0.000346\n",
            "1182      -0.000346\n",
            "1183      -0.000346\n",
            "1184      -0.000346\n",
            "1185      -0.000346\n",
            "             ...   \n",
            "3808174    0.014118\n",
            "3808175    0.014118\n",
            "3808176    0.014118\n",
            "3808177    0.014118\n",
            "3808178    0.014118\n",
            "Name: price_change, Length: 2855983, dtype: float64\n"
          ]
        },
        {
          "output_type": "stream",
          "name": "stderr",
          "text": [
            "\r  0%|          | 295/2856834 [02:07<327:36:12,  2.42it/s]"
          ]
        },
        {
          "output_type": "stream",
          "name": "stdout",
          "text": [
            "price_change 1185      -0.000346\n",
            "1186      -0.000346\n",
            "1187      -0.000346\n",
            "1188      -0.000346\n",
            "1189      -0.000346\n",
            "             ...   \n",
            "3808174    0.014118\n",
            "3808175    0.014118\n",
            "3808176    0.014118\n",
            "3808177    0.014118\n",
            "3808178    0.014118\n",
            "Name: price_change, Length: 2855979, dtype: float64\n"
          ]
        },
        {
          "output_type": "stream",
          "name": "stderr",
          "text": [
            "\r  0%|          | 296/2856834 [02:07<341:13:02,  2.33it/s]"
          ]
        },
        {
          "output_type": "stream",
          "name": "stdout",
          "text": [
            "price_change 1185      -0.000346\n",
            "1186      -0.000346\n",
            "1187      -0.000346\n",
            "1188      -0.000346\n",
            "1189      -0.000346\n",
            "             ...   \n",
            "3808174    0.014118\n",
            "3808175    0.014118\n",
            "3808176    0.014118\n",
            "3808177    0.014118\n",
            "3808178    0.014118\n",
            "Name: price_change, Length: 2855979, dtype: float64\n"
          ]
        },
        {
          "output_type": "stream",
          "name": "stderr",
          "text": [
            "\r  0%|          | 297/2856834 [02:08<348:18:38,  2.28it/s]"
          ]
        },
        {
          "output_type": "stream",
          "name": "stdout",
          "text": [
            "price_change 1185      -0.000346\n",
            "1186      -0.000346\n",
            "1187      -0.000346\n",
            "1188      -0.000346\n",
            "1189      -0.000346\n",
            "             ...   \n",
            "3808174    0.014118\n",
            "3808175    0.014118\n",
            "3808176    0.014118\n",
            "3808177    0.014118\n",
            "3808178    0.014118\n",
            "Name: price_change, Length: 2855979, dtype: float64\n"
          ]
        },
        {
          "output_type": "stream",
          "name": "stderr",
          "text": [
            "\r  0%|          | 298/2856834 [02:08<331:32:06,  2.39it/s]"
          ]
        },
        {
          "output_type": "stream",
          "name": "stdout",
          "text": [
            "price_change 1185      -0.000346\n",
            "1186      -0.000346\n",
            "1187      -0.000346\n",
            "1188      -0.000346\n",
            "1189      -0.000346\n",
            "             ...   \n",
            "3808174    0.014118\n",
            "3808175    0.014118\n",
            "3808176    0.014118\n",
            "3808177    0.014118\n",
            "3808178    0.014118\n",
            "Name: price_change, Length: 2855979, dtype: float64\n"
          ]
        },
        {
          "output_type": "stream",
          "name": "stderr",
          "text": [
            "\r  0%|          | 299/2856834 [02:08<308:32:46,  2.57it/s]"
          ]
        },
        {
          "output_type": "stream",
          "name": "stdout",
          "text": [
            "price_change 1185      -0.000346\n",
            "1186      -0.000346\n",
            "1187      -0.000346\n",
            "1188      -0.000346\n",
            "1189      -0.000346\n",
            "             ...   \n",
            "3808174    0.014118\n",
            "3808175    0.014118\n",
            "3808176    0.014118\n",
            "3808177    0.014118\n",
            "3808178    0.014118\n",
            "Name: price_change, Length: 2855979, dtype: float64\n"
          ]
        },
        {
          "output_type": "stream",
          "name": "stderr",
          "text": [
            "\r  0%|          | 300/2856834 [02:09<290:33:12,  2.73it/s]"
          ]
        },
        {
          "output_type": "stream",
          "name": "stdout",
          "text": [
            "price_change 1186      -0.000346\n",
            "1187      -0.000346\n",
            "1188      -0.000346\n",
            "1189      -0.000346\n",
            "1190      -0.000346\n",
            "             ...   \n",
            "3808174    0.014118\n",
            "3808175    0.014118\n",
            "3808176    0.014118\n",
            "3808177    0.014118\n",
            "3808178    0.014118\n",
            "Name: price_change, Length: 2855978, dtype: float64\n"
          ]
        },
        {
          "output_type": "stream",
          "name": "stderr",
          "text": [
            "\r  0%|          | 301/2856834 [02:09<292:42:27,  2.71it/s]"
          ]
        },
        {
          "output_type": "stream",
          "name": "stdout",
          "text": [
            "price_change 1187      -0.000346\n",
            "1188      -0.000346\n",
            "1189      -0.000346\n",
            "1190      -0.000346\n",
            "1191      -0.000346\n",
            "             ...   \n",
            "3808174    0.014118\n",
            "3808175    0.014118\n",
            "3808176    0.014118\n",
            "3808177    0.014118\n",
            "3808178    0.014118\n",
            "Name: price_change, Length: 2855977, dtype: float64\n"
          ]
        },
        {
          "output_type": "stream",
          "name": "stderr",
          "text": [
            "\r  0%|          | 302/2856834 [02:10<315:18:36,  2.52it/s]"
          ]
        },
        {
          "output_type": "stream",
          "name": "stdout",
          "text": [
            "price_change 1187      -0.000346\n",
            "1188      -0.000346\n",
            "1189      -0.000346\n",
            "1190      -0.000346\n",
            "1191      -0.000346\n",
            "             ...   \n",
            "3808174    0.014118\n",
            "3808175    0.014118\n",
            "3808176    0.014118\n",
            "3808177    0.014118\n",
            "3808178    0.014118\n",
            "Name: price_change, Length: 2855977, dtype: float64\n"
          ]
        },
        {
          "output_type": "stream",
          "name": "stderr",
          "text": [
            "\r  0%|          | 303/2856834 [02:10<323:25:28,  2.45it/s]"
          ]
        },
        {
          "output_type": "stream",
          "name": "stdout",
          "text": [
            "price_change 1187      -0.000346\n",
            "1188      -0.000346\n",
            "1189      -0.000346\n",
            "1190      -0.000346\n",
            "1191      -0.000346\n",
            "             ...   \n",
            "3808174    0.014118\n",
            "3808175    0.014118\n",
            "3808176    0.014118\n",
            "3808177    0.014118\n",
            "3808178    0.014118\n",
            "Name: price_change, Length: 2855977, dtype: float64\n"
          ]
        },
        {
          "output_type": "stream",
          "name": "stderr",
          "text": [
            "\r  0%|          | 304/2856834 [02:10<304:57:56,  2.60it/s]"
          ]
        },
        {
          "output_type": "stream",
          "name": "stdout",
          "text": [
            "price_change 1188      -0.000346\n",
            "1189      -0.000346\n",
            "1190      -0.000346\n",
            "1191      -0.000346\n",
            "1192      -0.000346\n",
            "             ...   \n",
            "3808174    0.014118\n",
            "3808175    0.014118\n",
            "3808176    0.014118\n",
            "3808177    0.014118\n",
            "3808178    0.014118\n",
            "Name: price_change, Length: 2855976, dtype: float64\n"
          ]
        },
        {
          "output_type": "stream",
          "name": "stderr",
          "text": [
            "\r  0%|          | 305/2856834 [02:11<288:05:24,  2.75it/s]"
          ]
        },
        {
          "output_type": "stream",
          "name": "stdout",
          "text": [
            "price_change 1188      -0.000346\n",
            "1189      -0.000346\n",
            "1190      -0.000346\n",
            "1191      -0.000346\n",
            "1192      -0.000346\n",
            "             ...   \n",
            "3808174    0.014118\n",
            "3808175    0.014118\n",
            "3808176    0.014118\n",
            "3808177    0.014118\n",
            "3808178    0.014118\n",
            "Name: price_change, Length: 2855976, dtype: float64\n"
          ]
        },
        {
          "output_type": "stream",
          "name": "stderr",
          "text": [
            "\r  0%|          | 306/2856834 [02:11<273:52:05,  2.90it/s]"
          ]
        },
        {
          "output_type": "stream",
          "name": "stdout",
          "text": [
            "price_change 1188      -0.000346\n",
            "1189      -0.000346\n",
            "1190      -0.000346\n",
            "1191      -0.000346\n",
            "1192      -0.000346\n",
            "             ...   \n",
            "3808174    0.014118\n",
            "3808175    0.014118\n",
            "3808176    0.014118\n",
            "3808177    0.014118\n",
            "3808178    0.014118\n",
            "Name: price_change, Length: 2855976, dtype: float64\n"
          ]
        },
        {
          "output_type": "stream",
          "name": "stderr",
          "text": [
            "\r  0%|          | 307/2856834 [02:11<298:33:46,  2.66it/s]"
          ]
        },
        {
          "output_type": "stream",
          "name": "stdout",
          "text": [
            "price_change 1188      -0.000327\n",
            "1189      -0.000327\n",
            "1190      -0.000327\n",
            "1191      -0.000327\n",
            "1192      -0.000327\n",
            "             ...   \n",
            "3808174    0.014136\n",
            "3808175    0.014136\n",
            "3808176    0.014136\n",
            "3808177    0.014136\n",
            "3808178    0.014136\n",
            "Name: price_change, Length: 2855976, dtype: float64\n"
          ]
        },
        {
          "output_type": "stream",
          "name": "stderr",
          "text": [
            "\r  0%|          | 308/2856834 [02:12<317:22:02,  2.50it/s]"
          ]
        },
        {
          "output_type": "stream",
          "name": "stdout",
          "text": [
            "price_change 1188      -0.000327\n",
            "1189      -0.000327\n",
            "1190      -0.000327\n",
            "1191      -0.000327\n",
            "1192      -0.000327\n",
            "             ...   \n",
            "3808174    0.014136\n",
            "3808175    0.014136\n",
            "3808176    0.014136\n",
            "3808177    0.014136\n",
            "3808178    0.014136\n",
            "Name: price_change, Length: 2855976, dtype: float64\n"
          ]
        },
        {
          "output_type": "stream",
          "name": "stderr",
          "text": [
            "\r  0%|          | 309/2856834 [02:12<330:21:01,  2.40it/s]"
          ]
        },
        {
          "output_type": "stream",
          "name": "stdout",
          "text": [
            "price_change 1188      -0.000327\n",
            "1189      -0.000327\n",
            "1190      -0.000327\n",
            "1191      -0.000327\n",
            "1192      -0.000327\n",
            "             ...   \n",
            "3808174    0.014136\n",
            "3808175    0.014136\n",
            "3808176    0.014136\n",
            "3808177    0.014136\n",
            "3808178    0.014136\n",
            "Name: price_change, Length: 2855976, dtype: float64\n"
          ]
        },
        {
          "output_type": "stream",
          "name": "stderr",
          "text": [
            "\r  0%|          | 310/2856834 [02:13<340:20:08,  2.33it/s]"
          ]
        },
        {
          "output_type": "stream",
          "name": "stdout",
          "text": [
            "price_change 1188      -0.000327\n",
            "1189      -0.000327\n",
            "1190      -0.000327\n",
            "1191      -0.000327\n",
            "1192      -0.000327\n",
            "             ...   \n",
            "3808174    0.014136\n",
            "3808175    0.014136\n",
            "3808176    0.014136\n",
            "3808177    0.014136\n",
            "3808178    0.014136\n",
            "Name: price_change, Length: 2855976, dtype: float64\n"
          ]
        },
        {
          "output_type": "stream",
          "name": "stderr",
          "text": [
            "\r  0%|          | 311/2856834 [02:13<346:01:00,  2.29it/s]"
          ]
        },
        {
          "output_type": "stream",
          "name": "stdout",
          "text": [
            "price_change 1188      -0.000327\n",
            "1189      -0.000327\n",
            "1190      -0.000327\n",
            "1191      -0.000327\n",
            "1192      -0.000327\n",
            "             ...   \n",
            "3808174    0.014136\n",
            "3808175    0.014136\n",
            "3808176    0.014136\n",
            "3808177    0.014136\n",
            "3808178    0.014136\n",
            "Name: price_change, Length: 2855976, dtype: float64\n"
          ]
        },
        {
          "output_type": "stream",
          "name": "stderr",
          "text": [
            "\r  0%|          | 312/2856834 [02:14<348:42:12,  2.28it/s]"
          ]
        },
        {
          "output_type": "stream",
          "name": "stdout",
          "text": [
            "price_change 1188      -0.000327\n",
            "1189      -0.000327\n",
            "1190      -0.000327\n",
            "1191      -0.000327\n",
            "1192      -0.000327\n",
            "             ...   \n",
            "3808174    0.014136\n",
            "3808175    0.014136\n",
            "3808176    0.014136\n",
            "3808177    0.014136\n",
            "3808178    0.014136\n",
            "Name: price_change, Length: 2855976, dtype: float64\n"
          ]
        },
        {
          "output_type": "stream",
          "name": "stderr",
          "text": [
            "\r  0%|          | 313/2856834 [02:14<353:44:19,  2.24it/s]"
          ]
        },
        {
          "output_type": "stream",
          "name": "stdout",
          "text": [
            "price_change 1188      -0.000302\n",
            "1189      -0.000302\n",
            "1190      -0.000302\n",
            "1191      -0.000302\n",
            "1192      -0.000302\n",
            "             ...   \n",
            "3808174    0.014161\n",
            "3808175    0.014161\n",
            "3808176    0.014161\n",
            "3808177    0.014161\n",
            "3808178    0.014161\n",
            "Name: price_change, Length: 2855976, dtype: float64\n"
          ]
        },
        {
          "output_type": "stream",
          "name": "stderr",
          "text": [
            "\r  0%|          | 314/2856834 [02:15<355:53:47,  2.23it/s]"
          ]
        },
        {
          "output_type": "stream",
          "name": "stdout",
          "text": [
            "price_change 1188      -0.000302\n",
            "1189      -0.000302\n",
            "1190      -0.000302\n",
            "1191      -0.000302\n",
            "1192      -0.000302\n",
            "             ...   \n",
            "3808174    0.014161\n",
            "3808175    0.014161\n",
            "3808176    0.014161\n",
            "3808177    0.014161\n",
            "3808178    0.014161\n",
            "Name: price_change, Length: 2855976, dtype: float64\n"
          ]
        },
        {
          "output_type": "stream",
          "name": "stderr",
          "text": [
            "\r  0%|          | 315/2856834 [02:15<355:18:08,  2.23it/s]"
          ]
        },
        {
          "output_type": "stream",
          "name": "stdout",
          "text": [
            "price_change 1188      -0.000302\n",
            "1189      -0.000302\n",
            "1190      -0.000302\n",
            "1191      -0.000302\n",
            "1192      -0.000302\n",
            "             ...   \n",
            "3808174    0.014161\n",
            "3808175    0.014161\n",
            "3808176    0.014161\n",
            "3808177    0.014161\n",
            "3808178    0.014161\n",
            "Name: price_change, Length: 2855976, dtype: float64\n"
          ]
        },
        {
          "output_type": "stream",
          "name": "stderr",
          "text": [
            "\r  0%|          | 316/2856834 [02:15<330:34:28,  2.40it/s]"
          ]
        },
        {
          "output_type": "stream",
          "name": "stdout",
          "text": [
            "price_change 1188      -0.000302\n",
            "1189      -0.000302\n",
            "1190      -0.000302\n",
            "1191      -0.000302\n",
            "1192      -0.000302\n",
            "             ...   \n",
            "3808174    0.014161\n",
            "3808175    0.014161\n",
            "3808176    0.014161\n",
            "3808177    0.014161\n",
            "3808178    0.014161\n",
            "Name: price_change, Length: 2855976, dtype: float64\n"
          ]
        },
        {
          "output_type": "stream",
          "name": "stderr",
          "text": [
            "\r  0%|          | 317/2856834 [02:16<306:50:04,  2.59it/s]"
          ]
        },
        {
          "output_type": "stream",
          "name": "stdout",
          "text": [
            "price_change 1188      -0.000302\n",
            "1189      -0.000302\n",
            "1190      -0.000302\n",
            "1191      -0.000302\n",
            "1192      -0.000302\n",
            "             ...   \n",
            "3808174    0.014161\n",
            "3808175    0.014161\n",
            "3808176    0.014161\n",
            "3808177    0.014161\n",
            "3808178    0.014161\n",
            "Name: price_change, Length: 2855976, dtype: float64\n"
          ]
        },
        {
          "output_type": "stream",
          "name": "stderr",
          "text": [
            "\r  0%|          | 318/2856834 [02:16<289:59:46,  2.74it/s]"
          ]
        },
        {
          "output_type": "stream",
          "name": "stdout",
          "text": [
            "price_change 1188      -0.000302\n",
            "1189      -0.000302\n",
            "1190      -0.000302\n",
            "1191      -0.000302\n",
            "1192      -0.000302\n",
            "             ...   \n",
            "3808174    0.014161\n",
            "3808175    0.014161\n",
            "3808176    0.014161\n",
            "3808177    0.014161\n",
            "3808178    0.014161\n",
            "Name: price_change, Length: 2855976, dtype: float64\n"
          ]
        },
        {
          "output_type": "stream",
          "name": "stderr",
          "text": [
            "\r  0%|          | 319/2856834 [02:16<276:44:32,  2.87it/s]"
          ]
        },
        {
          "output_type": "stream",
          "name": "stdout",
          "text": [
            "price_change 1188      -0.000302\n",
            "1189      -0.000302\n",
            "1190      -0.000302\n",
            "1191      -0.000302\n",
            "1192      -0.000302\n",
            "             ...   \n",
            "3808174    0.014161\n",
            "3808175    0.014161\n",
            "3808176    0.014161\n",
            "3808177    0.014161\n",
            "3808178    0.014161\n",
            "Name: price_change, Length: 2855976, dtype: float64\n"
          ]
        },
        {
          "output_type": "stream",
          "name": "stderr",
          "text": [
            "\r  0%|          | 320/2856834 [02:17<266:34:16,  2.98it/s]"
          ]
        },
        {
          "output_type": "stream",
          "name": "stdout",
          "text": [
            "price_change 1188      -0.000302\n",
            "1189      -0.000302\n",
            "1190      -0.000302\n",
            "1191      -0.000302\n",
            "1192      -0.000302\n",
            "             ...   \n",
            "3808174    0.014161\n",
            "3808175    0.014161\n",
            "3808176    0.014161\n",
            "3808177    0.014161\n",
            "3808178    0.014161\n",
            "Name: price_change, Length: 2855976, dtype: float64\n"
          ]
        },
        {
          "output_type": "stream",
          "name": "stderr",
          "text": [
            "\r  0%|          | 321/2856834 [02:17<263:21:29,  3.01it/s]"
          ]
        },
        {
          "output_type": "stream",
          "name": "stdout",
          "text": [
            "price_change 1188      -0.000302\n",
            "1189      -0.000302\n",
            "1190      -0.000302\n",
            "1191      -0.000302\n",
            "1192      -0.000302\n",
            "             ...   \n",
            "3808174    0.014161\n",
            "3808175    0.014161\n",
            "3808176    0.014161\n",
            "3808177    0.014161\n",
            "3808178    0.014161\n",
            "Name: price_change, Length: 2855976, dtype: float64\n"
          ]
        },
        {
          "output_type": "stream",
          "name": "stderr",
          "text": [
            "\r  0%|          | 322/2856834 [02:17<273:52:53,  2.90it/s]"
          ]
        },
        {
          "output_type": "stream",
          "name": "stdout",
          "text": [
            "price_change 1188      -0.000302\n",
            "1189      -0.000302\n",
            "1190      -0.000302\n",
            "1191      -0.000302\n",
            "1192      -0.000302\n",
            "             ...   \n",
            "3808174    0.014161\n",
            "3808175    0.014161\n",
            "3808176    0.014161\n",
            "3808177    0.014161\n",
            "3808178    0.014161\n",
            "Name: price_change, Length: 2855976, dtype: float64\n"
          ]
        },
        {
          "output_type": "stream",
          "name": "stderr",
          "text": [
            "\r  0%|          | 323/2856834 [02:18<279:35:32,  2.84it/s]"
          ]
        },
        {
          "output_type": "stream",
          "name": "stdout",
          "text": [
            "price_change 1188      -0.000302\n",
            "1189      -0.000302\n",
            "1190      -0.000302\n",
            "1191      -0.000302\n",
            "1192      -0.000302\n",
            "             ...   \n",
            "3808174    0.014161\n",
            "3808175    0.014161\n",
            "3808176    0.014161\n",
            "3808177    0.014161\n",
            "3808178    0.014161\n",
            "Name: price_change, Length: 2855976, dtype: float64\n"
          ]
        },
        {
          "output_type": "stream",
          "name": "stderr",
          "text": [
            "\r  0%|          | 324/2856834 [02:18<282:05:46,  2.81it/s]"
          ]
        },
        {
          "output_type": "stream",
          "name": "stdout",
          "text": [
            "price_change 1189      -0.000302\n",
            "1190      -0.000302\n",
            "1191      -0.000302\n",
            "1192      -0.000302\n",
            "1193      -0.000302\n",
            "             ...   \n",
            "3808174    0.014161\n",
            "3808175    0.014161\n",
            "3808176    0.014161\n",
            "3808177    0.014161\n",
            "3808178    0.014161\n",
            "Name: price_change, Length: 2855975, dtype: float64\n"
          ]
        },
        {
          "output_type": "stream",
          "name": "stderr",
          "text": [
            "\r  0%|          | 325/2856834 [02:18<314:56:47,  2.52it/s]"
          ]
        },
        {
          "output_type": "stream",
          "name": "stdout",
          "text": [
            "price_change 1189      -0.000302\n",
            "1190      -0.000302\n",
            "1191      -0.000302\n",
            "1192      -0.000302\n",
            "1193      -0.000302\n",
            "             ...   \n",
            "3808174    0.014161\n",
            "3808175    0.014161\n",
            "3808176    0.014161\n",
            "3808177    0.014161\n",
            "3808178    0.014161\n",
            "Name: price_change, Length: 2855975, dtype: float64\n"
          ]
        },
        {
          "output_type": "stream",
          "name": "stderr",
          "text": [
            "\r  0%|          | 326/2856834 [02:19<348:01:56,  2.28it/s]"
          ]
        },
        {
          "output_type": "stream",
          "name": "stdout",
          "text": [
            "price_change 1189      -0.000302\n",
            "1190      -0.000302\n",
            "1191      -0.000302\n",
            "1192      -0.000302\n",
            "1193      -0.000302\n",
            "             ...   \n",
            "3808174    0.014161\n",
            "3808175    0.014161\n",
            "3808176    0.014161\n",
            "3808177    0.014161\n",
            "3808178    0.014161\n",
            "Name: price_change, Length: 2855975, dtype: float64\n"
          ]
        },
        {
          "output_type": "stream",
          "name": "stderr",
          "text": [
            "\r  0%|          | 327/2856834 [02:20<364:35:49,  2.18it/s]"
          ]
        },
        {
          "output_type": "stream",
          "name": "stdout",
          "text": [
            "price_change 1189      -0.000302\n",
            "1190      -0.000302\n",
            "1191      -0.000302\n",
            "1192      -0.000302\n",
            "1193      -0.000302\n",
            "             ...   \n",
            "3808174    0.014161\n",
            "3808175    0.014161\n",
            "3808176    0.014161\n",
            "3808177    0.014161\n",
            "3808178    0.014161\n",
            "Name: price_change, Length: 2855975, dtype: float64\n"
          ]
        },
        {
          "output_type": "stream",
          "name": "stderr",
          "text": [
            "\r  0%|          | 328/2856834 [02:20<378:08:46,  2.10it/s]"
          ]
        },
        {
          "output_type": "stream",
          "name": "stdout",
          "text": [
            "price_change 1189      -0.000302\n",
            "1190      -0.000302\n",
            "1191      -0.000302\n",
            "1192      -0.000302\n",
            "1193      -0.000302\n",
            "             ...   \n",
            "3808174    0.014161\n",
            "3808175    0.014161\n",
            "3808176    0.014161\n",
            "3808177    0.014161\n",
            "3808178    0.014161\n",
            "Name: price_change, Length: 2855975, dtype: float64\n"
          ]
        },
        {
          "output_type": "stream",
          "name": "stderr",
          "text": [
            "\r  0%|          | 329/2856834 [02:21<383:20:33,  2.07it/s]"
          ]
        },
        {
          "output_type": "stream",
          "name": "stdout",
          "text": [
            "price_change 1189      -0.000302\n",
            "1190      -0.000302\n",
            "1191      -0.000302\n",
            "1192      -0.000302\n",
            "1193      -0.000302\n",
            "             ...   \n",
            "3808174    0.014161\n",
            "3808175    0.014161\n",
            "3808176    0.014161\n",
            "3808177    0.014161\n",
            "3808178    0.014161\n",
            "Name: price_change, Length: 2855975, dtype: float64\n"
          ]
        },
        {
          "output_type": "stream",
          "name": "stderr",
          "text": [
            "\r  0%|          | 330/2856834 [02:21<392:11:39,  2.02it/s]"
          ]
        },
        {
          "output_type": "stream",
          "name": "stdout",
          "text": [
            "price_change 1189      -0.000302\n",
            "1190      -0.000302\n",
            "1191      -0.000302\n",
            "1192      -0.000302\n",
            "1193      -0.000302\n",
            "             ...   \n",
            "3808174    0.014161\n",
            "3808175    0.014161\n",
            "3808176    0.014161\n",
            "3808177    0.014161\n",
            "3808178    0.014161\n",
            "Name: price_change, Length: 2855975, dtype: float64\n"
          ]
        },
        {
          "output_type": "stream",
          "name": "stderr",
          "text": [
            "\r  0%|          | 331/2856834 [02:21<366:02:50,  2.17it/s]"
          ]
        },
        {
          "output_type": "stream",
          "name": "stdout",
          "text": [
            "price_change 1189      -0.000302\n",
            "1190      -0.000302\n",
            "1191      -0.000302\n",
            "1192      -0.000302\n",
            "1193      -0.000302\n",
            "             ...   \n",
            "3808174    0.014161\n",
            "3808175    0.014161\n",
            "3808176    0.014161\n",
            "3808177    0.014161\n",
            "3808178    0.014161\n",
            "Name: price_change, Length: 2855975, dtype: float64\n"
          ]
        },
        {
          "output_type": "stream",
          "name": "stderr",
          "text": [
            "\r  0%|          | 332/2856834 [02:22<330:19:15,  2.40it/s]"
          ]
        },
        {
          "output_type": "stream",
          "name": "stdout",
          "text": [
            "price_change 1190      -0.000302\n",
            "1191      -0.000302\n",
            "1192      -0.000302\n",
            "1193      -0.000302\n",
            "1194      -0.000302\n",
            "             ...   \n",
            "3808174    0.014161\n",
            "3808175    0.014161\n",
            "3808176    0.014161\n",
            "3808177    0.014161\n",
            "3808178    0.014161\n",
            "Name: price_change, Length: 2855974, dtype: float64\n"
          ]
        },
        {
          "output_type": "stream",
          "name": "stderr",
          "text": [
            "\r  0%|          | 333/2856834 [02:22<304:52:38,  2.60it/s]"
          ]
        },
        {
          "output_type": "stream",
          "name": "stdout",
          "text": [
            "price_change 1190      -0.000302\n",
            "1191      -0.000302\n",
            "1192      -0.000302\n",
            "1193      -0.000302\n",
            "1194      -0.000302\n",
            "             ...   \n",
            "3808174    0.014161\n",
            "3808175    0.014161\n",
            "3808176    0.014161\n",
            "3808177    0.014161\n",
            "3808178    0.014161\n",
            "Name: price_change, Length: 2855974, dtype: float64\n"
          ]
        },
        {
          "output_type": "stream",
          "name": "stderr",
          "text": [
            "\r  0%|          | 334/2856834 [02:23<315:05:19,  2.52it/s]"
          ]
        },
        {
          "output_type": "stream",
          "name": "stdout",
          "text": [
            "price_change 1193      -0.000302\n",
            "1194      -0.000302\n",
            "1195      -0.000302\n",
            "1196      -0.000302\n",
            "1197      -0.000302\n",
            "             ...   \n",
            "3808174    0.014161\n",
            "3808175    0.014161\n",
            "3808176    0.014161\n",
            "3808177    0.014161\n",
            "3808178    0.014161\n",
            "Name: price_change, Length: 2855971, dtype: float64\n"
          ]
        },
        {
          "output_type": "stream",
          "name": "stderr",
          "text": [
            "\r  0%|          | 335/2856834 [02:23<330:22:05,  2.40it/s]"
          ]
        },
        {
          "output_type": "stream",
          "name": "stdout",
          "text": [
            "price_change 1195      -0.000302\n",
            "1196      -0.000302\n",
            "1197      -0.000302\n",
            "1198      -0.000302\n",
            "1199      -0.000302\n",
            "             ...   \n",
            "3808174    0.014161\n",
            "3808175    0.014161\n",
            "3808176    0.014161\n",
            "3808177    0.014161\n",
            "3808178    0.014161\n",
            "Name: price_change, Length: 2855969, dtype: float64\n"
          ]
        },
        {
          "output_type": "stream",
          "name": "stderr",
          "text": [
            "\r  0%|          | 336/2856834 [02:23<322:46:13,  2.46it/s]"
          ]
        },
        {
          "output_type": "stream",
          "name": "stdout",
          "text": [
            "price_change 1195      -0.000290\n",
            "1196      -0.000290\n",
            "1197      -0.000290\n",
            "1198      -0.000290\n",
            "1199      -0.000290\n",
            "             ...   \n",
            "3808174    0.014174\n",
            "3808175    0.014174\n",
            "3808176    0.014174\n",
            "3808177    0.014174\n",
            "3808178    0.014174\n",
            "Name: price_change, Length: 2855969, dtype: float64\n"
          ]
        },
        {
          "output_type": "stream",
          "name": "stderr",
          "text": [
            "\r  0%|          | 337/2856834 [02:24<302:19:07,  2.62it/s]"
          ]
        },
        {
          "output_type": "stream",
          "name": "stdout",
          "text": [
            "price_change 1195      -0.000290\n",
            "1196      -0.000290\n",
            "1197      -0.000290\n",
            "1198      -0.000290\n",
            "1199      -0.000290\n",
            "             ...   \n",
            "3808174    0.014174\n",
            "3808175    0.014174\n",
            "3808176    0.014174\n",
            "3808177    0.014174\n",
            "3808178    0.014174\n",
            "Name: price_change, Length: 2855969, dtype: float64\n"
          ]
        },
        {
          "output_type": "stream",
          "name": "stderr",
          "text": [
            "\r  0%|          | 338/2856834 [02:24<284:47:15,  2.79it/s]"
          ]
        },
        {
          "output_type": "stream",
          "name": "stdout",
          "text": [
            "price_change 1195      -0.000290\n",
            "1196      -0.000290\n",
            "1197      -0.000290\n",
            "1198      -0.000290\n",
            "1199      -0.000290\n",
            "             ...   \n",
            "3808174    0.014174\n",
            "3808175    0.014174\n",
            "3808176    0.014174\n",
            "3808177    0.014174\n",
            "3808178    0.014174\n",
            "Name: price_change, Length: 2855969, dtype: float64\n"
          ]
        },
        {
          "output_type": "stream",
          "name": "stderr",
          "text": [
            "\r  0%|          | 339/2856834 [02:24<281:28:32,  2.82it/s]"
          ]
        },
        {
          "output_type": "stream",
          "name": "stdout",
          "text": [
            "price_change 1195      -0.000290\n",
            "1196      -0.000290\n",
            "1197      -0.000290\n",
            "1198      -0.000290\n",
            "1199      -0.000290\n",
            "             ...   \n",
            "3808174    0.014174\n",
            "3808175    0.014174\n",
            "3808176    0.014174\n",
            "3808177    0.014174\n",
            "3808178    0.014174\n",
            "Name: price_change, Length: 2855969, dtype: float64\n"
          ]
        },
        {
          "output_type": "stream",
          "name": "stderr",
          "text": [
            "\r  0%|          | 340/2856834 [02:25<304:51:55,  2.60it/s]"
          ]
        },
        {
          "output_type": "stream",
          "name": "stdout",
          "text": [
            "price_change 1195      -0.000290\n",
            "1196      -0.000290\n",
            "1197      -0.000290\n",
            "1198      -0.000290\n",
            "1199      -0.000290\n",
            "             ...   \n",
            "3808174    0.014174\n",
            "3808175    0.014174\n",
            "3808176    0.014174\n",
            "3808177    0.014174\n",
            "3808178    0.014174\n",
            "Name: price_change, Length: 2855969, dtype: float64\n"
          ]
        },
        {
          "output_type": "stream",
          "name": "stderr",
          "text": [
            "\r  0%|          | 341/2856834 [02:25<322:01:47,  2.46it/s]"
          ]
        },
        {
          "output_type": "stream",
          "name": "stdout",
          "text": [
            "price_change 1195      -0.000290\n",
            "1196      -0.000290\n",
            "1197      -0.000290\n",
            "1198      -0.000290\n",
            "1199      -0.000290\n",
            "             ...   \n",
            "3808174    0.014174\n",
            "3808175    0.014174\n",
            "3808176    0.014174\n",
            "3808177    0.014174\n",
            "3808178    0.014174\n",
            "Name: price_change, Length: 2855969, dtype: float64\n"
          ]
        },
        {
          "output_type": "stream",
          "name": "stderr",
          "text": [
            "\r  0%|          | 342/2856834 [02:26<332:57:23,  2.38it/s]"
          ]
        },
        {
          "output_type": "stream",
          "name": "stdout",
          "text": [
            "price_change 1195      -0.000290\n",
            "1196      -0.000290\n",
            "1197      -0.000290\n",
            "1198      -0.000290\n",
            "1199      -0.000290\n",
            "             ...   \n",
            "3808174    0.014174\n",
            "3808175    0.014174\n",
            "3808176    0.014174\n",
            "3808177    0.014174\n",
            "3808178    0.014174\n",
            "Name: price_change, Length: 2855969, dtype: float64\n"
          ]
        },
        {
          "output_type": "stream",
          "name": "stderr",
          "text": [
            "\r  0%|          | 343/2856834 [02:26<341:16:28,  2.33it/s]"
          ]
        },
        {
          "output_type": "stream",
          "name": "stdout",
          "text": [
            "price_change 1195      -0.000290\n",
            "1196      -0.000290\n",
            "1197      -0.000290\n",
            "1198      -0.000290\n",
            "1199      -0.000290\n",
            "             ...   \n",
            "3808174    0.014174\n",
            "3808175    0.014174\n",
            "3808176    0.014174\n",
            "3808177    0.014174\n",
            "3808178    0.014174\n",
            "Name: price_change, Length: 2855969, dtype: float64\n"
          ]
        },
        {
          "output_type": "stream",
          "name": "stderr",
          "text": [
            "\r  0%|          | 344/2856834 [02:27<347:54:20,  2.28it/s]"
          ]
        },
        {
          "output_type": "stream",
          "name": "stdout",
          "text": [
            "price_change 1195      -0.000290\n",
            "1196      -0.000290\n",
            "1197      -0.000290\n",
            "1198      -0.000290\n",
            "1199      -0.000290\n",
            "             ...   \n",
            "3808174    0.014174\n",
            "3808175    0.014174\n",
            "3808176    0.014174\n",
            "3808177    0.014174\n",
            "3808178    0.014174\n",
            "Name: price_change, Length: 2855969, dtype: float64\n"
          ]
        },
        {
          "output_type": "stream",
          "name": "stderr",
          "text": [
            "\r  0%|          | 345/2856834 [02:27<353:20:18,  2.25it/s]"
          ]
        },
        {
          "output_type": "stream",
          "name": "stdout",
          "text": [
            "price_change 1195      -0.000290\n",
            "1196      -0.000290\n",
            "1197      -0.000290\n",
            "1198      -0.000290\n",
            "1199      -0.000290\n",
            "             ...   \n",
            "3808174    0.014174\n",
            "3808175    0.014174\n",
            "3808176    0.014174\n",
            "3808177    0.014174\n",
            "3808178    0.014174\n",
            "Name: price_change, Length: 2855969, dtype: float64\n"
          ]
        },
        {
          "output_type": "stream",
          "name": "stderr",
          "text": [
            "\r  0%|          | 346/2856834 [02:28<358:36:28,  2.21it/s]"
          ]
        },
        {
          "output_type": "stream",
          "name": "stdout",
          "text": [
            "price_change 1195      -0.000290\n",
            "1196      -0.000290\n",
            "1197      -0.000290\n",
            "1198      -0.000290\n",
            "1199      -0.000290\n",
            "             ...   \n",
            "3808174    0.014174\n",
            "3808175    0.014174\n",
            "3808176    0.014174\n",
            "3808177    0.014174\n",
            "3808178    0.014174\n",
            "Name: price_change, Length: 2855969, dtype: float64\n"
          ]
        },
        {
          "output_type": "stream",
          "name": "stderr",
          "text": [
            "\r  0%|          | 347/2856834 [02:28<358:03:44,  2.22it/s]"
          ]
        },
        {
          "output_type": "stream",
          "name": "stdout",
          "text": [
            "price_change 1195      -0.000290\n",
            "1196      -0.000290\n",
            "1197      -0.000290\n",
            "1198      -0.000290\n",
            "1199      -0.000290\n",
            "             ...   \n",
            "3808174    0.014174\n",
            "3808175    0.014174\n",
            "3808176    0.014174\n",
            "3808177    0.014174\n",
            "3808178    0.014174\n",
            "Name: price_change, Length: 2855969, dtype: float64\n"
          ]
        },
        {
          "output_type": "stream",
          "name": "stderr",
          "text": [
            "\r  0%|          | 348/2856834 [02:28<361:16:19,  2.20it/s]"
          ]
        },
        {
          "output_type": "stream",
          "name": "stdout",
          "text": [
            "price_change 1195      -0.000290\n",
            "1196      -0.000290\n",
            "1197      -0.000290\n",
            "1198      -0.000290\n",
            "1199      -0.000290\n",
            "             ...   \n",
            "3808174    0.014174\n",
            "3808175    0.014174\n",
            "3808176    0.014174\n",
            "3808177    0.014174\n",
            "3808178    0.014174\n",
            "Name: price_change, Length: 2855969, dtype: float64\n"
          ]
        },
        {
          "output_type": "stream",
          "name": "stderr",
          "text": [
            "\r  0%|          | 349/2856834 [02:29<360:57:14,  2.20it/s]"
          ]
        },
        {
          "output_type": "stream",
          "name": "stdout",
          "text": [
            "price_change 1195      -0.000290\n",
            "1196      -0.000290\n",
            "1197      -0.000290\n",
            "1198      -0.000290\n",
            "1199      -0.000290\n",
            "             ...   \n",
            "3808174    0.014174\n",
            "3808175    0.014174\n",
            "3808176    0.014174\n",
            "3808177    0.014174\n",
            "3808178    0.014174\n",
            "Name: price_change, Length: 2855969, dtype: float64\n"
          ]
        },
        {
          "output_type": "stream",
          "name": "stderr",
          "text": [
            "\r  0%|          | 350/2856834 [02:29<362:19:56,  2.19it/s]"
          ]
        },
        {
          "output_type": "stream",
          "name": "stdout",
          "text": [
            "price_change 1195      -0.000290\n",
            "1196      -0.000290\n",
            "1197      -0.000290\n",
            "1198      -0.000290\n",
            "1199      -0.000290\n",
            "             ...   \n",
            "3808174    0.014174\n",
            "3808175    0.014174\n",
            "3808176    0.014174\n",
            "3808177    0.014174\n",
            "3808178    0.014174\n",
            "Name: price_change, Length: 2855969, dtype: float64\n"
          ]
        },
        {
          "output_type": "stream",
          "name": "stderr",
          "text": [
            "\r  0%|          | 351/2856834 [02:30<333:03:33,  2.38it/s]"
          ]
        },
        {
          "output_type": "stream",
          "name": "stdout",
          "text": [
            "price_change 1195      -0.000290\n",
            "1196      -0.000290\n",
            "1197      -0.000290\n",
            "1198      -0.000290\n",
            "1199      -0.000290\n",
            "             ...   \n",
            "3808174    0.014174\n",
            "3808175    0.014174\n",
            "3808176    0.014174\n",
            "3808177    0.014174\n",
            "3808178    0.014174\n",
            "Name: price_change, Length: 2855969, dtype: float64\n"
          ]
        },
        {
          "output_type": "stream",
          "name": "stderr",
          "text": [
            "\r  0%|          | 352/2856834 [02:30<307:49:48,  2.58it/s]"
          ]
        },
        {
          "output_type": "stream",
          "name": "stdout",
          "text": [
            "price_change 1195      -0.000290\n",
            "1196      -0.000290\n",
            "1197      -0.000290\n",
            "1198      -0.000290\n",
            "1199      -0.000290\n",
            "             ...   \n",
            "3808174    0.014174\n",
            "3808175    0.014174\n",
            "3808176    0.014174\n",
            "3808177    0.014174\n",
            "3808178    0.014174\n",
            "Name: price_change, Length: 2855969, dtype: float64\n"
          ]
        },
        {
          "output_type": "stream",
          "name": "stderr",
          "text": [
            "\r  0%|          | 353/2856834 [02:30<289:08:35,  2.74it/s]"
          ]
        },
        {
          "output_type": "stream",
          "name": "stdout",
          "text": [
            "price_change 1195      -0.000290\n",
            "1196      -0.000290\n",
            "1197      -0.000290\n",
            "1198      -0.000290\n",
            "1199      -0.000290\n",
            "             ...   \n",
            "3808174    0.014174\n",
            "3808175    0.014174\n",
            "3808176    0.014174\n",
            "3808177    0.014174\n",
            "3808178    0.014174\n",
            "Name: price_change, Length: 2855969, dtype: float64\n"
          ]
        },
        {
          "output_type": "stream",
          "name": "stderr",
          "text": [
            "\r  0%|          | 354/2856834 [02:31<310:37:18,  2.55it/s]"
          ]
        },
        {
          "output_type": "stream",
          "name": "stdout",
          "text": [
            "price_change 1195      -0.000290\n",
            "1196      -0.000290\n",
            "1197      -0.000290\n",
            "1198      -0.000290\n",
            "1199      -0.000290\n",
            "             ...   \n",
            "3808174    0.014174\n",
            "3808175    0.014174\n",
            "3808176    0.014174\n",
            "3808177    0.014174\n",
            "3808178    0.014174\n",
            "Name: price_change, Length: 2855969, dtype: float64\n"
          ]
        },
        {
          "output_type": "stream",
          "name": "stderr",
          "text": [
            "\r  0%|          | 355/2856834 [02:31<326:40:05,  2.43it/s]"
          ]
        },
        {
          "output_type": "stream",
          "name": "stdout",
          "text": [
            "price_change 1195      -0.000290\n",
            "1196      -0.000290\n",
            "1197      -0.000290\n",
            "1198      -0.000290\n",
            "1199      -0.000290\n",
            "             ...   \n",
            "3808174    0.014174\n",
            "3808175    0.014174\n",
            "3808176    0.014174\n",
            "3808177    0.014174\n",
            "3808178    0.014174\n",
            "Name: price_change, Length: 2855969, dtype: float64\n"
          ]
        },
        {
          "output_type": "stream",
          "name": "stderr",
          "text": [
            "\r  0%|          | 356/2856834 [02:32<353:55:39,  2.24it/s]"
          ]
        },
        {
          "output_type": "stream",
          "name": "stdout",
          "text": [
            "price_change 1195      -0.000290\n",
            "1196      -0.000290\n",
            "1197      -0.000290\n",
            "1198      -0.000290\n",
            "1199      -0.000290\n",
            "             ...   \n",
            "3808174    0.014174\n",
            "3808175    0.014174\n",
            "3808176    0.014174\n",
            "3808177    0.014174\n",
            "3808178    0.014174\n",
            "Name: price_change, Length: 2855969, dtype: float64\n"
          ]
        },
        {
          "output_type": "stream",
          "name": "stderr",
          "text": [
            "\r  0%|          | 357/2856834 [02:32<372:37:53,  2.13it/s]"
          ]
        },
        {
          "output_type": "stream",
          "name": "stdout",
          "text": [
            "price_change 1195      -0.000290\n",
            "1196      -0.000290\n",
            "1197      -0.000290\n",
            "1198      -0.000290\n",
            "1199      -0.000290\n",
            "             ...   \n",
            "3808174    0.014174\n",
            "3808175    0.014174\n",
            "3808176    0.014174\n",
            "3808177    0.014174\n",
            "3808178    0.014174\n",
            "Name: price_change, Length: 2855969, dtype: float64\n"
          ]
        },
        {
          "output_type": "stream",
          "name": "stderr",
          "text": [
            "\r  0%|          | 358/2856834 [02:33<357:43:28,  2.22it/s]"
          ]
        },
        {
          "output_type": "stream",
          "name": "stdout",
          "text": [
            "price_change 1195      -0.000290\n",
            "1196      -0.000290\n",
            "1197      -0.000290\n",
            "1198      -0.000290\n",
            "1199      -0.000290\n",
            "             ...   \n",
            "3808174    0.014174\n",
            "3808175    0.014174\n",
            "3808176    0.014174\n",
            "3808177    0.014174\n",
            "3808178    0.014174\n",
            "Name: price_change, Length: 2855969, dtype: float64\n"
          ]
        },
        {
          "output_type": "stream",
          "name": "stderr",
          "text": [
            "\r  0%|          | 359/2856834 [02:33<340:22:56,  2.33it/s]"
          ]
        },
        {
          "output_type": "stream",
          "name": "stdout",
          "text": [
            "price_change 1195      -0.000290\n",
            "1196      -0.000290\n",
            "1197      -0.000290\n",
            "1198      -0.000290\n",
            "1199      -0.000290\n",
            "             ...   \n",
            "3808174    0.014174\n",
            "3808175    0.014174\n",
            "3808176    0.014174\n",
            "3808177    0.014174\n",
            "3808178    0.014174\n",
            "Name: price_change, Length: 2855969, dtype: float64\n"
          ]
        },
        {
          "output_type": "stream",
          "name": "stderr",
          "text": [
            "\r  0%|          | 360/2856834 [02:33<326:49:51,  2.43it/s]"
          ]
        },
        {
          "output_type": "stream",
          "name": "stdout",
          "text": [
            "price_change 1195      -0.000290\n",
            "1196      -0.000290\n",
            "1197      -0.000290\n",
            "1198      -0.000290\n",
            "1199      -0.000290\n",
            "             ...   \n",
            "3808174    0.014174\n",
            "3808175    0.014174\n",
            "3808176    0.014174\n",
            "3808177    0.014174\n",
            "3808178    0.014174\n",
            "Name: price_change, Length: 2855969, dtype: float64\n"
          ]
        },
        {
          "output_type": "stream",
          "name": "stderr",
          "text": [
            "\r  0%|          | 361/2856834 [02:34<318:11:29,  2.49it/s]"
          ]
        },
        {
          "output_type": "stream",
          "name": "stdout",
          "text": [
            "price_change 1195      -0.000290\n",
            "1196      -0.000290\n",
            "1197      -0.000290\n",
            "1198      -0.000290\n",
            "1199      -0.000290\n",
            "             ...   \n",
            "3808174    0.014174\n",
            "3808175    0.014174\n",
            "3808176    0.014174\n",
            "3808177    0.014174\n",
            "3808178    0.014174\n",
            "Name: price_change, Length: 2855969, dtype: float64\n"
          ]
        },
        {
          "output_type": "stream",
          "name": "stderr",
          "text": [
            "\r  0%|          | 362/2856834 [02:34<309:31:35,  2.56it/s]"
          ]
        },
        {
          "output_type": "stream",
          "name": "stdout",
          "text": [
            "price_change 1195      -0.000290\n",
            "1196      -0.000290\n",
            "1197      -0.000290\n",
            "1198      -0.000290\n",
            "1199      -0.000290\n",
            "             ...   \n",
            "3808174    0.014174\n",
            "3808175    0.014174\n",
            "3808176    0.014174\n",
            "3808177    0.014174\n",
            "3808178    0.014174\n",
            "Name: price_change, Length: 2855969, dtype: float64\n"
          ]
        },
        {
          "output_type": "stream",
          "name": "stderr",
          "text": [
            "\r  0%|          | 363/2856834 [02:35<300:13:11,  2.64it/s]"
          ]
        },
        {
          "output_type": "stream",
          "name": "stdout",
          "text": [
            "price_change 1196      -0.000290\n",
            "1197      -0.000290\n",
            "1198      -0.000290\n",
            "1199      -0.000290\n",
            "1200      -0.000290\n",
            "             ...   \n",
            "3808174    0.014174\n",
            "3808175    0.014174\n",
            "3808176    0.014174\n",
            "3808177    0.014174\n",
            "3808178    0.014174\n",
            "Name: price_change, Length: 2855968, dtype: float64\n"
          ]
        },
        {
          "output_type": "stream",
          "name": "stderr",
          "text": [
            "\r  0%|          | 364/2856834 [02:35<298:52:02,  2.65it/s]"
          ]
        },
        {
          "output_type": "stream",
          "name": "stdout",
          "text": [
            "price_change 1196      -0.000290\n",
            "1197      -0.000290\n",
            "1198      -0.000290\n",
            "1199      -0.000290\n",
            "1200      -0.000290\n",
            "             ...   \n",
            "3808174    0.014174\n",
            "3808175    0.014174\n",
            "3808176    0.014174\n",
            "3808177    0.014174\n",
            "3808178    0.014174\n",
            "Name: price_change, Length: 2855968, dtype: float64\n"
          ]
        },
        {
          "output_type": "stream",
          "name": "stderr",
          "text": [
            "\r  0%|          | 365/2856834 [02:35<298:12:23,  2.66it/s]"
          ]
        },
        {
          "output_type": "stream",
          "name": "stdout",
          "text": [
            "price_change 1196      -0.000290\n",
            "1197      -0.000290\n",
            "1198      -0.000290\n",
            "1199      -0.000290\n",
            "1200      -0.000290\n",
            "             ...   \n",
            "3808174    0.014174\n",
            "3808175    0.014174\n",
            "3808176    0.014174\n",
            "3808177    0.014174\n",
            "3808178    0.014174\n",
            "Name: price_change, Length: 2855968, dtype: float64\n"
          ]
        },
        {
          "output_type": "stream",
          "name": "stderr",
          "text": [
            "\r  0%|          | 366/2856834 [02:36<298:27:18,  2.66it/s]"
          ]
        },
        {
          "output_type": "stream",
          "name": "stdout",
          "text": [
            "price_change 1199      -0.000290\n",
            "1200      -0.000290\n",
            "1201      -0.000290\n",
            "1202      -0.000290\n",
            "1204      -0.000290\n",
            "             ...   \n",
            "3808174    0.014174\n",
            "3808175    0.014174\n",
            "3808176    0.014174\n",
            "3808177    0.014174\n",
            "3808178    0.014174\n",
            "Name: price_change, Length: 2855965, dtype: float64\n"
          ]
        },
        {
          "output_type": "stream",
          "name": "stderr",
          "text": [
            "\r  0%|          | 367/2856834 [02:36<298:28:48,  2.66it/s]"
          ]
        },
        {
          "output_type": "stream",
          "name": "stdout",
          "text": [
            "price_change 1199      -0.000290\n",
            "1200      -0.000290\n",
            "1201      -0.000290\n",
            "1202      -0.000290\n",
            "1204      -0.000290\n",
            "             ...   \n",
            "3808174    0.014174\n",
            "3808175    0.014174\n",
            "3808176    0.014174\n",
            "3808177    0.014174\n",
            "3808178    0.014174\n",
            "Name: price_change, Length: 2855965, dtype: float64\n"
          ]
        },
        {
          "output_type": "stream",
          "name": "stderr",
          "text": [
            "\r  0%|          | 368/2856834 [02:36<283:33:09,  2.80it/s]"
          ]
        },
        {
          "output_type": "stream",
          "name": "stdout",
          "text": [
            "price_change 1208      -0.000290\n",
            "1209      -0.000290\n",
            "1210      -0.000290\n",
            "1211      -0.000290\n",
            "1213      -0.000290\n",
            "             ...   \n",
            "3808174    0.014174\n",
            "3808175    0.014174\n",
            "3808176    0.014174\n",
            "3808177    0.014174\n",
            "3808178    0.014174\n",
            "Name: price_change, Length: 2855958, dtype: float64\n"
          ]
        },
        {
          "output_type": "stream",
          "name": "stderr",
          "text": [
            "\r  0%|          | 369/2856834 [02:37<274:01:22,  2.90it/s]"
          ]
        },
        {
          "output_type": "stream",
          "name": "stdout",
          "text": [
            "price_change 1208      -0.000290\n",
            "1209      -0.000290\n",
            "1210      -0.000290\n",
            "1211      -0.000290\n",
            "1213      -0.000290\n",
            "             ...   \n",
            "3808174    0.014174\n",
            "3808175    0.014174\n",
            "3808176    0.014174\n",
            "3808177    0.014174\n",
            "3808178    0.014174\n",
            "Name: price_change, Length: 2855958, dtype: float64\n"
          ]
        },
        {
          "output_type": "stream",
          "name": "stderr",
          "text": [
            "\r  0%|          | 370/2856834 [02:37<269:10:45,  2.95it/s]"
          ]
        },
        {
          "output_type": "stream",
          "name": "stdout",
          "text": [
            "price_change 1208      -0.000290\n",
            "1209      -0.000290\n",
            "1210      -0.000290\n",
            "1211      -0.000290\n",
            "1213      -0.000290\n",
            "             ...   \n",
            "3808174    0.014174\n",
            "3808175    0.014174\n",
            "3808176    0.014174\n",
            "3808177    0.014174\n",
            "3808178    0.014174\n",
            "Name: price_change, Length: 2855958, dtype: float64\n"
          ]
        },
        {
          "output_type": "stream",
          "name": "stderr",
          "text": [
            "\r  0%|          | 371/2856834 [02:37<263:59:00,  3.01it/s]"
          ]
        },
        {
          "output_type": "stream",
          "name": "stdout",
          "text": [
            "price_change 1208      -0.000290\n",
            "1209      -0.000290\n",
            "1210      -0.000290\n",
            "1211      -0.000290\n",
            "1213      -0.000290\n",
            "             ...   \n",
            "3808174    0.014174\n",
            "3808175    0.014174\n",
            "3808176    0.014174\n",
            "3808177    0.014174\n",
            "3808178    0.014174\n",
            "Name: price_change, Length: 2855958, dtype: float64\n"
          ]
        },
        {
          "output_type": "stream",
          "name": "stderr",
          "text": [
            "\r  0%|          | 372/2856834 [02:38<259:58:04,  3.05it/s]"
          ]
        },
        {
          "output_type": "stream",
          "name": "stdout",
          "text": [
            "price_change 1208      -0.000290\n",
            "1209      -0.000290\n",
            "1210      -0.000290\n",
            "1211      -0.000290\n",
            "1213      -0.000290\n",
            "             ...   \n",
            "3808174    0.014174\n",
            "3808175    0.014174\n",
            "3808176    0.014174\n",
            "3808177    0.014174\n",
            "3808178    0.014174\n",
            "Name: price_change, Length: 2855958, dtype: float64\n"
          ]
        },
        {
          "output_type": "stream",
          "name": "stderr",
          "text": [
            "\r  0%|          | 373/2856834 [02:38<258:45:56,  3.07it/s]"
          ]
        },
        {
          "output_type": "stream",
          "name": "stdout",
          "text": [
            "price_change 1208      -0.000290\n",
            "1209      -0.000290\n",
            "1210      -0.000290\n",
            "1211      -0.000290\n",
            "1213      -0.000290\n",
            "             ...   \n",
            "3808174    0.014174\n",
            "3808175    0.014174\n",
            "3808176    0.014174\n",
            "3808177    0.014174\n",
            "3808178    0.014174\n",
            "Name: price_change, Length: 2855958, dtype: float64\n"
          ]
        },
        {
          "output_type": "stream",
          "name": "stderr",
          "text": [
            "\r  0%|          | 374/2856834 [02:38<254:04:54,  3.12it/s]"
          ]
        },
        {
          "output_type": "stream",
          "name": "stdout",
          "text": [
            "price_change 1208      -0.000290\n",
            "1209      -0.000290\n",
            "1210      -0.000290\n",
            "1211      -0.000290\n",
            "1213      -0.000290\n",
            "             ...   \n",
            "3808174    0.014174\n",
            "3808175    0.014174\n",
            "3808176    0.014174\n",
            "3808177    0.014174\n",
            "3808178    0.014174\n",
            "Name: price_change, Length: 2855958, dtype: float64\n"
          ]
        },
        {
          "output_type": "stream",
          "name": "stderr",
          "text": [
            "\r  0%|          | 375/2856834 [02:39<250:43:21,  3.16it/s]"
          ]
        },
        {
          "output_type": "stream",
          "name": "stdout",
          "text": [
            "price_change 1208      -0.000290\n",
            "1209      -0.000290\n",
            "1210      -0.000290\n",
            "1211      -0.000290\n",
            "1213      -0.000290\n",
            "             ...   \n",
            "3808174    0.014174\n",
            "3808175    0.014174\n",
            "3808176    0.014174\n",
            "3808177    0.014174\n",
            "3808178    0.014174\n",
            "Name: price_change, Length: 2855958, dtype: float64\n"
          ]
        },
        {
          "output_type": "stream",
          "name": "stderr",
          "text": [
            "\r  0%|          | 376/2856834 [02:39<284:11:21,  2.79it/s]"
          ]
        },
        {
          "output_type": "stream",
          "name": "stdout",
          "text": [
            "price_change 1208      -0.000290\n",
            "1209      -0.000290\n",
            "1210      -0.000290\n",
            "1211      -0.000290\n",
            "1213      -0.000290\n",
            "             ...   \n",
            "3808174    0.014174\n",
            "3808175    0.014174\n",
            "3808176    0.014174\n",
            "3808177    0.014174\n",
            "3808178    0.014174\n",
            "Name: price_change, Length: 2855958, dtype: float64\n"
          ]
        },
        {
          "output_type": "stream",
          "name": "stderr",
          "text": [
            "\r  0%|          | 377/2856834 [02:39<306:00:52,  2.59it/s]"
          ]
        },
        {
          "output_type": "stream",
          "name": "stdout",
          "text": [
            "price_change 1208      -0.000290\n",
            "1209      -0.000290\n",
            "1210      -0.000290\n",
            "1211      -0.000290\n",
            "1213      -0.000290\n",
            "             ...   \n",
            "3808174    0.014174\n",
            "3808175    0.014174\n",
            "3808176    0.014174\n",
            "3808177    0.014174\n",
            "3808178    0.014174\n",
            "Name: price_change, Length: 2855958, dtype: float64\n"
          ]
        },
        {
          "output_type": "stream",
          "name": "stderr",
          "text": [
            "\r  0%|          | 378/2856834 [02:40<299:05:03,  2.65it/s]"
          ]
        },
        {
          "output_type": "stream",
          "name": "stdout",
          "text": [
            "price_change 1209      -0.000290\n",
            "1210      -0.000290\n",
            "1211      -0.000290\n",
            "1213      -0.000290\n",
            "1214      -0.000290\n",
            "             ...   \n",
            "3808174    0.014174\n",
            "3808175    0.014174\n",
            "3808176    0.014174\n",
            "3808177    0.014174\n",
            "3808178    0.014174\n",
            "Name: price_change, Length: 2855957, dtype: float64\n"
          ]
        },
        {
          "output_type": "stream",
          "name": "stderr",
          "text": [
            "\r  0%|          | 379/2856834 [02:40<285:56:02,  2.77it/s]"
          ]
        },
        {
          "output_type": "stream",
          "name": "stdout",
          "text": [
            "price_change 1209      -0.000290\n",
            "1210      -0.000290\n",
            "1211      -0.000290\n",
            "1213      -0.000290\n",
            "1214      -0.000290\n",
            "             ...   \n",
            "3808174    0.014174\n",
            "3808175    0.014174\n",
            "3808176    0.014174\n",
            "3808177    0.014174\n",
            "3808178    0.014174\n",
            "Name: price_change, Length: 2855957, dtype: float64\n"
          ]
        },
        {
          "output_type": "stream",
          "name": "stderr",
          "text": [
            "\r  0%|          | 380/2856834 [02:40<274:15:55,  2.89it/s]"
          ]
        },
        {
          "output_type": "stream",
          "name": "stdout",
          "text": [
            "price_change 1209      -0.000290\n",
            "1210      -0.000290\n",
            "1211      -0.000290\n",
            "1213      -0.000290\n",
            "1214      -0.000290\n",
            "             ...   \n",
            "3808174    0.014174\n",
            "3808175    0.014174\n",
            "3808176    0.014174\n",
            "3808177    0.014174\n",
            "3808178    0.014174\n",
            "Name: price_change, Length: 2855957, dtype: float64\n"
          ]
        },
        {
          "output_type": "stream",
          "name": "stderr",
          "text": [
            "\r  0%|          | 381/2856834 [02:41<285:10:29,  2.78it/s]"
          ]
        },
        {
          "output_type": "stream",
          "name": "stdout",
          "text": [
            "price_change 1209      -0.000290\n",
            "1210      -0.000290\n",
            "1211      -0.000290\n",
            "1213      -0.000290\n",
            "1214      -0.000290\n",
            "             ...   \n",
            "3808174    0.014174\n",
            "3808175    0.014174\n",
            "3808176    0.014174\n",
            "3808177    0.014174\n",
            "3808178    0.014174\n",
            "Name: price_change, Length: 2855957, dtype: float64\n"
          ]
        },
        {
          "output_type": "stream",
          "name": "stderr",
          "text": [
            "\r  0%|          | 382/2856834 [02:41<308:25:40,  2.57it/s]"
          ]
        },
        {
          "output_type": "stream",
          "name": "stdout",
          "text": [
            "price_change 1209      -0.000290\n",
            "1210      -0.000290\n",
            "1211      -0.000290\n",
            "1213      -0.000290\n",
            "1214      -0.000290\n",
            "             ...   \n",
            "3808174    0.014174\n",
            "3808175    0.014174\n",
            "3808176    0.014174\n",
            "3808177    0.014174\n",
            "3808178    0.014174\n",
            "Name: price_change, Length: 2855957, dtype: float64\n"
          ]
        },
        {
          "output_type": "stream",
          "name": "stderr",
          "text": [
            "\r  0%|          | 383/2856834 [02:42<323:23:11,  2.45it/s]"
          ]
        },
        {
          "output_type": "stream",
          "name": "stdout",
          "text": [
            "price_change 1209      -0.000290\n",
            "1210      -0.000290\n",
            "1211      -0.000290\n",
            "1213      -0.000290\n",
            "1214      -0.000290\n",
            "             ...   \n",
            "3808174    0.014174\n",
            "3808175    0.014174\n",
            "3808176    0.014174\n",
            "3808177    0.014174\n",
            "3808178    0.014174\n",
            "Name: price_change, Length: 2855957, dtype: float64\n"
          ]
        },
        {
          "output_type": "stream",
          "name": "stderr",
          "text": [
            "\r  0%|          | 384/2856834 [02:42<339:06:18,  2.34it/s]"
          ]
        },
        {
          "output_type": "stream",
          "name": "stdout",
          "text": [
            "price_change 1210      -0.000290\n",
            "1211      -0.000290\n",
            "1213      -0.000290\n",
            "1214      -0.000290\n",
            "1215      -0.000290\n",
            "             ...   \n",
            "3808174    0.014174\n",
            "3808175    0.014174\n",
            "3808176    0.014174\n",
            "3808177    0.014174\n",
            "3808178    0.014174\n",
            "Name: price_change, Length: 2855956, dtype: float64\n"
          ]
        },
        {
          "output_type": "stream",
          "name": "stderr",
          "text": [
            "\r  0%|          | 385/2856834 [02:43<344:03:25,  2.31it/s]"
          ]
        },
        {
          "output_type": "stream",
          "name": "stdout",
          "text": [
            "price_change 1211      -0.000290\n",
            "1213      -0.000290\n",
            "1214      -0.000290\n",
            "1215      -0.000290\n",
            "1216      -0.000290\n",
            "             ...   \n",
            "3808174    0.014174\n",
            "3808175    0.014174\n",
            "3808176    0.014174\n",
            "3808177    0.014174\n",
            "3808178    0.014174\n",
            "Name: price_change, Length: 2855955, dtype: float64\n"
          ]
        },
        {
          "output_type": "stream",
          "name": "stderr",
          "text": [
            "\r  0%|          | 386/2856834 [02:43<352:09:43,  2.25it/s]"
          ]
        },
        {
          "output_type": "stream",
          "name": "stdout",
          "text": [
            "price_change 1211      -0.000290\n",
            "1213      -0.000290\n",
            "1214      -0.000290\n",
            "1215      -0.000290\n",
            "1216      -0.000290\n",
            "             ...   \n",
            "3808174    0.014174\n",
            "3808175    0.014174\n",
            "3808176    0.014174\n",
            "3808177    0.014174\n",
            "3808178    0.014174\n",
            "Name: price_change, Length: 2855955, dtype: float64\n"
          ]
        },
        {
          "output_type": "stream",
          "name": "stderr",
          "text": [
            "\r  0%|          | 387/2856834 [02:44<353:48:50,  2.24it/s]"
          ]
        },
        {
          "output_type": "stream",
          "name": "stdout",
          "text": [
            "price_change 1211      -0.000290\n",
            "1213      -0.000290\n",
            "1214      -0.000290\n",
            "1215      -0.000290\n",
            "1216      -0.000290\n",
            "             ...   \n",
            "3808174    0.014174\n",
            "3808175    0.014174\n",
            "3808176    0.014174\n",
            "3808177    0.014174\n",
            "3808178    0.014174\n",
            "Name: price_change, Length: 2855955, dtype: float64\n"
          ]
        },
        {
          "output_type": "stream",
          "name": "stderr",
          "text": [
            "\r  0%|          | 388/2856834 [02:44<359:55:28,  2.20it/s]"
          ]
        },
        {
          "output_type": "stream",
          "name": "stdout",
          "text": [
            "price_change 1211      -0.000290\n",
            "1213      -0.000290\n",
            "1214      -0.000290\n",
            "1215      -0.000290\n",
            "1216      -0.000290\n",
            "             ...   \n",
            "3808174    0.014174\n",
            "3808175    0.014174\n",
            "3808176    0.014174\n",
            "3808177    0.014174\n",
            "3808178    0.014174\n",
            "Name: price_change, Length: 2855955, dtype: float64\n"
          ]
        },
        {
          "output_type": "stream",
          "name": "stderr",
          "text": [
            "\r  0%|          | 389/2856834 [02:45<359:05:30,  2.21it/s]"
          ]
        },
        {
          "output_type": "stream",
          "name": "stdout",
          "text": [
            "price_change 1211      -0.000290\n",
            "1213      -0.000290\n",
            "1214      -0.000290\n",
            "1215      -0.000290\n",
            "1216      -0.000290\n",
            "             ...   \n",
            "3808174    0.014174\n",
            "3808175    0.014174\n",
            "3808176    0.014174\n",
            "3808177    0.014174\n",
            "3808178    0.014174\n",
            "Name: price_change, Length: 2855955, dtype: float64\n"
          ]
        },
        {
          "output_type": "stream",
          "name": "stderr",
          "text": [
            "\r  0%|          | 390/2856834 [02:45<359:42:34,  2.21it/s]"
          ]
        },
        {
          "output_type": "stream",
          "name": "stdout",
          "text": [
            "price_change 1211      -0.000290\n",
            "1213      -0.000290\n",
            "1214      -0.000290\n",
            "1215      -0.000290\n",
            "1216      -0.000290\n",
            "             ...   \n",
            "3808174    0.014174\n",
            "3808175    0.014174\n",
            "3808176    0.014174\n",
            "3808177    0.014174\n",
            "3808178    0.014174\n",
            "Name: price_change, Length: 2855955, dtype: float64\n"
          ]
        },
        {
          "output_type": "stream",
          "name": "stderr",
          "text": [
            "\r  0%|          | 391/2856834 [02:45<361:16:18,  2.20it/s]"
          ]
        },
        {
          "output_type": "stream",
          "name": "stdout",
          "text": [
            "price_change 1217      -0.000290\n",
            "1218      -0.000290\n",
            "1219      -0.000290\n",
            "1220      -0.000290\n",
            "1221      -0.000290\n",
            "             ...   \n",
            "3808174    0.014174\n",
            "3808175    0.014174\n",
            "3808176    0.014174\n",
            "3808177    0.014174\n",
            "3808178    0.014174\n",
            "Name: price_change, Length: 2855950, dtype: float64\n"
          ]
        },
        {
          "output_type": "stream",
          "name": "stderr",
          "text": [
            "\r  0%|          | 392/2856834 [02:46<351:05:32,  2.26it/s]"
          ]
        },
        {
          "output_type": "stream",
          "name": "stdout",
          "text": [
            "price_change 1218      -0.000290\n",
            "1219      -0.000290\n",
            "1220      -0.000290\n",
            "1221      -0.000290\n",
            "1222      -0.000290\n",
            "             ...   \n",
            "3808174    0.014174\n",
            "3808175    0.014174\n",
            "3808176    0.014174\n",
            "3808177    0.014174\n",
            "3808178    0.014174\n",
            "Name: price_change, Length: 2855949, dtype: float64\n"
          ]
        },
        {
          "output_type": "stream",
          "name": "stderr",
          "text": [
            "\r  0%|          | 393/2856834 [02:46<339:46:06,  2.34it/s]"
          ]
        },
        {
          "output_type": "stream",
          "name": "stdout",
          "text": [
            "price_change 1218      -0.000290\n",
            "1219      -0.000290\n",
            "1220      -0.000290\n",
            "1221      -0.000290\n",
            "1222      -0.000290\n",
            "             ...   \n",
            "3808174    0.014174\n",
            "3808175    0.014174\n",
            "3808176    0.014174\n",
            "3808177    0.014174\n",
            "3808178    0.014174\n",
            "Name: price_change, Length: 2855949, dtype: float64\n"
          ]
        },
        {
          "output_type": "stream",
          "name": "stderr",
          "text": [
            "\r  0%|          | 394/2856834 [02:47<322:55:22,  2.46it/s]"
          ]
        },
        {
          "output_type": "stream",
          "name": "stdout",
          "text": [
            "price_change 1219      -0.000290\n",
            "1220      -0.000290\n",
            "1221      -0.000290\n",
            "1222      -0.000290\n",
            "1223      -0.000290\n",
            "             ...   \n",
            "3808174    0.014174\n",
            "3808175    0.014174\n",
            "3808176    0.014174\n",
            "3808177    0.014174\n",
            "3808178    0.014174\n",
            "Name: price_change, Length: 2855948, dtype: float64\n"
          ]
        },
        {
          "output_type": "stream",
          "name": "stderr",
          "text": [
            "\r  0%|          | 395/2856834 [02:47<311:13:16,  2.55it/s]"
          ]
        },
        {
          "output_type": "stream",
          "name": "stdout",
          "text": [
            "price_change 1220      -0.000290\n",
            "1221      -0.000290\n",
            "1222      -0.000290\n",
            "1223      -0.000290\n",
            "1224      -0.000290\n",
            "             ...   \n",
            "3808174    0.014174\n",
            "3808175    0.014174\n",
            "3808176    0.014174\n",
            "3808177    0.014174\n",
            "3808178    0.014174\n",
            "Name: price_change, Length: 2855947, dtype: float64\n"
          ]
        },
        {
          "output_type": "stream",
          "name": "stderr",
          "text": [
            "\r  0%|          | 396/2856834 [02:47<310:57:39,  2.55it/s]"
          ]
        },
        {
          "output_type": "stream",
          "name": "stdout",
          "text": [
            "price_change 1220      -0.000290\n",
            "1221      -0.000290\n",
            "1222      -0.000290\n",
            "1223      -0.000290\n",
            "1224      -0.000290\n",
            "             ...   \n",
            "3808174    0.014174\n",
            "3808175    0.014174\n",
            "3808176    0.014174\n",
            "3808177    0.014174\n",
            "3808178    0.014174\n",
            "Name: price_change, Length: 2855947, dtype: float64\n"
          ]
        },
        {
          "output_type": "stream",
          "name": "stderr",
          "text": [
            "\r  0%|          | 397/2856834 [02:48<304:03:40,  2.61it/s]"
          ]
        },
        {
          "output_type": "stream",
          "name": "stdout",
          "text": [
            "price_change 1220      -0.000290\n",
            "1221      -0.000290\n",
            "1222      -0.000290\n",
            "1223      -0.000290\n",
            "1224      -0.000290\n",
            "             ...   \n",
            "3808174    0.014174\n",
            "3808175    0.014174\n",
            "3808176    0.014174\n",
            "3808177    0.014174\n",
            "3808178    0.014174\n",
            "Name: price_change, Length: 2855947, dtype: float64\n"
          ]
        },
        {
          "output_type": "stream",
          "name": "stderr",
          "text": [
            "\r  0%|          | 398/2856834 [02:48<312:01:00,  2.54it/s]"
          ]
        },
        {
          "output_type": "stream",
          "name": "stdout",
          "text": [
            "price_change 1220      -0.000290\n",
            "1221      -0.000290\n",
            "1222      -0.000290\n",
            "1223      -0.000290\n",
            "1224      -0.000290\n",
            "             ...   \n",
            "3808174    0.014174\n",
            "3808175    0.014174\n",
            "3808176    0.014174\n",
            "3808177    0.014174\n",
            "3808178    0.014174\n",
            "Name: price_change, Length: 2855947, dtype: float64\n"
          ]
        },
        {
          "output_type": "stream",
          "name": "stderr",
          "text": [
            "\r  0%|          | 399/2856834 [02:48<304:48:44,  2.60it/s]"
          ]
        },
        {
          "output_type": "stream",
          "name": "stdout",
          "text": [
            "price_change 1220      -0.000290\n",
            "1221      -0.000290\n",
            "1222      -0.000290\n",
            "1223      -0.000290\n",
            "1224      -0.000290\n",
            "             ...   \n",
            "3808174    0.014174\n",
            "3808175    0.014174\n",
            "3808176    0.014174\n",
            "3808177    0.014174\n",
            "3808178    0.014174\n",
            "Name: price_change, Length: 2855947, dtype: float64\n"
          ]
        },
        {
          "output_type": "stream",
          "name": "stderr",
          "text": [
            "\r  0%|          | 400/2856834 [02:49<300:31:20,  2.64it/s]"
          ]
        },
        {
          "output_type": "stream",
          "name": "stdout",
          "text": [
            "price_change 1220      -0.000290\n",
            "1221      -0.000290\n",
            "1222      -0.000290\n",
            "1223      -0.000290\n",
            "1224      -0.000290\n",
            "             ...   \n",
            "3808174    0.014174\n",
            "3808175    0.014174\n",
            "3808176    0.014174\n",
            "3808177    0.014174\n",
            "3808178    0.014174\n",
            "Name: price_change, Length: 2855947, dtype: float64\n"
          ]
        },
        {
          "output_type": "stream",
          "name": "stderr",
          "text": [
            "\r  0%|          | 401/2856834 [02:49<298:10:05,  2.66it/s]"
          ]
        },
        {
          "output_type": "stream",
          "name": "stdout",
          "text": [
            "price_change 1220      -0.000287\n",
            "1221      -0.000287\n",
            "1222      -0.000287\n",
            "1223      -0.000287\n",
            "1224      -0.000287\n",
            "             ...   \n",
            "3808174    0.014177\n",
            "3808175    0.014177\n",
            "3808176    0.014177\n",
            "3808177    0.014177\n",
            "3808178    0.014177\n",
            "Name: price_change, Length: 2855947, dtype: float64\n"
          ]
        },
        {
          "output_type": "stream",
          "name": "stderr",
          "text": [
            "\r  0%|          | 402/2856834 [02:50<301:39:15,  2.63it/s]"
          ]
        },
        {
          "output_type": "stream",
          "name": "stdout",
          "text": [
            "price_change 1220      -0.000284\n",
            "1221      -0.000284\n",
            "1222      -0.000284\n",
            "1223      -0.000284\n",
            "1224      -0.000284\n",
            "             ...   \n",
            "3808174    0.014180\n",
            "3808175    0.014180\n",
            "3808176    0.014180\n",
            "3808177    0.014180\n",
            "3808178    0.014180\n",
            "Name: price_change, Length: 2855947, dtype: float64\n"
          ]
        },
        {
          "output_type": "stream",
          "name": "stderr",
          "text": [
            "\r  0%|          | 403/2856834 [02:50<301:51:14,  2.63it/s]"
          ]
        },
        {
          "output_type": "stream",
          "name": "stdout",
          "text": [
            "price_change 1220      -0.000284\n",
            "1221      -0.000284\n",
            "1222      -0.000284\n",
            "1223      -0.000284\n",
            "1224      -0.000284\n",
            "             ...   \n",
            "3808174    0.014180\n",
            "3808175    0.014180\n",
            "3808176    0.014180\n",
            "3808177    0.014180\n",
            "3808178    0.014180\n",
            "Name: price_change, Length: 2855947, dtype: float64\n"
          ]
        },
        {
          "output_type": "stream",
          "name": "stderr",
          "text": [
            "\r  0%|          | 404/2856834 [02:50<300:26:49,  2.64it/s]"
          ]
        },
        {
          "output_type": "stream",
          "name": "stdout",
          "text": [
            "price_change 1220      -0.000284\n",
            "1221      -0.000284\n",
            "1222      -0.000284\n",
            "1223      -0.000284\n",
            "1224      -0.000284\n",
            "             ...   \n",
            "3808174    0.014180\n",
            "3808175    0.014180\n",
            "3808176    0.014180\n",
            "3808177    0.014180\n",
            "3808178    0.014180\n",
            "Name: price_change, Length: 2855947, dtype: float64\n"
          ]
        },
        {
          "output_type": "stream",
          "name": "stderr",
          "text": [
            "\r  0%|          | 405/2856834 [02:51<283:27:13,  2.80it/s]"
          ]
        },
        {
          "output_type": "stream",
          "name": "stdout",
          "text": [
            "price_change 1220      -0.000284\n",
            "1221      -0.000284\n",
            "1222      -0.000284\n",
            "1223      -0.000284\n",
            "1224      -0.000284\n",
            "             ...   \n",
            "3808174    0.014180\n",
            "3808175    0.014180\n",
            "3808176    0.014180\n",
            "3808177    0.014180\n",
            "3808178    0.014180\n",
            "Name: price_change, Length: 2855947, dtype: float64\n"
          ]
        },
        {
          "output_type": "stream",
          "name": "stderr",
          "text": [
            "\r  0%|          | 406/2856834 [02:51<272:21:27,  2.91it/s]"
          ]
        },
        {
          "output_type": "stream",
          "name": "stdout",
          "text": [
            "price_change 1220      -0.000284\n",
            "1221      -0.000284\n",
            "1222      -0.000284\n",
            "1223      -0.000284\n",
            "1224      -0.000284\n",
            "             ...   \n",
            "3808174    0.014180\n",
            "3808175    0.014180\n",
            "3808176    0.014180\n",
            "3808177    0.014180\n",
            "3808178    0.014180\n",
            "Name: price_change, Length: 2855947, dtype: float64\n"
          ]
        },
        {
          "output_type": "stream",
          "name": "stderr",
          "text": [
            "\r  0%|          | 407/2856834 [02:51<264:53:10,  3.00it/s]"
          ]
        },
        {
          "output_type": "stream",
          "name": "stdout",
          "text": [
            "price_change 1220      -0.000284\n",
            "1221      -0.000284\n",
            "1222      -0.000284\n",
            "1223      -0.000284\n",
            "1224      -0.000284\n",
            "             ...   \n",
            "3808174    0.014180\n",
            "3808175    0.014180\n",
            "3808176    0.014180\n",
            "3808177    0.014180\n",
            "3808178    0.014180\n",
            "Name: price_change, Length: 2855947, dtype: float64\n"
          ]
        },
        {
          "output_type": "stream",
          "name": "stderr",
          "text": [
            "\r  0%|          | 408/2856834 [02:52<261:00:32,  3.04it/s]"
          ]
        },
        {
          "output_type": "stream",
          "name": "stdout",
          "text": [
            "price_change 1220      -0.000284\n",
            "1221      -0.000284\n",
            "1222      -0.000284\n",
            "1223      -0.000284\n",
            "1224      -0.000284\n",
            "             ...   \n",
            "3808174    0.014180\n",
            "3808175    0.014180\n",
            "3808176    0.014180\n",
            "3808177    0.014180\n",
            "3808178    0.014180\n",
            "Name: price_change, Length: 2855947, dtype: float64\n"
          ]
        },
        {
          "output_type": "stream",
          "name": "stderr",
          "text": [
            "\r  0%|          | 409/2856834 [02:52<257:38:15,  3.08it/s]"
          ]
        },
        {
          "output_type": "stream",
          "name": "stdout",
          "text": [
            "price_change 1220      -0.000284\n",
            "1221      -0.000284\n",
            "1222      -0.000284\n",
            "1223      -0.000284\n",
            "1224      -0.000284\n",
            "             ...   \n",
            "3808174    0.014180\n",
            "3808175    0.014180\n",
            "3808176    0.014180\n",
            "3808177    0.014180\n",
            "3808178    0.014180\n",
            "Name: price_change, Length: 2855947, dtype: float64\n"
          ]
        },
        {
          "output_type": "stream",
          "name": "stderr",
          "text": [
            "\r  0%|          | 410/2856834 [02:52<256:07:51,  3.10it/s]"
          ]
        },
        {
          "output_type": "stream",
          "name": "stdout",
          "text": [
            "price_change 1220      -0.000284\n",
            "1221      -0.000284\n",
            "1222      -0.000284\n",
            "1223      -0.000284\n",
            "1224      -0.000284\n",
            "             ...   \n",
            "3808174    0.014180\n",
            "3808175    0.014180\n",
            "3808176    0.014180\n",
            "3808177    0.014180\n",
            "3808178    0.014180\n",
            "Name: price_change, Length: 2855947, dtype: float64\n"
          ]
        },
        {
          "output_type": "stream",
          "name": "stderr",
          "text": [
            "\r  0%|          | 411/2856834 [02:53<254:50:16,  3.11it/s]"
          ]
        },
        {
          "output_type": "stream",
          "name": "stdout",
          "text": [
            "price_change 1220      -0.000284\n",
            "1221      -0.000284\n",
            "1222      -0.000284\n",
            "1223      -0.000284\n",
            "1224      -0.000284\n",
            "             ...   \n",
            "3808174    0.014180\n",
            "3808175    0.014180\n",
            "3808176    0.014180\n",
            "3808177    0.014180\n",
            "3808178    0.014180\n",
            "Name: price_change, Length: 2855947, dtype: float64\n"
          ]
        },
        {
          "output_type": "stream",
          "name": "stderr",
          "text": [
            "\r  0%|          | 412/2856834 [02:53<254:36:39,  3.12it/s]"
          ]
        },
        {
          "output_type": "stream",
          "name": "stdout",
          "text": [
            "price_change 1220      -0.000284\n",
            "1221      -0.000284\n",
            "1222      -0.000284\n",
            "1223      -0.000284\n",
            "1224      -0.000284\n",
            "             ...   \n",
            "3808174    0.014180\n",
            "3808175    0.014180\n",
            "3808176    0.014180\n",
            "3808177    0.014180\n",
            "3808178    0.014180\n",
            "Name: price_change, Length: 2855947, dtype: float64\n"
          ]
        },
        {
          "output_type": "stream",
          "name": "stderr",
          "text": [
            "\r  0%|          | 413/2856834 [02:53<288:13:49,  2.75it/s]"
          ]
        },
        {
          "output_type": "stream",
          "name": "stdout",
          "text": [
            "price_change 1220      -0.000284\n",
            "1221      -0.000284\n",
            "1222      -0.000284\n",
            "1223      -0.000284\n",
            "1224      -0.000284\n",
            "             ...   \n",
            "3808174    0.014180\n",
            "3808175    0.014180\n",
            "3808176    0.014180\n",
            "3808177    0.014180\n",
            "3808178    0.014180\n",
            "Name: price_change, Length: 2855947, dtype: float64\n"
          ]
        },
        {
          "output_type": "stream",
          "name": "stderr",
          "text": [
            "\r  0%|          | 414/2856834 [02:54<308:47:13,  2.57it/s]"
          ]
        },
        {
          "output_type": "stream",
          "name": "stdout",
          "text": [
            "price_change 1220      -0.000284\n",
            "1221      -0.000284\n",
            "1222      -0.000284\n",
            "1223      -0.000284\n",
            "1224      -0.000284\n",
            "             ...   \n",
            "3808174    0.014180\n",
            "3808175    0.014180\n",
            "3808176    0.014180\n",
            "3808177    0.014180\n",
            "3808178    0.014180\n",
            "Name: price_change, Length: 2855947, dtype: float64\n"
          ]
        },
        {
          "output_type": "stream",
          "name": "stderr",
          "text": [
            "\r  0%|          | 415/2856834 [02:54<304:54:42,  2.60it/s]"
          ]
        },
        {
          "output_type": "stream",
          "name": "stdout",
          "text": [
            "price_change 1220      -0.000284\n",
            "1221      -0.000284\n",
            "1222      -0.000284\n",
            "1223      -0.000284\n",
            "1224      -0.000284\n",
            "             ...   \n",
            "3808174    0.014180\n",
            "3808175    0.014180\n",
            "3808176    0.014180\n",
            "3808177    0.014180\n",
            "3808178    0.014180\n",
            "Name: price_change, Length: 2855947, dtype: float64\n"
          ]
        },
        {
          "output_type": "stream",
          "name": "stderr",
          "text": [
            "\r  0%|          | 416/2856834 [02:54<290:48:51,  2.73it/s]"
          ]
        },
        {
          "output_type": "stream",
          "name": "stdout",
          "text": [
            "price_change 1220      -0.000284\n",
            "1221      -0.000284\n",
            "1222      -0.000284\n",
            "1223      -0.000284\n",
            "1224      -0.000284\n",
            "             ...   \n",
            "3808174    0.014180\n",
            "3808175    0.014180\n",
            "3808176    0.014180\n",
            "3808177    0.014180\n",
            "3808178    0.014180\n",
            "Name: price_change, Length: 2855947, dtype: float64\n"
          ]
        },
        {
          "output_type": "stream",
          "name": "stderr",
          "text": [
            "\r  0%|          | 417/2856834 [02:55<277:16:03,  2.86it/s]"
          ]
        },
        {
          "output_type": "stream",
          "name": "stdout",
          "text": [
            "price_change 1220      -0.000265\n",
            "1221      -0.000265\n",
            "1222      -0.000265\n",
            "1223      -0.000265\n",
            "1224      -0.000265\n",
            "             ...   \n",
            "3808174    0.014199\n",
            "3808175    0.014199\n",
            "3808176    0.014199\n",
            "3808177    0.014199\n",
            "3808178    0.014199\n",
            "Name: price_change, Length: 2855947, dtype: float64\n"
          ]
        },
        {
          "output_type": "stream",
          "name": "stderr",
          "text": [
            "\r  0%|          | 418/2856834 [02:55<268:43:24,  2.95it/s]"
          ]
        },
        {
          "output_type": "stream",
          "name": "stdout",
          "text": [
            "price_change 1220      -0.000265\n",
            "1221      -0.000265\n",
            "1222      -0.000265\n",
            "1223      -0.000265\n",
            "1224      -0.000265\n",
            "             ...   \n",
            "3808174    0.014199\n",
            "3808175    0.014199\n",
            "3808176    0.014199\n",
            "3808177    0.014199\n",
            "3808178    0.014199\n",
            "Name: price_change, Length: 2855947, dtype: float64\n"
          ]
        },
        {
          "output_type": "stream",
          "name": "stderr",
          "text": [
            "\r  0%|          | 419/2856834 [02:55<263:05:24,  3.02it/s]"
          ]
        },
        {
          "output_type": "stream",
          "name": "stdout",
          "text": [
            "price_change 1220      -0.000265\n",
            "1221      -0.000265\n",
            "1222      -0.000265\n",
            "1223      -0.000265\n",
            "1224      -0.000265\n",
            "             ...   \n",
            "3808174    0.014199\n",
            "3808175    0.014199\n",
            "3808176    0.014199\n",
            "3808177    0.014199\n",
            "3808178    0.014199\n",
            "Name: price_change, Length: 2855947, dtype: float64\n"
          ]
        },
        {
          "output_type": "stream",
          "name": "stderr",
          "text": [
            "\r  0%|          | 420/2856834 [02:56<255:51:29,  3.10it/s]"
          ]
        },
        {
          "output_type": "stream",
          "name": "stdout",
          "text": [
            "price_change 1220      -0.000265\n",
            "1221      -0.000265\n",
            "1222      -0.000265\n",
            "1223      -0.000265\n",
            "1224      -0.000265\n",
            "             ...   \n",
            "3808174    0.014199\n",
            "3808175    0.014199\n",
            "3808176    0.014199\n",
            "3808177    0.014199\n",
            "3808178    0.014199\n",
            "Name: price_change, Length: 2855947, dtype: float64\n"
          ]
        },
        {
          "output_type": "stream",
          "name": "stderr",
          "text": [
            "\r  0%|          | 421/2856834 [02:56<254:47:45,  3.11it/s]"
          ]
        },
        {
          "output_type": "stream",
          "name": "stdout",
          "text": [
            "price_change 1220      -0.000265\n",
            "1221      -0.000265\n",
            "1222      -0.000265\n",
            "1223      -0.000265\n",
            "1224      -0.000265\n",
            "             ...   \n",
            "3808174    0.014199\n",
            "3808175    0.014199\n",
            "3808176    0.014199\n",
            "3808177    0.014199\n",
            "3808178    0.014199\n",
            "Name: price_change, Length: 2855947, dtype: float64\n"
          ]
        },
        {
          "output_type": "stream",
          "name": "stderr",
          "text": [
            "\r  0%|          | 422/2856834 [02:56<251:45:15,  3.15it/s]"
          ]
        },
        {
          "output_type": "stream",
          "name": "stdout",
          "text": [
            "price_change 1220      -0.000265\n",
            "1221      -0.000265\n",
            "1222      -0.000265\n",
            "1223      -0.000265\n",
            "1224      -0.000265\n",
            "             ...   \n",
            "3808174    0.014199\n",
            "3808175    0.014199\n",
            "3808176    0.014199\n",
            "3808177    0.014199\n",
            "3808178    0.014199\n",
            "Name: price_change, Length: 2855947, dtype: float64\n"
          ]
        },
        {
          "output_type": "stream",
          "name": "stderr",
          "text": [
            "\r  0%|          | 423/2856834 [02:57<252:59:29,  3.14it/s]"
          ]
        },
        {
          "output_type": "stream",
          "name": "stdout",
          "text": [
            "price_change 1220      -0.000265\n",
            "1221      -0.000265\n",
            "1222      -0.000265\n",
            "1223      -0.000265\n",
            "1224      -0.000265\n",
            "             ...   \n",
            "3808174    0.014199\n",
            "3808175    0.014199\n",
            "3808176    0.014199\n",
            "3808177    0.014199\n",
            "3808178    0.014199\n",
            "Name: price_change, Length: 2855947, dtype: float64\n"
          ]
        },
        {
          "output_type": "stream",
          "name": "stderr",
          "text": [
            "\r  0%|          | 424/2856834 [02:57<251:52:20,  3.15it/s]"
          ]
        },
        {
          "output_type": "stream",
          "name": "stdout",
          "text": [
            "price_change 1220      -0.000265\n",
            "1221      -0.000265\n",
            "1222      -0.000265\n",
            "1223      -0.000265\n",
            "1224      -0.000265\n",
            "             ...   \n",
            "3808174    0.014199\n",
            "3808175    0.014199\n",
            "3808176    0.014199\n",
            "3808177    0.014199\n",
            "3808178    0.014199\n",
            "Name: price_change, Length: 2855947, dtype: float64\n"
          ]
        },
        {
          "output_type": "stream",
          "name": "stderr",
          "text": [
            "\r  0%|          | 425/2856834 [02:57<288:21:13,  2.75it/s]"
          ]
        },
        {
          "output_type": "stream",
          "name": "stdout",
          "text": [
            "price_change 1220      -0.000265\n",
            "1221      -0.000265\n",
            "1222      -0.000265\n",
            "1223      -0.000265\n",
            "1224      -0.000265\n",
            "             ...   \n",
            "3808174    0.014199\n",
            "3808175    0.014199\n",
            "3808176    0.014199\n",
            "3808177    0.014199\n",
            "3808178    0.014199\n",
            "Name: price_change, Length: 2855947, dtype: float64\n"
          ]
        },
        {
          "output_type": "stream",
          "name": "stderr",
          "text": [
            "\r  0%|          | 426/2856834 [02:58<310:46:29,  2.55it/s]"
          ]
        },
        {
          "output_type": "stream",
          "name": "stdout",
          "text": [
            "price_change 1220      -0.000265\n",
            "1221      -0.000265\n",
            "1222      -0.000265\n",
            "1223      -0.000265\n",
            "1224      -0.000265\n",
            "             ...   \n",
            "3808174    0.014199\n",
            "3808175    0.014199\n",
            "3808176    0.014199\n",
            "3808177    0.014199\n",
            "3808178    0.014199\n",
            "Name: price_change, Length: 2855947, dtype: float64\n"
          ]
        },
        {
          "output_type": "stream",
          "name": "stderr",
          "text": [
            "\r  0%|          | 427/2856834 [02:58<304:52:32,  2.60it/s]"
          ]
        },
        {
          "output_type": "stream",
          "name": "stdout",
          "text": [
            "price_change 1220      -0.000265\n",
            "1221      -0.000265\n",
            "1222      -0.000265\n",
            "1223      -0.000265\n",
            "1224      -0.000265\n",
            "             ...   \n",
            "3808174    0.014199\n",
            "3808175    0.014199\n",
            "3808176    0.014199\n",
            "3808177    0.014199\n",
            "3808178    0.014199\n",
            "Name: price_change, Length: 2855947, dtype: float64\n"
          ]
        },
        {
          "output_type": "stream",
          "name": "stderr",
          "text": [
            "\r  0%|          | 428/2856834 [02:59<290:16:17,  2.73it/s]"
          ]
        },
        {
          "output_type": "stream",
          "name": "stdout",
          "text": [
            "price_change 1220      -0.000265\n",
            "1221      -0.000265\n",
            "1222      -0.000265\n",
            "1223      -0.000265\n",
            "1224      -0.000265\n",
            "             ...   \n",
            "3808174    0.014199\n",
            "3808175    0.014199\n",
            "3808176    0.014199\n",
            "3808177    0.014199\n",
            "3808178    0.014199\n",
            "Name: price_change, Length: 2855947, dtype: float64\n"
          ]
        },
        {
          "output_type": "stream",
          "name": "stderr",
          "text": [
            "\r  0%|          | 429/2856834 [02:59<279:09:01,  2.84it/s]"
          ]
        },
        {
          "output_type": "stream",
          "name": "stdout",
          "text": [
            "price_change 1220      -0.000265\n",
            "1221      -0.000265\n",
            "1222      -0.000265\n",
            "1223      -0.000265\n",
            "1224      -0.000265\n",
            "             ...   \n",
            "3808174    0.014199\n",
            "3808175    0.014199\n",
            "3808176    0.014199\n",
            "3808177    0.014199\n",
            "3808178    0.014199\n",
            "Name: price_change, Length: 2855947, dtype: float64\n"
          ]
        },
        {
          "output_type": "stream",
          "name": "stderr",
          "text": [
            "\r  0%|          | 430/2856834 [02:59<269:17:38,  2.95it/s]"
          ]
        },
        {
          "output_type": "stream",
          "name": "stdout",
          "text": [
            "price_change 1220      -0.000265\n",
            "1221      -0.000265\n",
            "1222      -0.000265\n",
            "1223      -0.000265\n",
            "1224      -0.000265\n",
            "             ...   \n",
            "3808174    0.014199\n",
            "3808175    0.014199\n",
            "3808176    0.014199\n",
            "3808177    0.014199\n",
            "3808178    0.014199\n",
            "Name: price_change, Length: 2855947, dtype: float64\n"
          ]
        },
        {
          "output_type": "stream",
          "name": "stderr",
          "text": [
            "\r  0%|          | 431/2856834 [03:00<262:52:30,  3.02it/s]"
          ]
        },
        {
          "output_type": "stream",
          "name": "stdout",
          "text": [
            "price_change 1221      -0.000265\n",
            "1222      -0.000265\n",
            "1223      -0.000265\n",
            "1224      -0.000265\n",
            "1225      -0.000265\n",
            "             ...   \n",
            "3808174    0.014199\n",
            "3808175    0.014199\n",
            "3808176    0.014199\n",
            "3808177    0.014199\n",
            "3808178    0.014199\n",
            "Name: price_change, Length: 2855946, dtype: float64\n"
          ]
        },
        {
          "output_type": "stream",
          "name": "stderr",
          "text": [
            "\r  0%|          | 432/2856834 [03:00<258:27:52,  3.07it/s]"
          ]
        },
        {
          "output_type": "stream",
          "name": "stdout",
          "text": [
            "price_change 1221      -0.000265\n",
            "1222      -0.000265\n",
            "1223      -0.000265\n",
            "1224      -0.000265\n",
            "1225      -0.000265\n",
            "             ...   \n",
            "3808174    0.014199\n",
            "3808175    0.014199\n",
            "3808176    0.014199\n",
            "3808177    0.014199\n",
            "3808178    0.014199\n",
            "Name: price_change, Length: 2855946, dtype: float64\n"
          ]
        },
        {
          "output_type": "stream",
          "name": "stderr",
          "text": [
            "\r  0%|          | 433/2856834 [03:00<267:28:39,  2.97it/s]"
          ]
        },
        {
          "output_type": "stream",
          "name": "stdout",
          "text": [
            "price_change 1221      -0.000265\n",
            "1222      -0.000265\n",
            "1223      -0.000265\n",
            "1224      -0.000265\n",
            "1225      -0.000265\n",
            "             ...   \n",
            "3808174    0.014199\n",
            "3808175    0.014199\n",
            "3808176    0.014199\n",
            "3808177    0.014199\n",
            "3808178    0.014199\n",
            "Name: price_change, Length: 2855946, dtype: float64\n"
          ]
        },
        {
          "output_type": "stream",
          "name": "stderr",
          "text": [
            "\r  0%|          | 434/2856834 [03:01<312:53:32,  2.54it/s]"
          ]
        },
        {
          "output_type": "stream",
          "name": "stdout",
          "text": [
            "price_change 1221      -0.000265\n",
            "1222      -0.000265\n",
            "1223      -0.000265\n",
            "1224      -0.000265\n",
            "1225      -0.000265\n",
            "             ...   \n",
            "3808174    0.014199\n",
            "3808175    0.014199\n",
            "3808176    0.014199\n",
            "3808177    0.014199\n",
            "3808178    0.014199\n",
            "Name: price_change, Length: 2855946, dtype: float64\n"
          ]
        },
        {
          "output_type": "stream",
          "name": "stderr",
          "text": [
            "\r  0%|          | 435/2856834 [03:01<327:42:58,  2.42it/s]"
          ]
        },
        {
          "output_type": "stream",
          "name": "stdout",
          "text": [
            "price_change 1221      -0.000265\n",
            "1222      -0.000265\n",
            "1223      -0.000265\n",
            "1224      -0.000265\n",
            "1225      -0.000265\n",
            "             ...   \n",
            "3808174    0.014199\n",
            "3808175    0.014199\n",
            "3808176    0.014199\n",
            "3808177    0.014199\n",
            "3808178    0.014199\n",
            "Name: price_change, Length: 2855946, dtype: float64\n"
          ]
        },
        {
          "output_type": "stream",
          "name": "stderr",
          "text": [
            "\r  0%|          | 436/2856834 [03:02<316:35:47,  2.51it/s]"
          ]
        },
        {
          "output_type": "stream",
          "name": "stdout",
          "text": [
            "price_change 1221      -0.000265\n",
            "1222      -0.000265\n",
            "1223      -0.000265\n",
            "1224      -0.000265\n",
            "1225      -0.000265\n",
            "             ...   \n",
            "3808174    0.014199\n",
            "3808175    0.014199\n",
            "3808176    0.014199\n",
            "3808177    0.014199\n",
            "3808178    0.014199\n",
            "Name: price_change, Length: 2855946, dtype: float64\n"
          ]
        },
        {
          "output_type": "stream",
          "name": "stderr",
          "text": [
            "\r  0%|          | 437/2856834 [03:02<309:27:45,  2.56it/s]"
          ]
        },
        {
          "output_type": "stream",
          "name": "stdout",
          "text": [
            "price_change 1221      -0.000265\n",
            "1222      -0.000265\n",
            "1223      -0.000265\n",
            "1224      -0.000265\n",
            "1225      -0.000265\n",
            "             ...   \n",
            "3808174    0.014199\n",
            "3808175    0.014199\n",
            "3808176    0.014199\n",
            "3808177    0.014199\n",
            "3808178    0.014199\n",
            "Name: price_change, Length: 2855946, dtype: float64\n"
          ]
        },
        {
          "output_type": "stream",
          "name": "stderr",
          "text": [
            "\r  0%|          | 438/2856834 [03:02<323:40:33,  2.45it/s]"
          ]
        },
        {
          "output_type": "stream",
          "name": "stdout",
          "text": [
            "price_change 1222      -0.000265\n",
            "1223      -0.000265\n",
            "1224      -0.000265\n",
            "1225      -0.000265\n",
            "1226      -0.000265\n",
            "             ...   \n",
            "3808174    0.014199\n",
            "3808175    0.014199\n",
            "3808176    0.014199\n",
            "3808177    0.014199\n",
            "3808178    0.014199\n",
            "Name: price_change, Length: 2855945, dtype: float64\n"
          ]
        },
        {
          "output_type": "stream",
          "name": "stderr",
          "text": [
            "\r  0%|          | 439/2856834 [03:03<349:44:08,  2.27it/s]"
          ]
        },
        {
          "output_type": "stream",
          "name": "stdout",
          "text": [
            "price_change 1223      -0.000265\n",
            "1224      -0.000265\n",
            "1225      -0.000265\n",
            "1226      -0.000265\n",
            "1227      -0.000265\n",
            "             ...   \n",
            "3808174    0.014199\n",
            "3808175    0.014199\n",
            "3808176    0.014199\n",
            "3808177    0.014199\n",
            "3808178    0.014199\n",
            "Name: price_change, Length: 2855944, dtype: float64\n"
          ]
        },
        {
          "output_type": "stream",
          "name": "stderr",
          "text": [
            "\r  0%|          | 440/2856834 [03:03<345:32:54,  2.30it/s]"
          ]
        },
        {
          "output_type": "stream",
          "name": "stdout",
          "text": [
            "price_change 1223      -0.000265\n",
            "1224      -0.000265\n",
            "1225      -0.000265\n",
            "1226      -0.000265\n",
            "1227      -0.000265\n",
            "             ...   \n",
            "3808174    0.014199\n",
            "3808175    0.014199\n",
            "3808176    0.014199\n",
            "3808177    0.014199\n",
            "3808178    0.014199\n",
            "Name: price_change, Length: 2855944, dtype: float64\n"
          ]
        },
        {
          "output_type": "stream",
          "name": "stderr",
          "text": [
            "\r  0%|          | 441/2856834 [03:04<326:15:12,  2.43it/s]"
          ]
        },
        {
          "output_type": "stream",
          "name": "stdout",
          "text": [
            "price_change 1223      -0.000265\n",
            "1224      -0.000265\n",
            "1225      -0.000265\n",
            "1226      -0.000265\n",
            "1227      -0.000265\n",
            "             ...   \n",
            "3808174    0.014199\n",
            "3808175    0.014199\n",
            "3808176    0.014199\n",
            "3808177    0.014199\n",
            "3808178    0.014199\n",
            "Name: price_change, Length: 2855944, dtype: float64\n"
          ]
        },
        {
          "output_type": "stream",
          "name": "stderr",
          "text": [
            "\r  0%|          | 442/2856834 [03:04<314:00:07,  2.53it/s]"
          ]
        },
        {
          "output_type": "stream",
          "name": "stdout",
          "text": [
            "price_change 1223      -0.000265\n",
            "1224      -0.000265\n",
            "1225      -0.000265\n",
            "1226      -0.000265\n",
            "1227      -0.000265\n",
            "             ...   \n",
            "3808174    0.014199\n",
            "3808175    0.014199\n",
            "3808176    0.014199\n",
            "3808177    0.014199\n",
            "3808178    0.014199\n",
            "Name: price_change, Length: 2855944, dtype: float64\n"
          ]
        },
        {
          "output_type": "stream",
          "name": "stderr",
          "text": [
            "\r  0%|          | 443/2856834 [03:04<306:39:16,  2.59it/s]"
          ]
        },
        {
          "output_type": "stream",
          "name": "stdout",
          "text": [
            "price_change 1223      -0.000265\n",
            "1224      -0.000265\n",
            "1225      -0.000265\n",
            "1226      -0.000265\n",
            "1227      -0.000265\n",
            "             ...   \n",
            "3808174    0.014199\n",
            "3808175    0.014199\n",
            "3808176    0.014199\n",
            "3808177    0.014199\n",
            "3808178    0.014199\n",
            "Name: price_change, Length: 2855944, dtype: float64\n"
          ]
        },
        {
          "output_type": "stream",
          "name": "stderr",
          "text": [
            "\r  0%|          | 444/2856834 [03:05<303:36:37,  2.61it/s]"
          ]
        },
        {
          "output_type": "stream",
          "name": "stdout",
          "text": [
            "price_change 1223      -0.000265\n",
            "1224      -0.000265\n",
            "1225      -0.000265\n",
            "1226      -0.000265\n",
            "1227      -0.000265\n",
            "             ...   \n",
            "3808174    0.014199\n",
            "3808175    0.014199\n",
            "3808176    0.014199\n",
            "3808177    0.014199\n",
            "3808178    0.014199\n",
            "Name: price_change, Length: 2855944, dtype: float64\n"
          ]
        },
        {
          "output_type": "stream",
          "name": "stderr",
          "text": [
            "\r  0%|          | 445/2856834 [03:05<290:41:40,  2.73it/s]"
          ]
        },
        {
          "output_type": "stream",
          "name": "stdout",
          "text": [
            "price_change 1223      -0.000265\n",
            "1224      -0.000265\n",
            "1225      -0.000265\n",
            "1226      -0.000265\n",
            "1227      -0.000265\n",
            "             ...   \n",
            "3808174    0.014199\n",
            "3808175    0.014199\n",
            "3808176    0.014199\n",
            "3808177    0.014199\n",
            "3808178    0.014199\n",
            "Name: price_change, Length: 2855944, dtype: float64\n"
          ]
        },
        {
          "output_type": "stream",
          "name": "stderr",
          "text": [
            "\r  0%|          | 446/2856834 [03:06<307:31:26,  2.58it/s]"
          ]
        },
        {
          "output_type": "stream",
          "name": "stdout",
          "text": [
            "price_change 1223      -0.000265\n",
            "1224      -0.000265\n",
            "1225      -0.000265\n",
            "1226      -0.000265\n",
            "1227      -0.000265\n",
            "             ...   \n",
            "3808174    0.014199\n",
            "3808175    0.014199\n",
            "3808176    0.014199\n",
            "3808177    0.014199\n",
            "3808178    0.014199\n",
            "Name: price_change, Length: 2855944, dtype: float64\n"
          ]
        },
        {
          "output_type": "stream",
          "name": "stderr",
          "text": [
            "\r  0%|          | 447/2856834 [03:06<324:42:15,  2.44it/s]"
          ]
        },
        {
          "output_type": "stream",
          "name": "stdout",
          "text": [
            "price_change 1223      -0.000253\n",
            "1224      -0.000253\n",
            "1225      -0.000253\n",
            "1226      -0.000253\n",
            "1227      -0.000253\n",
            "             ...   \n",
            "3808174    0.014211\n",
            "3808175    0.014211\n",
            "3808176    0.014211\n",
            "3808177    0.014211\n",
            "3808178    0.014211\n",
            "Name: price_change, Length: 2855944, dtype: float64\n"
          ]
        },
        {
          "output_type": "stream",
          "name": "stderr",
          "text": [
            "\r  0%|          | 448/2856834 [03:06<316:23:27,  2.51it/s]"
          ]
        },
        {
          "output_type": "stream",
          "name": "stdout",
          "text": [
            "price_change 1223      -0.000253\n",
            "1224      -0.000253\n",
            "1225      -0.000253\n",
            "1226      -0.000253\n",
            "1227      -0.000253\n",
            "             ...   \n",
            "3808174    0.014211\n",
            "3808175    0.014211\n",
            "3808176    0.014211\n",
            "3808177    0.014211\n",
            "3808178    0.014211\n",
            "Name: price_change, Length: 2855944, dtype: float64\n"
          ]
        },
        {
          "output_type": "stream",
          "name": "stderr",
          "text": [
            "\r  0%|          | 449/2856834 [03:07<300:58:28,  2.64it/s]"
          ]
        },
        {
          "output_type": "stream",
          "name": "stdout",
          "text": [
            "price_change 1223      -0.000253\n",
            "1224      -0.000253\n",
            "1225      -0.000253\n",
            "1226      -0.000253\n",
            "1227      -0.000253\n",
            "             ...   \n",
            "3808174    0.014211\n",
            "3808175    0.014211\n",
            "3808176    0.014211\n",
            "3808177    0.014211\n",
            "3808178    0.014211\n",
            "Name: price_change, Length: 2855944, dtype: float64\n"
          ]
        },
        {
          "output_type": "stream",
          "name": "stderr",
          "text": [
            "\r  0%|          | 450/2856834 [03:07<286:07:58,  2.77it/s]"
          ]
        },
        {
          "output_type": "stream",
          "name": "stdout",
          "text": [
            "price_change 1223      -0.000253\n",
            "1224      -0.000253\n",
            "1225      -0.000253\n",
            "1226      -0.000253\n",
            "1227      -0.000253\n",
            "             ...   \n",
            "3808174    0.014211\n",
            "3808175    0.014211\n",
            "3808176    0.014211\n",
            "3808177    0.014211\n",
            "3808178    0.014211\n",
            "Name: price_change, Length: 2855944, dtype: float64\n"
          ]
        },
        {
          "output_type": "stream",
          "name": "stderr",
          "text": [
            "\r  0%|          | 451/2856834 [03:07<290:33:43,  2.73it/s]"
          ]
        },
        {
          "output_type": "stream",
          "name": "stdout",
          "text": [
            "price_change 1223      -0.000253\n",
            "1224      -0.000253\n",
            "1225      -0.000253\n",
            "1226      -0.000253\n",
            "1227      -0.000253\n",
            "             ...   \n",
            "3808174    0.014211\n",
            "3808175    0.014211\n",
            "3808176    0.014211\n",
            "3808177    0.014211\n",
            "3808178    0.014211\n",
            "Name: price_change, Length: 2855944, dtype: float64\n"
          ]
        },
        {
          "output_type": "stream",
          "name": "stderr",
          "text": [
            "\r  0%|          | 452/2856834 [03:08<313:26:18,  2.53it/s]"
          ]
        },
        {
          "output_type": "stream",
          "name": "stdout",
          "text": [
            "price_change 1223      -0.000253\n",
            "1224      -0.000253\n",
            "1225      -0.000253\n",
            "1226      -0.000253\n",
            "1227      -0.000253\n",
            "             ...   \n",
            "3808174    0.014211\n",
            "3808175    0.014211\n",
            "3808176    0.014211\n",
            "3808177    0.014211\n",
            "3808178    0.014211\n",
            "Name: price_change, Length: 2855944, dtype: float64\n"
          ]
        },
        {
          "output_type": "stream",
          "name": "stderr",
          "text": [
            "\r  0%|          | 453/2856834 [03:08<326:09:43,  2.43it/s]"
          ]
        },
        {
          "output_type": "stream",
          "name": "stdout",
          "text": [
            "price_change 1224      -0.000253\n",
            "1225      -0.000253\n",
            "1226      -0.000253\n",
            "1227      -0.000253\n",
            "1228      -0.000253\n",
            "             ...   \n",
            "3808174    0.014211\n",
            "3808175    0.014211\n",
            "3808176    0.014211\n",
            "3808177    0.014211\n",
            "3808178    0.014211\n",
            "Name: price_change, Length: 2855943, dtype: float64\n"
          ]
        },
        {
          "output_type": "stream",
          "name": "stderr",
          "text": [
            "\r  0%|          | 454/2856834 [03:09<305:51:40,  2.59it/s]"
          ]
        },
        {
          "output_type": "stream",
          "name": "stdout",
          "text": [
            "price_change 1224      -0.000253\n",
            "1225      -0.000253\n",
            "1226      -0.000253\n",
            "1227      -0.000253\n",
            "1228      -0.000253\n",
            "             ...   \n",
            "3808174    0.014211\n",
            "3808175    0.014211\n",
            "3808176    0.014211\n",
            "3808177    0.014211\n",
            "3808178    0.014211\n",
            "Name: price_change, Length: 2855943, dtype: float64\n"
          ]
        },
        {
          "output_type": "stream",
          "name": "stderr",
          "text": [
            "\r  0%|          | 455/2856834 [03:09<291:15:04,  2.72it/s]"
          ]
        },
        {
          "output_type": "stream",
          "name": "stdout",
          "text": [
            "price_change 1224      -0.000253\n",
            "1225      -0.000253\n",
            "1226      -0.000253\n",
            "1227      -0.000253\n",
            "1228      -0.000253\n",
            "             ...   \n",
            "3808174    0.014211\n",
            "3808175    0.014211\n",
            "3808176    0.014211\n",
            "3808177    0.014211\n",
            "3808178    0.014211\n",
            "Name: price_change, Length: 2855943, dtype: float64\n"
          ]
        },
        {
          "output_type": "stream",
          "name": "stderr",
          "text": [
            "\r  0%|          | 456/2856834 [03:09<279:05:38,  2.84it/s]"
          ]
        },
        {
          "output_type": "stream",
          "name": "stdout",
          "text": [
            "price_change 1224      -0.000253\n",
            "1225      -0.000253\n",
            "1226      -0.000253\n",
            "1227      -0.000253\n",
            "1228      -0.000253\n",
            "             ...   \n",
            "3808174    0.014211\n",
            "3808175    0.014211\n",
            "3808176    0.014211\n",
            "3808177    0.014211\n",
            "3808178    0.014211\n",
            "Name: price_change, Length: 2855943, dtype: float64\n"
          ]
        },
        {
          "output_type": "stream",
          "name": "stderr",
          "text": [
            "\r  0%|          | 457/2856834 [03:10<303:53:36,  2.61it/s]"
          ]
        },
        {
          "output_type": "stream",
          "name": "stdout",
          "text": [
            "price_change 1224      -0.000253\n",
            "1225      -0.000253\n",
            "1226      -0.000253\n",
            "1227      -0.000253\n",
            "1228      -0.000253\n",
            "             ...   \n",
            "3808174    0.014211\n",
            "3808175    0.014211\n",
            "3808176    0.014211\n",
            "3808177    0.014211\n",
            "3808178    0.014211\n",
            "Name: price_change, Length: 2855943, dtype: float64\n"
          ]
        },
        {
          "output_type": "stream",
          "name": "stderr",
          "text": [
            "\r  0%|          | 458/2856834 [03:10<324:27:14,  2.45it/s]"
          ]
        },
        {
          "output_type": "stream",
          "name": "stdout",
          "text": [
            "price_change 1224      -0.000253\n",
            "1225      -0.000253\n",
            "1226      -0.000253\n",
            "1227      -0.000253\n",
            "1228      -0.000253\n",
            "             ...   \n",
            "3808174    0.014211\n",
            "3808175    0.014211\n",
            "3808176    0.014211\n",
            "3808177    0.014211\n",
            "3808178    0.014211\n",
            "Name: price_change, Length: 2855943, dtype: float64\n"
          ]
        },
        {
          "output_type": "stream",
          "name": "stderr",
          "text": [
            "\r  0%|          | 459/2856834 [03:11<333:48:33,  2.38it/s]"
          ]
        },
        {
          "output_type": "stream",
          "name": "stdout",
          "text": [
            "price_change 1224      -0.000253\n",
            "1225      -0.000253\n",
            "1226      -0.000253\n",
            "1227      -0.000253\n",
            "1228      -0.000253\n",
            "             ...   \n",
            "3808174    0.014211\n",
            "3808175    0.014211\n",
            "3808176    0.014211\n",
            "3808177    0.014211\n",
            "3808178    0.014211\n",
            "Name: price_change, Length: 2855943, dtype: float64\n"
          ]
        },
        {
          "output_type": "stream",
          "name": "stderr",
          "text": [
            "\r  0%|          | 460/2856834 [03:11<345:47:59,  2.29it/s]"
          ]
        },
        {
          "output_type": "stream",
          "name": "stdout",
          "text": [
            "price_change 1224      -0.000253\n",
            "1225      -0.000253\n",
            "1226      -0.000253\n",
            "1227      -0.000253\n",
            "1228      -0.000253\n",
            "             ...   \n",
            "3808174    0.014211\n",
            "3808175    0.014211\n",
            "3808176    0.014211\n",
            "3808177    0.014211\n",
            "3808178    0.014211\n",
            "Name: price_change, Length: 2855943, dtype: float64\n"
          ]
        },
        {
          "output_type": "stream",
          "name": "stderr",
          "text": [
            "\r  0%|          | 461/2856834 [03:12<349:39:11,  2.27it/s]"
          ]
        },
        {
          "output_type": "stream",
          "name": "stdout",
          "text": [
            "price_change 1224      -0.000247\n",
            "1225      -0.000247\n",
            "1226      -0.000247\n",
            "1227      -0.000247\n",
            "1228      -0.000247\n",
            "             ...   \n",
            "3808174    0.014218\n",
            "3808175    0.014218\n",
            "3808176    0.014218\n",
            "3808177    0.014218\n",
            "3808178    0.014218\n",
            "Name: price_change, Length: 2855943, dtype: float64\n"
          ]
        },
        {
          "output_type": "stream",
          "name": "stderr",
          "text": [
            "\r  0%|          | 462/2856834 [03:12<355:32:55,  2.23it/s]"
          ]
        },
        {
          "output_type": "stream",
          "name": "stdout",
          "text": [
            "price_change 1224      -0.000247\n",
            "1225      -0.000247\n",
            "1226      -0.000247\n",
            "1227      -0.000247\n",
            "1228      -0.000247\n",
            "             ...   \n",
            "3808174    0.014218\n",
            "3808175    0.014218\n",
            "3808176    0.014218\n",
            "3808177    0.014218\n",
            "3808178    0.014218\n",
            "Name: price_change, Length: 2855943, dtype: float64\n"
          ]
        },
        {
          "output_type": "stream",
          "name": "stderr",
          "text": [
            "\r  0%|          | 463/2856834 [03:12<346:00:42,  2.29it/s]"
          ]
        },
        {
          "output_type": "stream",
          "name": "stdout",
          "text": [
            "price_change 1224      -0.000247\n",
            "1225      -0.000247\n",
            "1226      -0.000247\n",
            "1227      -0.000247\n",
            "1228      -0.000247\n",
            "             ...   \n",
            "3808174    0.014218\n",
            "3808175    0.014218\n",
            "3808176    0.014218\n",
            "3808177    0.014218\n",
            "3808178    0.014218\n",
            "Name: price_change, Length: 2855943, dtype: float64\n"
          ]
        },
        {
          "output_type": "stream",
          "name": "stderr",
          "text": [
            "\r  0%|          | 464/2856834 [03:13<321:39:43,  2.47it/s]"
          ]
        },
        {
          "output_type": "stream",
          "name": "stdout",
          "text": [
            "price_change 1224      -0.000247\n",
            "1225      -0.000247\n",
            "1226      -0.000247\n",
            "1227      -0.000247\n",
            "1228      -0.000247\n",
            "             ...   \n",
            "3808174    0.014218\n",
            "3808175    0.014218\n",
            "3808176    0.014218\n",
            "3808177    0.014218\n",
            "3808178    0.014218\n",
            "Name: price_change, Length: 2855943, dtype: float64\n"
          ]
        },
        {
          "output_type": "stream",
          "name": "stderr",
          "text": [
            "\r  0%|          | 465/2856834 [03:13<302:47:46,  2.62it/s]"
          ]
        },
        {
          "output_type": "stream",
          "name": "stdout",
          "text": [
            "price_change 1224      -0.000247\n",
            "1225      -0.000247\n",
            "1226      -0.000247\n",
            "1227      -0.000247\n",
            "1228      -0.000247\n",
            "             ...   \n",
            "3808174    0.014218\n",
            "3808175    0.014218\n",
            "3808176    0.014218\n",
            "3808177    0.014218\n",
            "3808178    0.014218\n",
            "Name: price_change, Length: 2855943, dtype: float64\n"
          ]
        },
        {
          "output_type": "stream",
          "name": "stderr",
          "text": [
            "\r  0%|          | 466/2856834 [03:13<292:57:04,  2.71it/s]"
          ]
        },
        {
          "output_type": "stream",
          "name": "stdout",
          "text": [
            "price_change 1224      -0.000247\n",
            "1225      -0.000247\n",
            "1226      -0.000247\n",
            "1227      -0.000247\n",
            "1228      -0.000247\n",
            "             ...   \n",
            "3808174    0.014218\n",
            "3808175    0.014218\n",
            "3808176    0.014218\n",
            "3808177    0.014218\n",
            "3808178    0.014218\n",
            "Name: price_change, Length: 2855943, dtype: float64\n"
          ]
        },
        {
          "output_type": "stream",
          "name": "stderr",
          "text": [
            "\r  0%|          | 467/2856834 [03:14<315:36:46,  2.51it/s]"
          ]
        },
        {
          "output_type": "stream",
          "name": "stdout",
          "text": [
            "price_change 1224      -0.000247\n",
            "1225      -0.000247\n",
            "1226      -0.000247\n",
            "1227      -0.000247\n",
            "1228      -0.000247\n",
            "             ...   \n",
            "3808174    0.014218\n",
            "3808175    0.014218\n",
            "3808176    0.014218\n",
            "3808177    0.014218\n",
            "3808178    0.014218\n",
            "Name: price_change, Length: 2855943, dtype: float64\n"
          ]
        },
        {
          "output_type": "stream",
          "name": "stderr",
          "text": [
            "\r  0%|          | 468/2856834 [03:14<332:41:01,  2.38it/s]"
          ]
        },
        {
          "output_type": "stream",
          "name": "stdout",
          "text": [
            "price_change 1224      -0.000247\n",
            "1225      -0.000247\n",
            "1226      -0.000247\n",
            "1227      -0.000247\n",
            "1228      -0.000247\n",
            "             ...   \n",
            "3808174    0.014218\n",
            "3808175    0.014218\n",
            "3808176    0.014218\n",
            "3808177    0.014218\n",
            "3808178    0.014218\n",
            "Name: price_change, Length: 2855943, dtype: float64\n"
          ]
        },
        {
          "output_type": "stream",
          "name": "stderr",
          "text": [
            "\r  0%|          | 469/2856834 [03:15<312:09:01,  2.54it/s]"
          ]
        },
        {
          "output_type": "stream",
          "name": "stdout",
          "text": [
            "price_change 1224      -0.000247\n",
            "1225      -0.000247\n",
            "1226      -0.000247\n",
            "1227      -0.000247\n",
            "1228      -0.000247\n",
            "             ...   \n",
            "3808174    0.014218\n",
            "3808175    0.014218\n",
            "3808176    0.014218\n",
            "3808177    0.014218\n",
            "3808178    0.014218\n",
            "Name: price_change, Length: 2855943, dtype: float64\n"
          ]
        },
        {
          "output_type": "stream",
          "name": "stderr",
          "text": [
            "\r  0%|          | 470/2856834 [03:15<304:13:05,  2.61it/s]"
          ]
        },
        {
          "output_type": "stream",
          "name": "stdout",
          "text": [
            "price_change 1224      -0.000247\n",
            "1225      -0.000247\n",
            "1226      -0.000247\n",
            "1227      -0.000247\n",
            "1228      -0.000247\n",
            "             ...   \n",
            "3808174    0.014218\n",
            "3808175    0.014218\n",
            "3808176    0.014218\n",
            "3808177    0.014218\n",
            "3808178    0.014218\n",
            "Name: price_change, Length: 2855943, dtype: float64\n"
          ]
        },
        {
          "output_type": "stream",
          "name": "stderr",
          "text": [
            "\r  0%|          | 471/2856834 [03:15<307:18:22,  2.58it/s]"
          ]
        },
        {
          "output_type": "stream",
          "name": "stdout",
          "text": [
            "price_change 1224      -0.000247\n",
            "1225      -0.000247\n",
            "1226      -0.000247\n",
            "1227      -0.000247\n",
            "1228      -0.000247\n",
            "             ...   \n",
            "3808174    0.014218\n",
            "3808175    0.014218\n",
            "3808176    0.014218\n",
            "3808177    0.014218\n",
            "3808178    0.014218\n",
            "Name: price_change, Length: 2855943, dtype: float64\n"
          ]
        },
        {
          "output_type": "stream",
          "name": "stderr",
          "text": [
            "\r  0%|          | 472/2856834 [03:16<341:13:17,  2.33it/s]"
          ]
        },
        {
          "output_type": "stream",
          "name": "stdout",
          "text": [
            "price_change 1224      -0.000247\n",
            "1225      -0.000247\n",
            "1226      -0.000247\n",
            "1227      -0.000247\n",
            "1228      -0.000247\n",
            "             ...   \n",
            "3808174    0.014218\n",
            "3808175    0.014218\n",
            "3808176    0.014218\n",
            "3808177    0.014218\n",
            "3808178    0.014218\n",
            "Name: price_change, Length: 2855943, dtype: float64\n"
          ]
        },
        {
          "output_type": "stream",
          "name": "stderr",
          "text": [
            "\r  0%|          | 473/2856834 [03:17<360:28:50,  2.20it/s]"
          ]
        },
        {
          "output_type": "stream",
          "name": "stdout",
          "text": [
            "price_change 1224      -0.000167\n",
            "1225      -0.000167\n",
            "1226      -0.000167\n",
            "1227      -0.000167\n",
            "1228      -0.000167\n",
            "             ...   \n",
            "3808174    0.014299\n",
            "3808175    0.014299\n",
            "3808176    0.014299\n",
            "3808177    0.014299\n",
            "3808178    0.014299\n",
            "Name: price_change, Length: 2855943, dtype: float64\n"
          ]
        },
        {
          "output_type": "stream",
          "name": "stderr",
          "text": [
            "\r  0%|          | 474/2856834 [03:17<339:51:19,  2.33it/s]"
          ]
        },
        {
          "output_type": "stream",
          "name": "stdout",
          "text": [
            "price_change 1224      -0.000099\n",
            "1225      -0.000099\n",
            "1226      -0.000099\n",
            "1227      -0.000099\n",
            "1228      -0.000099\n",
            "             ...   \n",
            "3808174    0.014368\n",
            "3808175    0.014368\n",
            "3808176    0.014368\n",
            "3808177    0.014368\n",
            "3808178    0.014368\n",
            "Name: price_change, Length: 2855943, dtype: float64\n"
          ]
        },
        {
          "output_type": "stream",
          "name": "stderr",
          "text": [
            "\r  0%|          | 475/2856834 [03:17<325:00:09,  2.44it/s]"
          ]
        },
        {
          "output_type": "stream",
          "name": "stdout",
          "text": [
            "price_change 1224      -0.000099\n",
            "1225      -0.000099\n",
            "1226      -0.000099\n",
            "1227      -0.000099\n",
            "1228      -0.000099\n",
            "             ...   \n",
            "3808174    0.014368\n",
            "3808175    0.014368\n",
            "3808176    0.014368\n",
            "3808177    0.014368\n",
            "3808178    0.014368\n",
            "Name: price_change, Length: 2855943, dtype: float64\n"
          ]
        },
        {
          "output_type": "stream",
          "name": "stderr",
          "text": [
            "\r  0%|          | 476/2856834 [03:18<315:40:19,  2.51it/s]"
          ]
        },
        {
          "output_type": "stream",
          "name": "stdout",
          "text": [
            "price_change 1224      -0.000099\n",
            "1225      -0.000099\n",
            "1226      -0.000099\n",
            "1227      -0.000099\n",
            "1228      -0.000099\n",
            "             ...   \n",
            "3808174    0.014368\n",
            "3808175    0.014368\n",
            "3808176    0.014368\n",
            "3808177    0.014368\n",
            "3808178    0.014368\n",
            "Name: price_change, Length: 2855943, dtype: float64\n"
          ]
        },
        {
          "output_type": "stream",
          "name": "stderr",
          "text": [
            "\r  0%|          | 477/2856834 [03:18<308:19:54,  2.57it/s]"
          ]
        },
        {
          "output_type": "stream",
          "name": "stdout",
          "text": [
            "price_change 1224      -0.000080\n",
            "1225      -0.000080\n",
            "1226      -0.000080\n",
            "1227      -0.000080\n",
            "1228      -0.000080\n",
            "             ...   \n",
            "3808174    0.014387\n",
            "3808175    0.014387\n",
            "3808176    0.014387\n",
            "3808177    0.014387\n",
            "3808178    0.014387\n",
            "Name: price_change, Length: 2855943, dtype: float64\n"
          ]
        },
        {
          "output_type": "stream",
          "name": "stderr",
          "text": [
            "\r  0%|          | 478/2856834 [03:18<307:38:28,  2.58it/s]"
          ]
        },
        {
          "output_type": "stream",
          "name": "stdout",
          "text": [
            "price_change 1224      -0.000080\n",
            "1225      -0.000080\n",
            "1226      -0.000080\n",
            "1227      -0.000080\n",
            "1228      -0.000080\n",
            "             ...   \n",
            "3808174    0.014387\n",
            "3808175    0.014387\n",
            "3808176    0.014387\n",
            "3808177    0.014387\n",
            "3808178    0.014387\n",
            "Name: price_change, Length: 2855943, dtype: float64\n"
          ]
        },
        {
          "output_type": "stream",
          "name": "stderr",
          "text": [
            "\r  0%|          | 479/2856834 [03:19<307:03:34,  2.58it/s]"
          ]
        },
        {
          "output_type": "stream",
          "name": "stdout",
          "text": [
            "price_change 1224      -0.000080\n",
            "1225      -0.000080\n",
            "1226      -0.000080\n",
            "1227      -0.000080\n",
            "1228      -0.000080\n",
            "             ...   \n",
            "3808174    0.014387\n",
            "3808175    0.014387\n",
            "3808176    0.014387\n",
            "3808177    0.014387\n",
            "3808178    0.014387\n",
            "Name: price_change, Length: 2855943, dtype: float64\n"
          ]
        },
        {
          "output_type": "stream",
          "name": "stderr",
          "text": [
            "\r  0%|          | 480/2856834 [03:19<306:00:48,  2.59it/s]"
          ]
        },
        {
          "output_type": "stream",
          "name": "stdout",
          "text": [
            "price_change 1224      -0.000080\n",
            "1225      -0.000080\n",
            "1226      -0.000080\n",
            "1227      -0.000080\n",
            "1228      -0.000080\n",
            "             ...   \n",
            "3808174    0.014387\n",
            "3808175    0.014387\n",
            "3808176    0.014387\n",
            "3808177    0.014387\n",
            "3808178    0.014387\n",
            "Name: price_change, Length: 2855943, dtype: float64\n"
          ]
        },
        {
          "output_type": "stream",
          "name": "stderr",
          "text": [
            "\r  0%|          | 481/2856834 [03:19<295:17:55,  2.69it/s]"
          ]
        },
        {
          "output_type": "stream",
          "name": "stdout",
          "text": [
            "price_change 1224      -0.000080\n",
            "1225      -0.000080\n",
            "1226      -0.000080\n",
            "1227      -0.000080\n",
            "1228      -0.000080\n",
            "             ...   \n",
            "3808174    0.014387\n",
            "3808175    0.014387\n",
            "3808176    0.014387\n",
            "3808177    0.014387\n",
            "3808178    0.014387\n",
            "Name: price_change, Length: 2855943, dtype: float64\n"
          ]
        },
        {
          "output_type": "stream",
          "name": "stderr",
          "text": [
            "\r  0%|          | 482/2856834 [03:20<281:13:28,  2.82it/s]"
          ]
        },
        {
          "output_type": "stream",
          "name": "stdout",
          "text": [
            "price_change 1224      -0.000074\n",
            "1225      -0.000074\n",
            "1226      -0.000074\n",
            "1227      -0.000074\n",
            "1228      -0.000074\n",
            "             ...   \n",
            "3808174    0.014393\n",
            "3808175    0.014393\n",
            "3808176    0.014393\n",
            "3808177    0.014393\n",
            "3808178    0.014393\n",
            "Name: price_change, Length: 2855943, dtype: float64\n"
          ]
        },
        {
          "output_type": "stream",
          "name": "stderr",
          "text": [
            "\r  0%|          | 483/2856834 [03:20<272:57:13,  2.91it/s]"
          ]
        },
        {
          "output_type": "stream",
          "name": "stdout",
          "text": [
            "price_change 1224      -0.000074\n",
            "1225      -0.000074\n",
            "1226      -0.000074\n",
            "1227      -0.000074\n",
            "1228      -0.000074\n",
            "             ...   \n",
            "3808174    0.014393\n",
            "3808175    0.014393\n",
            "3808176    0.014393\n",
            "3808177    0.014393\n",
            "3808178    0.014393\n",
            "Name: price_change, Length: 2855943, dtype: float64\n"
          ]
        },
        {
          "output_type": "stream",
          "name": "stderr",
          "text": [
            "\r  0%|          | 484/2856834 [03:20<267:13:36,  2.97it/s]"
          ]
        },
        {
          "output_type": "stream",
          "name": "stdout",
          "text": [
            "price_change 1224      -0.000062\n",
            "1225      -0.000062\n",
            "1226      -0.000062\n",
            "1227      -0.000062\n",
            "1228      -0.000062\n",
            "             ...   \n",
            "3808174    0.014406\n",
            "3808175    0.014406\n",
            "3808176    0.014406\n",
            "3808177    0.014406\n",
            "3808178    0.014406\n",
            "Name: price_change, Length: 2855943, dtype: float64\n"
          ]
        },
        {
          "output_type": "stream",
          "name": "stderr",
          "text": [
            "\r  0%|          | 485/2856834 [03:21<261:10:38,  3.04it/s]"
          ]
        },
        {
          "output_type": "stream",
          "name": "stdout",
          "text": [
            "price_change 1224      -0.000062\n",
            "1225      -0.000062\n",
            "1226      -0.000062\n",
            "1227      -0.000062\n",
            "1228      -0.000062\n",
            "             ...   \n",
            "3808174    0.014406\n",
            "3808175    0.014406\n",
            "3808176    0.014406\n",
            "3808177    0.014406\n",
            "3808178    0.014406\n",
            "Name: price_change, Length: 2855943, dtype: float64\n"
          ]
        },
        {
          "output_type": "stream",
          "name": "stderr",
          "text": [
            "\r  0%|          | 486/2856834 [03:21<257:20:01,  3.08it/s]"
          ]
        },
        {
          "output_type": "stream",
          "name": "stdout",
          "text": [
            "price_change 1224      -0.000062\n",
            "1225      -0.000062\n",
            "1226      -0.000062\n",
            "1227      -0.000062\n",
            "1228      -0.000062\n",
            "             ...   \n",
            "3808174    0.014406\n",
            "3808175    0.014406\n",
            "3808176    0.014406\n",
            "3808177    0.014406\n",
            "3808178    0.014406\n",
            "Name: price_change, Length: 2855943, dtype: float64\n"
          ]
        },
        {
          "output_type": "stream",
          "name": "stderr",
          "text": [
            "\r  0%|          | 487/2856834 [03:21<256:03:11,  3.10it/s]"
          ]
        },
        {
          "output_type": "stream",
          "name": "stdout",
          "text": [
            "price_change 1224      -0.000062\n",
            "1225      -0.000062\n",
            "1226      -0.000062\n",
            "1227      -0.000062\n",
            "1228      -0.000062\n",
            "             ...   \n",
            "3808174    0.014406\n",
            "3808175    0.014406\n",
            "3808176    0.014406\n",
            "3808177    0.014406\n",
            "3808178    0.014406\n",
            "Name: price_change, Length: 2855943, dtype: float64\n"
          ]
        },
        {
          "output_type": "stream",
          "name": "stderr",
          "text": [
            "\r  0%|          | 488/2856834 [03:22<275:01:44,  2.88it/s]"
          ]
        },
        {
          "output_type": "stream",
          "name": "stdout",
          "text": [
            "price_change 1224      -0.000062\n",
            "1225      -0.000062\n",
            "1226      -0.000062\n",
            "1227      -0.000062\n",
            "1228      -0.000062\n",
            "             ...   \n",
            "3808174    0.014406\n",
            "3808175    0.014406\n",
            "3808176    0.014406\n",
            "3808177    0.014406\n",
            "3808178    0.014406\n",
            "Name: price_change, Length: 2855943, dtype: float64\n"
          ]
        },
        {
          "output_type": "stream",
          "name": "stderr",
          "text": [
            "\r  0%|          | 489/2856834 [03:22<301:48:41,  2.63it/s]"
          ]
        },
        {
          "output_type": "stream",
          "name": "stdout",
          "text": [
            "price_change 1224      -0.000062\n",
            "1225      -0.000062\n",
            "1226      -0.000062\n",
            "1227      -0.000062\n",
            "1228      -0.000062\n",
            "             ...   \n",
            "3808174    0.014406\n",
            "3808175    0.014406\n",
            "3808176    0.014406\n",
            "3808177    0.014406\n",
            "3808178    0.014406\n",
            "Name: price_change, Length: 2855943, dtype: float64\n"
          ]
        },
        {
          "output_type": "stream",
          "name": "stderr",
          "text": [
            "\r  0%|          | 490/2856834 [03:23<320:17:45,  2.48it/s]"
          ]
        },
        {
          "output_type": "stream",
          "name": "stdout",
          "text": [
            "price_change 1224      -0.000062\n",
            "1225      -0.000062\n",
            "1226      -0.000062\n",
            "1227      -0.000062\n",
            "1228      -0.000062\n",
            "             ...   \n",
            "3808174    0.014406\n",
            "3808175    0.014406\n",
            "3808176    0.014406\n",
            "3808177    0.014406\n",
            "3808178    0.014406\n",
            "Name: price_change, Length: 2855943, dtype: float64\n"
          ]
        },
        {
          "output_type": "stream",
          "name": "stderr",
          "text": [
            "\r  0%|          | 491/2856834 [03:23<330:46:27,  2.40it/s]"
          ]
        },
        {
          "output_type": "stream",
          "name": "stdout",
          "text": [
            "price_change 1224      -0.000062\n",
            "1225      -0.000062\n",
            "1226      -0.000062\n",
            "1227      -0.000062\n",
            "1228      -0.000062\n",
            "             ...   \n",
            "3808174    0.014406\n",
            "3808175    0.014406\n",
            "3808176    0.014406\n",
            "3808177    0.014406\n",
            "3808178    0.014406\n",
            "Name: price_change, Length: 2855943, dtype: float64\n"
          ]
        },
        {
          "output_type": "stream",
          "name": "stderr",
          "text": [
            "\r  0%|          | 492/2856834 [03:24<342:09:52,  2.32it/s]"
          ]
        },
        {
          "output_type": "stream",
          "name": "stdout",
          "text": [
            "price_change 1224      -0.000062\n",
            "1225      -0.000062\n",
            "1226      -0.000062\n",
            "1227      -0.000062\n",
            "1228      -0.000062\n",
            "             ...   \n",
            "3808174    0.014406\n",
            "3808175    0.014406\n",
            "3808176    0.014406\n",
            "3808177    0.014406\n",
            "3808178    0.014406\n",
            "Name: price_change, Length: 2855943, dtype: float64\n"
          ]
        },
        {
          "output_type": "stream",
          "name": "stderr",
          "text": [
            "\r  0%|          | 493/2856834 [03:24<319:32:51,  2.48it/s]"
          ]
        },
        {
          "output_type": "stream",
          "name": "stdout",
          "text": [
            "price_change 1224      -0.000059\n",
            "1225      -0.000059\n",
            "1226      -0.000059\n",
            "1227      -0.000059\n",
            "1228      -0.000059\n",
            "             ...   \n",
            "3808174    0.014409\n",
            "3808175    0.014409\n",
            "3808176    0.014409\n",
            "3808177    0.014409\n",
            "3808178    0.014409\n",
            "Name: price_change, Length: 2855943, dtype: float64\n"
          ]
        },
        {
          "output_type": "stream",
          "name": "stderr",
          "text": [
            "\r  0%|          | 494/2856834 [03:24<299:57:10,  2.65it/s]"
          ]
        },
        {
          "output_type": "stream",
          "name": "stdout",
          "text": [
            "price_change 1224      -0.000059\n",
            "1225      -0.000059\n",
            "1226      -0.000059\n",
            "1227      -0.000059\n",
            "1228      -0.000059\n",
            "             ...   \n",
            "3808174    0.014409\n",
            "3808175    0.014409\n",
            "3808176    0.014409\n",
            "3808177    0.014409\n",
            "3808178    0.014409\n",
            "Name: price_change, Length: 2855943, dtype: float64\n"
          ]
        },
        {
          "output_type": "stream",
          "name": "stderr",
          "text": [
            "\r  0%|          | 495/2856834 [03:25<284:49:18,  2.79it/s]"
          ]
        },
        {
          "output_type": "stream",
          "name": "stdout",
          "text": [
            "price_change 1224      -0.000056\n",
            "1225      -0.000056\n",
            "1226      -0.000056\n",
            "1227      -0.000056\n",
            "1228      -0.000056\n",
            "             ...   \n",
            "3808174    0.014412\n",
            "3808175    0.014412\n",
            "3808176    0.014412\n",
            "3808177    0.014412\n",
            "3808178    0.014412\n",
            "Name: price_change, Length: 2855943, dtype: float64\n"
          ]
        },
        {
          "output_type": "stream",
          "name": "stderr",
          "text": [
            "\r  0%|          | 496/2856834 [03:25<303:57:14,  2.61it/s]"
          ]
        },
        {
          "output_type": "stream",
          "name": "stdout",
          "text": [
            "price_change 1224      -0.000056\n",
            "1225      -0.000056\n",
            "1226      -0.000056\n",
            "1227      -0.000056\n",
            "1228      -0.000056\n",
            "             ...   \n",
            "3808174    0.014412\n",
            "3808175    0.014412\n",
            "3808176    0.014412\n",
            "3808177    0.014412\n",
            "3808178    0.014412\n",
            "Name: price_change, Length: 2855943, dtype: float64\n"
          ]
        },
        {
          "output_type": "stream",
          "name": "stderr",
          "text": [
            "\r  0%|          | 497/2856834 [03:25<320:10:10,  2.48it/s]"
          ]
        },
        {
          "output_type": "stream",
          "name": "stdout",
          "text": [
            "price_change 1224      -0.000056\n",
            "1225      -0.000056\n",
            "1226      -0.000056\n",
            "1227      -0.000056\n",
            "1228      -0.000056\n",
            "             ...   \n",
            "3808174    0.014412\n",
            "3808175    0.014412\n",
            "3808176    0.014412\n",
            "3808177    0.014412\n",
            "3808178    0.014412\n",
            "Name: price_change, Length: 2855943, dtype: float64\n"
          ]
        },
        {
          "output_type": "stream",
          "name": "stderr",
          "text": [
            "\r  0%|          | 498/2856834 [03:26<331:24:18,  2.39it/s]"
          ]
        },
        {
          "output_type": "stream",
          "name": "stdout",
          "text": [
            "price_change 1224      -0.000056\n",
            "1225      -0.000056\n",
            "1226      -0.000056\n",
            "1227      -0.000056\n",
            "1228      -0.000056\n",
            "             ...   \n",
            "3808174    0.014412\n",
            "3808175    0.014412\n",
            "3808176    0.014412\n",
            "3808177    0.014412\n",
            "3808178    0.014412\n",
            "Name: price_change, Length: 2855943, dtype: float64\n"
          ]
        },
        {
          "output_type": "stream",
          "name": "stderr",
          "text": [
            "\r  0%|          | 499/2856834 [03:26<342:21:42,  2.32it/s]"
          ]
        },
        {
          "output_type": "stream",
          "name": "stdout",
          "text": [
            "price_change 1224      -0.000056\n",
            "1225      -0.000056\n",
            "1226      -0.000056\n",
            "1227      -0.000056\n",
            "1228      -0.000056\n",
            "             ...   \n",
            "3808174    0.014412\n",
            "3808175    0.014412\n",
            "3808176    0.014412\n",
            "3808177    0.014412\n",
            "3808178    0.014412\n",
            "Name: price_change, Length: 2855943, dtype: float64\n"
          ]
        },
        {
          "output_type": "stream",
          "name": "stderr",
          "text": [
            "\r  0%|          | 500/2856834 [03:27<350:15:41,  2.27it/s]"
          ]
        },
        {
          "output_type": "stream",
          "name": "stdout",
          "text": [
            "price_change 1224      -0.000056\n",
            "1225      -0.000056\n",
            "1226      -0.000056\n",
            "1227      -0.000056\n",
            "1228      -0.000056\n",
            "             ...   \n",
            "3808174    0.014412\n",
            "3808175    0.014412\n",
            "3808176    0.014412\n",
            "3808177    0.014412\n",
            "3808178    0.014412\n",
            "Name: price_change, Length: 2855943, dtype: float64\n"
          ]
        },
        {
          "output_type": "stream",
          "name": "stderr",
          "text": [
            "\r  0%|          | 501/2856834 [03:27<353:59:20,  2.24it/s]"
          ]
        }
      ]
    },
    {
      "cell_type": "code",
      "source": [],
      "metadata": {
        "id": "4qF6gQMcbbYV"
      },
      "execution_count": 92,
      "outputs": []
    }
  ]
}